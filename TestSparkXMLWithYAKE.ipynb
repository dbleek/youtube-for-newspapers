{
 "cells": [
  {
   "cell_type": "code",
   "execution_count": 1,
   "id": "0dca1e07",
   "metadata": {},
   "outputs": [
    {
     "name": "stdout",
     "output_type": "stream",
     "text": [
      "Defaulting to user installation because normal site-packages is not writeable\n",
      "Requirement already satisfied: sparknlp in /home/dmb443/.local/lib/python3.11/site-packages (1.0.0)\n",
      "Requirement already satisfied: pymongo in /home/dmb443/.local/lib/python3.11/site-packages (4.6.3)\n",
      "Requirement already satisfied: spark-nlp in /home/dmb443/.local/lib/python3.11/site-packages (from sparknlp) (5.3.3)\n",
      "Requirement already satisfied: numpy in /share/apps/anaconda3/2024.02/lib/python3.11/site-packages (from sparknlp) (1.26.4)\n",
      "Requirement already satisfied: dnspython<3.0.0,>=1.16.0 in /home/dmb443/.local/lib/python3.11/site-packages (from pymongo) (2.6.1)\n"
     ]
    }
   ],
   "source": [
    "!pip install sparknlp pymongo"
   ]
  },
  {
   "cell_type": "code",
   "execution_count": null,
   "id": "b8df6809",
   "metadata": {},
   "outputs": [],
   "source": [
    "import pyspark\n",
    "conf = pyspark.SparkConf()\n",
    "conf.set('spark.jars.packages', \n",
    "         \"org.mongodb.spark:mongo-spark-connector_2.12:3.0.1,com.databricks:spark-xml_2.12:0.18.0,com.johnsnowlabs.nlp:spark-nlp_2.12:5.3.3\")\n",
    "conf.set('spark.driver.memory','8g')\n",
    "sc = pyspark.SparkContext(conf=conf)\n",
    "spark = pyspark.SQLContext.getOrCreate(sc)\n",
    "spark"
   ]
  },
  {
   "cell_type": "code",
   "execution_count": null,
   "id": "8dfe89f6",
   "metadata": {},
   "outputs": [],
   "source": [
    "# PATH = '/scratch/ob2205/shared/ip/ip_address.txt'\n",
    "# ip_df = spark.read.text(PATH)\n",
    "# ip_address = ip_df.head(1)[0].value\n",
    "# ip_address"
   ]
  },
  {
   "cell_type": "code",
   "execution_count": null,
   "id": "e64df7e3",
   "metadata": {},
   "outputs": [],
   "source": [
    "spark.sparkSession"
   ]
  },
  {
   "cell_type": "code",
   "execution_count": 3,
   "id": "4a965116-2e43-4a56-8ca1-c12f888d2ed4",
   "metadata": {},
   "outputs": [],
   "source": [
    "# Connecting to hosted MongoDB, must replace <password>\n",
    "uri = \"mongodb+srv://dmb443:<password>@big-data-test.v2r6q8q.mongodb.net/?retryWrites=true&w=majority&appName=big-data-test\""
   ]
  },
  {
   "cell_type": "code",
   "execution_count": 4,
   "id": "c33a08d4",
   "metadata": {},
   "outputs": [],
   "source": [
    "from pymongo import MongoClient       \n",
    "\n",
    "client = MongoClient(uri)"
   ]
  },
  {
   "cell_type": "code",
   "execution_count": 5,
   "id": "c7e285c7",
   "metadata": {},
   "outputs": [
    {
     "data": {
      "text/plain": [
       "{'version': '7.0.8',\n",
       " 'gitVersion': 'c5d33e55ba38d98e2f48765ec4e55338d67a4a64',\n",
       " 'modules': ['enterprise'],\n",
       " 'allocator': 'tcmalloc',\n",
       " 'javascriptEngine': 'mozjs',\n",
       " 'sysInfo': 'deprecated',\n",
       " 'versionArray': [7, 0, 8, 0],\n",
       " 'bits': 64,\n",
       " 'debug': False,\n",
       " 'maxBsonObjectSize': 16777216,\n",
       " 'storageEngines': ['devnull', 'inMemory', 'queryable_wt', 'wiredTiger'],\n",
       " 'ok': 1.0,\n",
       " '$clusterTime': {'clusterTime': Timestamp(1713648020, 22),\n",
       "  'signature': {'hash': b'\\xfd\\x87!\\x8dd\\xf5\\x0c\\x1b<x\\x17+\\x08\\xfa\\x8a=A\\x14\\x0ed',\n",
       "   'keyId': 7314028653082312741}},\n",
       " 'operationTime': Timestamp(1713648020, 22)}"
      ]
     },
     "execution_count": 5,
     "metadata": {},
     "output_type": "execute_result"
    }
   ],
   "source": [
    "client.server_info()"
   ]
  },
  {
   "cell_type": "code",
   "execution_count": 15,
   "id": "c11f6310",
   "metadata": {},
   "outputs": [],
   "source": [
    "db=client.test"
   ]
  },
  {
   "cell_type": "code",
   "execution_count": 9,
   "id": "ce62014c-dfa6-499c-9756-81accc1a4b8f",
   "metadata": {},
   "outputs": [
    {
     "data": {
      "text/plain": [
       "Database(MongoClient(host=['ac-aobzobp-shard-00-00.v2r6q8q.mongodb.net:27017', 'ac-aobzobp-shard-00-01.v2r6q8q.mongodb.net:27017', 'ac-aobzobp-shard-00-02.v2r6q8q.mongodb.net:27017'], document_class=dict, tz_aware=False, connect=True, retrywrites=True, w='majority', appname='big-data-test', authsource='admin', replicaset='atlas-dm0sz8-shard-0', tls=True), 'test')"
      ]
     },
     "execution_count": 9,
     "metadata": {},
     "output_type": "execute_result"
    }
   ],
   "source": [
    "db"
   ]
  },
  {
   "cell_type": "code",
   "execution_count": 9,
   "id": "2bfdb64d",
   "metadata": {},
   "outputs": [
    {
     "data": {
      "text/plain": [
       "'version 2.12.18'"
      ]
     },
     "execution_count": 9,
     "metadata": {},
     "output_type": "execute_result"
    }
   ],
   "source": [
    "# Get Scala Version\n",
    "sc._gateway.jvm.scala.util.Properties.versionString()"
   ]
  },
  {
   "cell_type": "code",
   "execution_count": null,
   "id": "4c548090",
   "metadata": {},
   "outputs": [],
   "source": [
    "import os\n",
    "from zipfile import ZipFile\n",
    "source_path = \"/scratch/work/public/proquest/proquest_hnp/BostonGlobe/BG_20151210212722_00001.zip\"\n",
    "with ZipFile(source_path, \"r\") as zip:\n",
    "    print(zip.infolist())\n",
    "    zip.extract('250949924.xml', 'zip_tmp')\n",
    "    zip.extract('250947646.xml', 'zip_tmp')"
   ]
  },
  {
   "cell_type": "code",
   "execution_count": 10,
   "id": "7a275855",
   "metadata": {},
   "outputs": [],
   "source": [
    "df = spark.read\\\n",
    "    .option('rootTag', 'Record')\\\n",
    "    .option('rowTag', 'Record')\\\n",
    "    .option('recursiveFileLookup', 'true')\\\n",
    "    .format(\"xml\").load(\"zip_tmp\")"
   ]
  },
  {
   "cell_type": "code",
   "execution_count": 11,
   "id": "faf3393d",
   "metadata": {
    "scrolled": true
   },
   "outputs": [
    {
     "name": "stdout",
     "output_type": "stream",
     "text": [
      "root\n",
      " |-- ActionCode: string (nullable = true)\n",
      " |-- AlphaPubDate: string (nullable = true)\n",
      " |-- DateTimeStamp: long (nullable = true)\n",
      " |-- FullText: string (nullable = true)\n",
      " |-- LanguageCode: string (nullable = true)\n",
      " |-- NumericPubDate: long (nullable = true)\n",
      " |-- ObjectType: array (nullable = true)\n",
      " |    |-- element: string (containsNull = true)\n",
      " |-- Products: struct (nullable = true)\n",
      " |    |-- Product: array (nullable = true)\n",
      " |    |    |-- element: struct (containsNull = true)\n",
      " |    |    |    |-- HasFullText: boolean (nullable = true)\n",
      " |    |    |    |-- ProductID: long (nullable = true)\n",
      " |-- Publication: struct (nullable = true)\n",
      " |    |-- PublicationID: long (nullable = true)\n",
      " |    |-- Qualifier: string (nullable = true)\n",
      " |    |-- Title: string (nullable = true)\n",
      " |-- Publisher: string (nullable = true)\n",
      " |-- RecordID: long (nullable = true)\n",
      " |-- RecordTitle: string (nullable = true)\n",
      " |-- SourceType: string (nullable = true)\n",
      " |-- StartPage: long (nullable = true)\n",
      " |-- URLDocView: string (nullable = true)\n",
      " |-- Version: string (nullable = true)\n",
      "\n"
     ]
    }
   ],
   "source": [
    "df.printSchema()"
   ]
  },
  {
   "cell_type": "code",
   "execution_count": 12,
   "id": "5f4ea841",
   "metadata": {},
   "outputs": [
    {
     "name": "stderr",
     "output_type": "stream",
     "text": [
      "[Stage 2:>                                                          (0 + 1) / 1]\r"
     ]
    },
    {
     "name": "stdout",
     "output_type": "stream",
     "text": [
      "+---------+--------------------+------------+--------------+--------------------+--------------------+\n",
      "| RecordID|           Publisher|AlphaPubDate|NumericPubDate|         RecordTitle|          SourceType|\n",
      "+---------+--------------------+------------+--------------+--------------------+--------------------+\n",
      "|250949924|New York Times Co...| Nov 5, 1927|      19271105|OUT WHERE the OPE...|Historical Newspa...|\n",
      "|250947646|New York Times Co...| Dec 2, 1927|      19271202|PREDICTS MERGERS ...|Historical Newspa...|\n",
      "+---------+--------------------+------------+--------------+--------------------+--------------------+\n",
      "\n"
     ]
    },
    {
     "name": "stderr",
     "output_type": "stream",
     "text": [
      "                                                                                \r"
     ]
    }
   ],
   "source": [
    "df.select('RecordID', 'Publisher', 'AlphaPubDate', 'NumericPubDate', 'RecordTitle', 'SourceType').show(2)"
   ]
  },
  {
   "cell_type": "code",
   "execution_count": 13,
   "id": "92ccb11b-4039-4327-bf57-21d97a1fac14",
   "metadata": {},
   "outputs": [
    {
     "name": "stderr",
     "output_type": "stream",
     "text": [
      "                                                                                \r"
     ]
    }
   ],
   "source": [
    "# Save to mongo\n",
    "df.write.format(\"com.mongodb.spark.sql.DefaultSource\")\\\n",
    "    .mode(\"overwrite\")\\\n",
    "    .option(\"database\", \"test\")\\\n",
    "    .option(\"collection\", \"newspapers\")\\\n",
    "    .option(\"uri\", uri)\\\n",
    "    .save()"
   ]
  },
  {
   "cell_type": "code",
   "execution_count": null,
   "id": "0ff5f2a9",
   "metadata": {
    "scrolled": true
   },
   "outputs": [],
   "source": [
    "# # Save to mongo\n",
    "# df.write.format('com.mongodb.spark.sql.DefaultSource')\\\n",
    "#     .option(\"spark.mongodb.output.uri\",f\"{ip_address}\\test.newspapers\")\\\n",
    "#     .save()"
   ]
  },
  {
   "cell_type": "code",
   "execution_count": 16,
   "id": "8ba10af1",
   "metadata": {},
   "outputs": [
    {
     "data": {
      "text/plain": [
       "['newspapers']"
      ]
     },
     "execution_count": 16,
     "metadata": {},
     "output_type": "execute_result"
    }
   ],
   "source": [
    "db.list_collection_names()"
   ]
  },
  {
   "cell_type": "code",
   "execution_count": 17,
   "id": "4c8b77a3",
   "metadata": {},
   "outputs": [
    {
     "data": {
      "text/plain": [
       "{'_id': ObjectId('662432274db4621eb50e699e'),\n",
       " 'ActionCode': 'change',\n",
       " 'AlphaPubDate': 'Nov 5, 1927',\n",
       " 'DateTimeStamp': 20151210160011,\n",
       " 'FullText': '                                                                                                JOrWues ye\\'                 9 Open BEGmms                 ITH wild grass turned                 trown and were, the beasts of field and wood must turn to something else to stay the pangs of hunger. Hooted animals Ike the deer so widely distributed and the moose and caribou of Northern New England are eaters of grass and the bumble rabbit and bare must be included as lovers of this plain but succulent forage.                 These animate have the browsing habit. Necessity compels it. They find their living. not only on wild grasses, but upon the shrub.                 bery bordering waters and in the woods. Browsing is the act of anipping off the tender shoots of shrubs and various trees.                 Browse is of an excessively nutritious chaTacter. and this growth from the sprouts and young herbage of the wooda is more than twice as nutritious as the best pasture grass. Farmer, might take a hint from this. Many a fence row could be kept clear of the common brush which disfigures the average farm property. The wild creatures addicted to the browsing habit never grow thin. even during a long. tough Winter.                 Edwin C. Hobpon.                 AT                 DO 1O U/ NOO We^                 WHO ia the famous Amertcan composer                 of marches who will be 73 years old tomorrow?                 WHY is damask so called?                 WHAT Central American republic was                 recognized by President Rfoosevetl                 24 years ago tomorrow?                 WHEN was the telephone Invented?                 WHERE is the longest river in the                 United States?                 Answers to Yesterday\\'s Queries                 Hetty Green was Amerioa\\'s.most fa                 mous woman Anancler.                 Cata can see in comparative darkness                 because the pupils of their eye, can expand so that they can take advantage of every particle of Ifght no matter how slight.                 Belgium was recently declared not to                 be reeligible for membership In th^i League of Nations.                 The regular session of the next Congress                 meets on Dec 6.                 The quotation. \"The short and simple                 annals of the poor,\" occurs in Grey\\'s \"Elegy in a Country Churchyard.\"                 Willing to Walt                 A man was convicted for steallag a horse.                 \"Yours is a very serious offesW the judge said tq him, very sternly. I\"Fifty jears ago it was a hanging                 matter.                 \"Well.\" replied the pasoner \"in 50 years time it mayn\\'t be a ortae at al.\"-4tray Stories.                         ',\n",
       " 'LanguageCode': 'ENG',\n",
       " 'NumericPubDate': 19271105,\n",
       " 'ObjectType': ['Feature', 'Article'],\n",
       " 'Products': {'Product': [{'HasFullText': True, 'ProductID': 1006466},\n",
       "   {'HasFullText': True, 'ProductID': 1007871},\n",
       "   {'HasFullText': True, 'ProductID': 1007945},\n",
       "   {'HasFullText': True, 'ProductID': 1008891},\n",
       "   {'HasFullText': True, 'ProductID': 1009043},\n",
       "   {'HasFullText': True, 'ProductID': 10000046},\n",
       "   {'HasFullText': True, 'ProductID': 10000227}]},\n",
       " 'Publication': {'PublicationID': 46043,\n",
       "  'Qualifier': 'Boston, Mass.',\n",
       "  'Title': 'Boston Daily Globe (1923-1927)'},\n",
       " 'Publisher': 'New York Times Company',\n",
       " 'RecordID': 250949924,\n",
       " 'RecordTitle': 'OUT WHERE the OPEN BEGINS',\n",
       " 'SourceType': 'Historical Newspapers',\n",
       " 'StartPage': 15,\n",
       " 'URLDocView': 'http://search.proquest.com/docview/250949924/',\n",
       " 'Version': 'Record_v1.0.xsd'}"
      ]
     },
     "execution_count": 17,
     "metadata": {},
     "output_type": "execute_result"
    }
   ],
   "source": [
    "db.newspapers.find_one()"
   ]
  },
  {
   "cell_type": "code",
   "execution_count": 18,
   "id": "cb1ed138",
   "metadata": {},
   "outputs": [
    {
     "name": "stdout",
     "output_type": "stream",
     "text": [
      "Warning::Spark Session already created, some configs may not take.\n"
     ]
    },
    {
     "name": "stderr",
     "output_type": "stream",
     "text": [
      "24/04/20 17:23:34 WARN SparkSession: Using an existing Spark session; only runtime SQL configurations will take effect.\n"
     ]
    }
   ],
   "source": [
    "import sparknlp\n",
    "\n",
    "from pyspark.ml import PipelineModel\n",
    "from sparknlp.annotator import *\n",
    "from sparknlp.base import *\n",
    "\n",
    "spark = sparknlp.start() # for GPU training >> sparknlp.start(gpu = True) # for Spark 2.3 =>> sparknlp.start(spark23 = True)"
   ]
  },
  {
   "cell_type": "code",
   "execution_count": 19,
   "id": "b3449541",
   "metadata": {},
   "outputs": [
    {
     "name": "stdout",
     "output_type": "stream",
     "text": [
      "Spark NLP version 5.3.3\n",
      "Apache Spark version: 3.5.1\n"
     ]
    }
   ],
   "source": [
    "print(\"Spark NLP version\", sparknlp.version())\n",
    "print(\"Apache Spark version:\", spark.version)"
   ]
  },
  {
   "cell_type": "code",
   "execution_count": 21,
   "id": "bdbaff13-6727-47a1-816b-56b361a0a2c7",
   "metadata": {},
   "outputs": [],
   "source": [
    "# Define YAKE pipeline\n",
    "stopwords = StopWordsCleaner().getStopWords()\n",
    "\n",
    "document = DocumentAssembler() \\\n",
    "            .setInputCol(\"FullText\") \\\n",
    "            .setOutputCol(\"document\")\n",
    "\n",
    "sentenceDetector = SentenceDetector() \\\n",
    "            .setInputCols(\"document\") \\\n",
    "            .setOutputCol(\"sentence\")\n",
    "\n",
    "token = Tokenizer() \\\n",
    "            .setInputCols(\"sentence\") \\\n",
    "            .setOutputCol(\"token\") \\\n",
    "            .setContextChars([\"(\", \")\", \"?\", \"!\", \".\", \",\"])\n",
    "\n",
    "keywords = YakeKeywordExtraction() \\\n",
    "            .setInputCols(\"token\") \\\n",
    "            .setOutputCol(\"keywords\") \\\n",
    "            .setMinNGrams(1) \\\n",
    "            .setMaxNGrams(3)\\\n",
    "            .setNKeywords(100)\\\n",
    "            .setStopWords(stopwords)\n",
    "\n",
    "yake_pipeline = Pipeline(stages=[document, sentenceDetector, token, keywords])"
   ]
  },
  {
   "cell_type": "code",
   "execution_count": 22,
   "id": "05bcbac2-7be8-4111-becc-73d53e4b5620",
   "metadata": {},
   "outputs": [
    {
     "name": "stderr",
     "output_type": "stream",
     "text": [
      "WARNING: An illegal reflective access operation has occurred\n",
      "WARNING: Illegal reflective access by org.apache.spark.util.SizeEstimator$ (file:/home/dmb443/.local/lib/python3.11/site-packages/pyspark/jars/spark-core_2.12-3.5.1.jar) to field java.util.regex.Pattern.pattern\n",
      "WARNING: Please consider reporting this to the maintainers of org.apache.spark.util.SizeEstimator$\n",
      "WARNING: Use --illegal-access=warn to enable warnings of further illegal reflective access operations\n",
      "WARNING: All illegal access operations will be denied in a future release\n"
     ]
    }
   ],
   "source": [
    "# Extract keywords and append to df\n",
    "result = yake_pipeline.fit(df).transform(df)"
   ]
  },
  {
   "cell_type": "code",
   "execution_count": 23,
   "id": "003b2f22-1c8c-4a26-938d-7003a3ac0f84",
   "metadata": {},
   "outputs": [
    {
     "name": "stdout",
     "output_type": "stream",
     "text": [
      "root\n",
      " |-- ActionCode: string (nullable = true)\n",
      " |-- AlphaPubDate: string (nullable = true)\n",
      " |-- DateTimeStamp: long (nullable = true)\n",
      " |-- FullText: string (nullable = true)\n",
      " |-- LanguageCode: string (nullable = true)\n",
      " |-- NumericPubDate: long (nullable = true)\n",
      " |-- ObjectType: array (nullable = true)\n",
      " |    |-- element: string (containsNull = true)\n",
      " |-- Products: struct (nullable = true)\n",
      " |    |-- Product: array (nullable = true)\n",
      " |    |    |-- element: struct (containsNull = true)\n",
      " |    |    |    |-- HasFullText: boolean (nullable = true)\n",
      " |    |    |    |-- ProductID: long (nullable = true)\n",
      " |-- Publication: struct (nullable = true)\n",
      " |    |-- PublicationID: long (nullable = true)\n",
      " |    |-- Qualifier: string (nullable = true)\n",
      " |    |-- Title: string (nullable = true)\n",
      " |-- Publisher: string (nullable = true)\n",
      " |-- RecordID: long (nullable = true)\n",
      " |-- RecordTitle: string (nullable = true)\n",
      " |-- SourceType: string (nullable = true)\n",
      " |-- StartPage: long (nullable = true)\n",
      " |-- URLDocView: string (nullable = true)\n",
      " |-- Version: string (nullable = true)\n",
      " |-- document: array (nullable = true)\n",
      " |    |-- element: struct (containsNull = true)\n",
      " |    |    |-- annotatorType: string (nullable = true)\n",
      " |    |    |-- begin: integer (nullable = false)\n",
      " |    |    |-- end: integer (nullable = false)\n",
      " |    |    |-- result: string (nullable = true)\n",
      " |    |    |-- metadata: map (nullable = true)\n",
      " |    |    |    |-- key: string\n",
      " |    |    |    |-- value: string (valueContainsNull = true)\n",
      " |    |    |-- embeddings: array (nullable = true)\n",
      " |    |    |    |-- element: float (containsNull = false)\n",
      " |-- sentence: array (nullable = true)\n",
      " |    |-- element: struct (containsNull = true)\n",
      " |    |    |-- annotatorType: string (nullable = true)\n",
      " |    |    |-- begin: integer (nullable = false)\n",
      " |    |    |-- end: integer (nullable = false)\n",
      " |    |    |-- result: string (nullable = true)\n",
      " |    |    |-- metadata: map (nullable = true)\n",
      " |    |    |    |-- key: string\n",
      " |    |    |    |-- value: string (valueContainsNull = true)\n",
      " |    |    |-- embeddings: array (nullable = true)\n",
      " |    |    |    |-- element: float (containsNull = false)\n",
      " |-- token: array (nullable = true)\n",
      " |    |-- element: struct (containsNull = true)\n",
      " |    |    |-- annotatorType: string (nullable = true)\n",
      " |    |    |-- begin: integer (nullable = false)\n",
      " |    |    |-- end: integer (nullable = false)\n",
      " |    |    |-- result: string (nullable = true)\n",
      " |    |    |-- metadata: map (nullable = true)\n",
      " |    |    |    |-- key: string\n",
      " |    |    |    |-- value: string (valueContainsNull = true)\n",
      " |    |    |-- embeddings: array (nullable = true)\n",
      " |    |    |    |-- element: float (containsNull = false)\n",
      " |-- keywords: array (nullable = true)\n",
      " |    |-- element: struct (containsNull = true)\n",
      " |    |    |-- annotatorType: string (nullable = true)\n",
      " |    |    |-- begin: integer (nullable = false)\n",
      " |    |    |-- end: integer (nullable = false)\n",
      " |    |    |-- result: string (nullable = true)\n",
      " |    |    |-- metadata: map (nullable = true)\n",
      " |    |    |    |-- key: string\n",
      " |    |    |    |-- value: string (valueContainsNull = true)\n",
      " |    |    |-- embeddings: array (nullable = true)\n",
      " |    |    |    |-- element: float (containsNull = false)\n",
      "\n"
     ]
    }
   ],
   "source": [
    "# df now includes keywords, along with other outputs from pipeline\n",
    "result.printSchema()"
   ]
  },
  {
   "cell_type": "code",
   "execution_count": 160,
   "id": "c33919fd-035e-441a-917b-2d51a37bd301",
   "metadata": {},
   "outputs": [
    {
     "data": {
      "text/html": [
       "<div>\n",
       "<style scoped>\n",
       "    .dataframe tbody tr th:only-of-type {\n",
       "        vertical-align: middle;\n",
       "    }\n",
       "\n",
       "    .dataframe tbody tr th {\n",
       "        vertical-align: top;\n",
       "    }\n",
       "\n",
       "    .dataframe thead th {\n",
       "        text-align: right;\n",
       "    }\n",
       "</style>\n",
       "<table border=\"1\" class=\"dataframe\">\n",
       "  <thead>\n",
       "    <tr style=\"text-align: right;\">\n",
       "      <th></th>\n",
       "      <th>keywords</th>\n",
       "      <th>begin</th>\n",
       "      <th>end</th>\n",
       "      <th>score</th>\n",
       "      <th>sentence</th>\n",
       "    </tr>\n",
       "  </thead>\n",
       "  <tbody>\n",
       "    <tr>\n",
       "      <th>5</th>\n",
       "      <td>grass</td>\n",
       "      <td>163</td>\n",
       "      <td>167</td>\n",
       "      <td>0.231260</td>\n",
       "      <td>0</td>\n",
       "    </tr>\n",
       "    <tr>\n",
       "      <th>4</th>\n",
       "      <td>wild</td>\n",
       "      <td>158</td>\n",
       "      <td>161</td>\n",
       "      <td>0.260285</td>\n",
       "      <td>0</td>\n",
       "    </tr>\n",
       "    <tr>\n",
       "      <th>11</th>\n",
       "      <td>must</td>\n",
       "      <td>237</td>\n",
       "      <td>240</td>\n",
       "      <td>0.357272</td>\n",
       "      <td>0</td>\n",
       "    </tr>\n",
       "    <tr>\n",
       "      <th>1</th>\n",
       "      <td>open</td>\n",
       "      <td>126</td>\n",
       "      <td>129</td>\n",
       "      <td>0.479114</td>\n",
       "      <td>0</td>\n",
       "    </tr>\n",
       "    <tr>\n",
       "      <th>3</th>\n",
       "      <td>ith</td>\n",
       "      <td>154</td>\n",
       "      <td>156</td>\n",
       "      <td>0.479114</td>\n",
       "      <td>0</td>\n",
       "    </tr>\n",
       "    <tr>\n",
       "      <th>113</th>\n",
       "      <td>open begmms ith</td>\n",
       "      <td>126</td>\n",
       "      <td>156</td>\n",
       "      <td>0.522269</td>\n",
       "      <td>0</td>\n",
       "    </tr>\n",
       "    <tr>\n",
       "      <th>109</th>\n",
       "      <td>ith wild</td>\n",
       "      <td>154</td>\n",
       "      <td>161</td>\n",
       "      <td>0.597748</td>\n",
       "      <td>0</td>\n",
       "    </tr>\n",
       "    <tr>\n",
       "      <th>107</th>\n",
       "      <td>open begmms</td>\n",
       "      <td>126</td>\n",
       "      <td>136</td>\n",
       "      <td>0.648148</td>\n",
       "      <td>0</td>\n",
       "    </tr>\n",
       "    <tr>\n",
       "      <th>108</th>\n",
       "      <td>begmms ith</td>\n",
       "      <td>131</td>\n",
       "      <td>156</td>\n",
       "      <td>0.648148</td>\n",
       "      <td>0</td>\n",
       "    </tr>\n",
       "    <tr>\n",
       "      <th>0</th>\n",
       "      <td>jorwues</td>\n",
       "      <td>96</td>\n",
       "      <td>102</td>\n",
       "      <td>0.813940</td>\n",
       "      <td>0</td>\n",
       "    </tr>\n",
       "  </tbody>\n",
       "</table>\n",
       "</div>"
      ],
      "text/plain": [
       "            keywords  begin  end     score sentence\n",
       "5              grass    163  167  0.231260        0\n",
       "4               wild    158  161  0.260285        0\n",
       "11              must    237  240  0.357272        0\n",
       "1               open    126  129  0.479114        0\n",
       "3                ith    154  156  0.479114        0\n",
       "113  open begmms ith    126  156  0.522269        0\n",
       "109         ith wild    154  161  0.597748        0\n",
       "107      open begmms    126  136  0.648148        0\n",
       "108       begmms ith    131  156  0.648148        0\n",
       "0            jorwues     96  102  0.813940        0"
      ]
     },
     "execution_count": 160,
     "metadata": {},
     "output_type": "execute_result"
    }
   ],
   "source": [
    "# Print keywords from one article\n",
    "import pandas as pd\n",
    "\n",
    "result_collect = result.limit(2).collect() \n",
    "\n",
    "keys_df = pd.DataFrame([(k.result, k.begin, k.end, k.metadata['score'],  k.metadata['sentence']) for k in result_collect[0]['keywords']],\n",
    "                       columns = ['keywords','begin','end','score','sentence'])\n",
    "keys_df['score'] = keys_df['score'].astype(float)\n",
    "\n",
    "# ordered by relevance\n",
    "keys_df.sort_values(['sentence','score']).head(10)"
   ]
  },
  {
   "cell_type": "code",
   "execution_count": 35,
   "id": "a422c146-9f8e-4271-92d2-4c23c09e2acf",
   "metadata": {},
   "outputs": [],
   "source": [
    "# Rewrite to mongo\n",
    "result.write.format(\"com.mongodb.spark.sql.DefaultSource\")\\\n",
    "    .mode(\"overwrite\")\\\n",
    "    .option(\"database\", \"test\")\\\n",
    "    .option(\"collection\", \"newspapers\")\\\n",
    "    .option(\"uri\", uri)\\\n",
    "    .save()"
   ]
  },
  {
   "cell_type": "code",
   "execution_count": 164,
   "id": "dcb6b768-4dbd-485a-98f4-0c6967d421de",
   "metadata": {},
   "outputs": [
    {
     "name": "stdout",
     "output_type": "stream",
     "text": [
      "PREDICTS MERGERS IN ICE INDUSTRY\n",
      "OUT WHERE the OPEN BEGINS\n"
     ]
    }
   ],
   "source": [
    "# Filter data and show document titles\n",
    "data = db.newspapers.aggregate([\n",
    "     {'$match': {'$or' : [{'keywords.result': 'grass'}, {'keywords.result': 'mergers'}]}},\n",
    "])\n",
    "\n",
    "for doc in data:\n",
    "    print(doc[\"RecordTitle\"])"
   ]
  }
 ],
 "metadata": {
  "kernelspec": {
   "display_name": "Python 3 (ipykernel)",
   "language": "python",
   "name": "python3"
  },
  "language_info": {
   "codemirror_mode": {
    "name": "ipython",
    "version": 3
   },
   "file_extension": ".py",
   "mimetype": "text/x-python",
   "name": "python",
   "nbconvert_exporter": "python",
   "pygments_lexer": "ipython3",
   "version": "3.11.7"
  }
 },
 "nbformat": 4,
 "nbformat_minor": 5
}
