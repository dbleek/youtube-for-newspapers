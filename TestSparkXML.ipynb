{
 "cells": [
  {
   "cell_type": "code",
   "execution_count": null,
   "id": "b8df6809",
   "metadata": {},
   "outputs": [],
   "source": [
    "import pyspark\n",
    "conf = pyspark.SparkConf()\n",
    "conf.set('spark.jars.packages', \n",
    "         \"org.mongodb.spark:mongo-spark-connector_2.12:3.0.1,com.databricks:spark-xml_2.12:0.18.0\")\n",
    "conf.set('spark.driver.memory','8g')\n",
    "sc = pyspark.SparkContext(conf=conf)\n",
    "spark = pyspark.SQLContext.getOrCreate(sc)\n",
    "spark"
   ]
  },
  {
   "cell_type": "code",
   "execution_count": null,
   "id": "e64df7e3",
   "metadata": {},
   "outputs": [],
   "source": [
    "spark.sparkSession"
   ]
  },
  {
   "cell_type": "code",
   "execution_count": null,
   "id": "c33a08d4",
   "metadata": {},
   "outputs": [],
   "source": [
    "from pymongo import MongoClient       \n",
    "\n",
    "client = MongoClient('10.32.32.4')"
   ]
  },
  {
   "cell_type": "code",
   "execution_count": null,
   "id": "c7e285c7",
   "metadata": {},
   "outputs": [],
   "source": [
    "client.server_info()"
   ]
  },
  {
   "cell_type": "code",
   "execution_count": null,
   "id": "c11f6310",
   "metadata": {},
   "outputs": [],
   "source": [
    "db=client.test\n",
    "db"
   ]
  },
  {
   "cell_type": "code",
   "execution_count": null,
   "id": "2bfdb64d",
   "metadata": {},
   "outputs": [],
   "source": [
    "# Get Scala Version\n",
    "sc._gateway.jvm.scala.util.Properties.versionString()"
   ]
  },
  {
   "cell_type": "code",
   "execution_count": null,
   "id": "4c548090",
   "metadata": {},
   "outputs": [],
   "source": [
    "import os\n",
    "from zipfile import ZipFile\n",
    "source_path = \"/scratch/work/public/proquest/proquest_hnp/BostonGlobe/BG_20151210212722_00001.zip\"\n",
    "with ZipFile(source_path, \"r\") as zip:\n",
    "    print(zip.infolist())\n",
    "    zip.extract('250949924.xml', 'zip_tmp')"
   ]
  },
  {
   "cell_type": "code",
   "execution_count": null,
   "id": "7a275855",
   "metadata": {},
   "outputs": [],
   "source": [
    "df = spark.read\\\n",
    "    .option('rootTag', 'Record')\\\n",
    "    .option('rowTag', 'Record')\\\n",
    "    .format(\"xml\").load(\"zip_tmp/250949924.xml\")"
   ]
  },
  {
   "cell_type": "code",
   "execution_count": null,
   "id": "faf3393d",
   "metadata": {
    "scrolled": true
   },
   "outputs": [],
   "source": [
    "df.printSchema()"
   ]
  },
  {
   "cell_type": "code",
   "execution_count": null,
   "id": "5f4ea841",
   "metadata": {},
   "outputs": [],
   "source": [
    "df.select('RecordID', 'Publisher', 'AlphaPubDate', 'NumericPubDate', 'RecordTitle', 'SourceType').show(2)"
   ]
  },
  {
   "cell_type": "code",
   "execution_count": null,
   "id": "0ff5f2a9",
   "metadata": {},
   "outputs": [],
   "source": [
    "# Save to mongo\n",
    "df.write.format('com.mongodb.spark.sql.DefaultSource')\\\n",
    "    .option('uri','mongodb://10.32.32.4/test.newspapers')\\\n",
    "    .save()"
   ]
  },
  {
   "cell_type": "code",
   "execution_count": null,
   "id": "8ba10af1",
   "metadata": {},
   "outputs": [],
   "source": [
    "db.list_collection_names()"
   ]
  },
  {
   "cell_type": "code",
   "execution_count": null,
   "id": "4c8b77a3",
   "metadata": {},
   "outputs": [],
   "source": [
    "db.newspapers.find_one()"
   ]
  }
 ],
 "metadata": {
  "kernelspec": {
   "display_name": "Python 3 (ipykernel)",
   "language": "python",
   "name": "python3"
  },
  "language_info": {
   "codemirror_mode": {
    "name": "ipython",
    "version": 3
   },
   "file_extension": ".py",
   "mimetype": "text/x-python",
   "name": "python",
   "nbconvert_exporter": "python",
   "pygments_lexer": "ipython3",
   "version": "3.8.12"
  }
 },
 "nbformat": 4,
 "nbformat_minor": 5
}
