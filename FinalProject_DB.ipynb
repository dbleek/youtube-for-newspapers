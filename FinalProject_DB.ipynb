{
 "cells": [
  {
   "cell_type": "code",
   "execution_count": 1,
   "id": "0dca1e07",
   "metadata": {},
   "outputs": [
    {
     "name": "stdout",
     "output_type": "stream",
     "text": [
      "Defaulting to user installation because normal site-packages is not writeable\n",
      "Requirement already satisfied: sparknlp in /home/dmb443/.local/lib/python3.8/site-packages (1.0.0)\n",
      "Requirement already satisfied: pymongo in /home/dmb443/.local/lib/python3.8/site-packages (4.7.0)\n",
      "Requirement already satisfied: spark-nlp in /home/dmb443/.local/lib/python3.8/site-packages (from sparknlp) (5.3.3)\n",
      "Requirement already satisfied: numpy in /ext3/pyspark/lib/python3.8/site-packages (from sparknlp) (1.21.2)\n",
      "Requirement already satisfied: dnspython<3.0.0,>=1.16.0 in /home/dmb443/.local/lib/python3.8/site-packages (from pymongo) (2.6.1)\n"
     ]
    }
   ],
   "source": [
    "!pip install sparknlp pymongo"
   ]
  },
  {
   "cell_type": "code",
   "execution_count": 23,
   "id": "4d3eb9ba",
   "metadata": {},
   "outputs": [],
   "source": [
    "import os\n",
    "from pprint import pprint\n",
    "import pymongo\n",
    "from pymongo import MongoClient    \n",
    "import pyspark\n",
    "from pyspark.ml import PipelineModel\n",
    "import sparknlp\n",
    "from sparknlp.annotator import *\n",
    "from sparknlp.base import *\n",
    "from zipfile import ZipFile"
   ]
  },
  {
   "cell_type": "markdown",
   "id": "2873d634",
   "metadata": {},
   "source": [
    "# Writing to DB"
   ]
  },
  {
   "cell_type": "code",
   "execution_count": 18,
   "id": "b8df6809",
   "metadata": {
    "scrolled": true
   },
   "outputs": [
    {
     "ename": "ValueError",
     "evalue": "Cannot run multiple SparkContexts at once; existing SparkContext(app=pyspark-shell, master=local[*]) created by __init__ at /state/partition1/job-45767675/ipykernel_2693020/2667504274.py:6 ",
     "output_type": "error",
     "traceback": [
      "\u001b[0;31m---------------------------------------------------------------------------\u001b[0m",
      "\u001b[0;31mValueError\u001b[0m                                Traceback (most recent call last)",
      "\u001b[0;32m/state/partition1/job-45767675/ipykernel_2693020/4011490621.py\u001b[0m in \u001b[0;36m<module>\u001b[0;34m\u001b[0m\n\u001b[1;32m      6\u001b[0m          \"org.mongodb.spark:mongo-spark-connector_2.12:3.0.1,com.databricks:spark-xml_2.12:0.18.0,com.johnsnowlabs.nlp:spark-nlp_2.12:5.3.3\")\n\u001b[1;32m      7\u001b[0m \u001b[0mconf\u001b[0m\u001b[0;34m.\u001b[0m\u001b[0mset\u001b[0m\u001b[0;34m(\u001b[0m\u001b[0;34m'spark.driver.memory'\u001b[0m\u001b[0;34m,\u001b[0m\u001b[0;34m'8g'\u001b[0m\u001b[0;34m)\u001b[0m\u001b[0;34m\u001b[0m\u001b[0;34m\u001b[0m\u001b[0m\n\u001b[0;32m----> 8\u001b[0;31m \u001b[0msc\u001b[0m \u001b[0;34m=\u001b[0m \u001b[0mpyspark\u001b[0m\u001b[0;34m.\u001b[0m\u001b[0mSparkContext\u001b[0m\u001b[0;34m(\u001b[0m\u001b[0mconf\u001b[0m\u001b[0;34m=\u001b[0m\u001b[0mconf\u001b[0m\u001b[0;34m)\u001b[0m\u001b[0;34m\u001b[0m\u001b[0;34m\u001b[0m\u001b[0m\n\u001b[0m\u001b[1;32m      9\u001b[0m \u001b[0mspark\u001b[0m \u001b[0;34m=\u001b[0m \u001b[0mpyspark\u001b[0m\u001b[0;34m.\u001b[0m\u001b[0mSQLContext\u001b[0m\u001b[0;34m.\u001b[0m\u001b[0mgetOrCreate\u001b[0m\u001b[0;34m(\u001b[0m\u001b[0msc\u001b[0m\u001b[0;34m)\u001b[0m\u001b[0;34m\u001b[0m\u001b[0;34m\u001b[0m\u001b[0m\n\u001b[1;32m     10\u001b[0m \u001b[0mspark\u001b[0m\u001b[0;34m\u001b[0m\u001b[0;34m\u001b[0m\u001b[0m\n",
      "\u001b[0;32m/ext3/pyspark/lib/python3.8/site-packages/pyspark/context.py\u001b[0m in \u001b[0;36m__init__\u001b[0;34m(self, master, appName, sparkHome, pyFiles, environment, batchSize, serializer, conf, gateway, jsc, profiler_cls)\u001b[0m\n\u001b[1;32m    142\u001b[0m                 \" is not allowed as it is a security risk.\")\n\u001b[1;32m    143\u001b[0m \u001b[0;34m\u001b[0m\u001b[0m\n\u001b[0;32m--> 144\u001b[0;31m         \u001b[0mSparkContext\u001b[0m\u001b[0;34m.\u001b[0m\u001b[0m_ensure_initialized\u001b[0m\u001b[0;34m(\u001b[0m\u001b[0mself\u001b[0m\u001b[0;34m,\u001b[0m \u001b[0mgateway\u001b[0m\u001b[0;34m=\u001b[0m\u001b[0mgateway\u001b[0m\u001b[0;34m,\u001b[0m \u001b[0mconf\u001b[0m\u001b[0;34m=\u001b[0m\u001b[0mconf\u001b[0m\u001b[0;34m)\u001b[0m\u001b[0;34m\u001b[0m\u001b[0;34m\u001b[0m\u001b[0m\n\u001b[0m\u001b[1;32m    145\u001b[0m         \u001b[0;32mtry\u001b[0m\u001b[0;34m:\u001b[0m\u001b[0;34m\u001b[0m\u001b[0;34m\u001b[0m\u001b[0m\n\u001b[1;32m    146\u001b[0m             self._do_init(master, appName, sparkHome, pyFiles, environment, batchSize, serializer,\n",
      "\u001b[0;32m/ext3/pyspark/lib/python3.8/site-packages/pyspark/context.py\u001b[0m in \u001b[0;36m_ensure_initialized\u001b[0;34m(cls, instance, gateway, conf)\u001b[0m\n\u001b[1;32m    340\u001b[0m \u001b[0;34m\u001b[0m\u001b[0m\n\u001b[1;32m    341\u001b[0m                     \u001b[0;31m# Raise error if there is already a running Spark context\u001b[0m\u001b[0;34m\u001b[0m\u001b[0;34m\u001b[0m\u001b[0;34m\u001b[0m\u001b[0m\n\u001b[0;32m--> 342\u001b[0;31m                     raise ValueError(\n\u001b[0m\u001b[1;32m    343\u001b[0m                         \u001b[0;34m\"Cannot run multiple SparkContexts at once; \"\u001b[0m\u001b[0;34m\u001b[0m\u001b[0;34m\u001b[0m\u001b[0m\n\u001b[1;32m    344\u001b[0m                         \u001b[0;34m\"existing SparkContext(app=%s, master=%s)\"\u001b[0m\u001b[0;34m\u001b[0m\u001b[0;34m\u001b[0m\u001b[0m\n",
      "\u001b[0;31mValueError\u001b[0m: Cannot run multiple SparkContexts at once; existing SparkContext(app=pyspark-shell, master=local[*]) created by __init__ at /state/partition1/job-45767675/ipykernel_2693020/2667504274.py:6 "
     ]
    }
   ],
   "source": [
    "conf = pyspark.SparkConf()\n",
    "conf.set('spark.jars.packages', \n",
    "         \"org.mongodb.spark:mongo-spark-connector_2.12:3.0.1,com.databricks:spark-xml_2.12:0.18.0,com.johnsnowlabs.nlp:spark-nlp_2.12:5.3.3\")\n",
    "conf.set('spark.driver.memory','8g')\n",
    "sc = pyspark.SparkContext(conf=conf)\n",
    "spark = pyspark.SQLContext.getOrCreate(sc)\n",
    "spark"
   ]
  },
  {
   "cell_type": "code",
   "execution_count": 8,
   "id": "8dfe89f6",
   "metadata": {},
   "outputs": [
    {
     "data": {
      "text/plain": [
       "'10.32.32.4:27040'"
      ]
     },
     "execution_count": 8,
     "metadata": {},
     "output_type": "execute_result"
    }
   ],
   "source": [
    "user = \"ob2205\"\n",
    "PATH = '/scratch/ob2205/shared/ip/ip_address.txt'\n",
    "ip_df = spark.read.text(PATH)\n",
    "uri = ip_df.head(1)[0].value\n",
    "uri"
   ]
  },
  {
   "cell_type": "code",
   "execution_count": 9,
   "id": "c33a08d4",
   "metadata": {},
   "outputs": [],
   "source": [
    "client = MongoClient(uri)"
   ]
  },
  {
   "cell_type": "code",
   "execution_count": 10,
   "id": "c7e285c7",
   "metadata": {},
   "outputs": [
    {
     "data": {
      "text/plain": [
       "{'version': '7.0.4',\n",
       " 'gitVersion': '38f3e37057a43d2e9f41a39142681a76062d582e',\n",
       " 'modules': [],\n",
       " 'allocator': 'tcmalloc',\n",
       " 'javascriptEngine': 'mozjs',\n",
       " 'sysInfo': 'deprecated',\n",
       " 'versionArray': [7, 0, 4, 0],\n",
       " 'openssl': {'running': 'OpenSSL 3.0.2 15 Mar 2022',\n",
       "  'compiled': 'OpenSSL 3.0.2 15 Mar 2022'},\n",
       " 'buildEnvironment': {'distmod': 'ubuntu2204',\n",
       "  'distarch': 'x86_64',\n",
       "  'cc': '/opt/mongodbtoolchain/v4/bin/gcc: gcc (GCC) 11.3.0',\n",
       "  'ccflags': '-Werror -include mongo/platform/basic.h -ffp-contract=off -fasynchronous-unwind-tables -g2 -Wall -Wsign-compare -Wno-unknown-pragmas -Winvalid-pch -gdwarf-5 -fno-omit-frame-pointer -fno-strict-aliasing -O2 -march=sandybridge -mtune=generic -mprefer-vector-width=128 -Wno-unused-local-typedefs -Wno-unused-function -Wno-deprecated-declarations -Wno-unused-const-variable -Wno-unused-but-set-variable -Wno-missing-braces -fstack-protector-strong -gdwarf64 -Wa,--nocompress-debug-sections -fno-builtin-memcmp -Wimplicit-fallthrough=5',\n",
       "  'cxx': '/opt/mongodbtoolchain/v4/bin/g++: g++ (GCC) 11.3.0',\n",
       "  'cxxflags': '-Woverloaded-virtual -Wpessimizing-move -Wno-maybe-uninitialized -fsized-deallocation -Wno-deprecated -std=c++20',\n",
       "  'linkflags': '-Wl,--fatal-warnings -B/opt/mongodbtoolchain/v4/bin -gdwarf-5 -pthread -Wl,-z,now -fuse-ld=lld -fstack-protector-strong -gdwarf64 -Wl,--build-id -Wl,--hash-style=gnu -Wl,-z,noexecstack -Wl,--warn-execstack -Wl,-z,relro -Wl,--compress-debug-sections=none -Wl,-z,origin -Wl,--enable-new-dtags',\n",
       "  'target_arch': 'x86_64',\n",
       "  'target_os': 'linux',\n",
       "  'cppdefines': 'SAFEINT_USE_INTRINSICS 0 PCRE2_STATIC NDEBUG _XOPEN_SOURCE 700 _GNU_SOURCE _FORTIFY_SOURCE 2 ABSL_FORCE_ALIGNED_ACCESS BOOST_ENABLE_ASSERT_DEBUG_HANDLER BOOST_FILESYSTEM_NO_CXX20_ATOMIC_REF BOOST_LOG_NO_SHORTHAND_NAMES BOOST_LOG_USE_NATIVE_SYSLOG BOOST_LOG_WITHOUT_THREAD_ATTR BOOST_MATH_NO_LONG_DOUBLE_MATH_FUNCTIONS BOOST_SYSTEM_NO_DEPRECATED BOOST_THREAD_USES_DATETIME BOOST_THREAD_VERSION 5'},\n",
       " 'bits': 64,\n",
       " 'debug': False,\n",
       " 'maxBsonObjectSize': 16777216,\n",
       " 'storageEngines': ['devnull', 'wiredTiger'],\n",
       " 'ok': 1.0}"
      ]
     },
     "execution_count": 10,
     "metadata": {},
     "output_type": "execute_result"
    }
   ],
   "source": [
    "client.server_info()"
   ]
  },
  {
   "cell_type": "code",
   "execution_count": 11,
   "id": "c11f6310",
   "metadata": {},
   "outputs": [],
   "source": [
    "db=client.test"
   ]
  },
  {
   "cell_type": "code",
   "execution_count": 57,
   "id": "ce62014c-dfa6-499c-9756-81accc1a4b8f",
   "metadata": {},
   "outputs": [
    {
     "data": {
      "text/plain": [
       "Database(MongoClient(host=['10.32.32.6:27040'], document_class=dict, tz_aware=False, connect=True), 'test')"
      ]
     },
     "execution_count": 57,
     "metadata": {},
     "output_type": "execute_result"
    }
   ],
   "source": [
    "db"
   ]
  },
  {
   "cell_type": "code",
   "execution_count": 11,
   "id": "4c548090",
   "metadata": {},
   "outputs": [],
   "source": [
    "# Extract articles from zip\n",
    "\n",
    "# source_path = \"/scratch/work/public/proquest/proquest_hnp/BostonGlobe/BG_20151210212722_00001.zip\"\n",
    "# with ZipFile(source_path, \"r\") as zip:\n",
    "#     zip.extractall('zip_tmp')"
   ]
  },
  {
   "cell_type": "code",
   "execution_count": 24,
   "id": "7a275855",
   "metadata": {},
   "outputs": [
    {
     "name": "stderr",
     "output_type": "stream",
     "text": [
      "                                                                                \r"
     ]
    }
   ],
   "source": [
    "df = spark.read\\\n",
    "    .option('rootTag', 'Record')\\\n",
    "    .option('rowTag', 'Record')\\\n",
    "    .option('recursiveFileLookup', 'true')\\\n",
    "    .format(\"xml\").load(\"zip_tmp\")"
   ]
  },
  {
   "cell_type": "code",
   "execution_count": 14,
   "id": "38bb24e7-bdac-4508-ad24-ae674942a8eb",
   "metadata": {},
   "outputs": [
    {
     "name": "stdout",
     "output_type": "stream",
     "text": [
      "Warning::Spark Session already created, some configs may not take.\n"
     ]
    }
   ],
   "source": [
    "# Start SparkNLP\n",
    "spark = sparknlp.start() # for GPU training >> sparknlp.start(gpu = True) # for Spark 2.3 =>> sparknlp.start(spark23 = True)"
   ]
  },
  {
   "cell_type": "code",
   "execution_count": 28,
   "id": "b3449541",
   "metadata": {},
   "outputs": [
    {
     "name": "stdout",
     "output_type": "stream",
     "text": [
      "Spark NLP version 5.3.3\n",
      "Apache Spark version: 3.1.2\n"
     ]
    }
   ],
   "source": [
    "print(\"Spark NLP version\", sparknlp.version())\n",
    "print(\"Apache Spark version:\", spark.version)"
   ]
  },
  {
   "cell_type": "code",
   "execution_count": 13,
   "id": "bdbaff13-6727-47a1-816b-56b361a0a2c7",
   "metadata": {},
   "outputs": [],
   "source": [
    "class YakePipeline(Pipeline):\n",
    "    \"\"\"\n",
    "    A pipeline for extracting keywords using YAKE.\n",
    "\n",
    "    Example:\n",
    "    pipeline = YakePipeline()\n",
    "    processed_df = pipeline.fit(df).transfrom(df)\n",
    "    \"\"\"\n",
    "    def __init__(self):\n",
    "        super(YakePipeline, self).__init__()\n",
    "        self.stopwords = StopWordsCleaner().getStopWords()\n",
    "        self.document = DocumentAssembler() \\\n",
    "                .setInputCol(\"FullText\") \\\n",
    "                .setOutputCol(\"document\")\n",
    "        self.sentenceDetector = SentenceDetector() \\\n",
    "                .setInputCols(\"document\") \\\n",
    "                .setOutputCol(\"sentence\")\n",
    "        self.token = Tokenizer() \\\n",
    "                .setInputCols(\"sentence\") \\\n",
    "                .setOutputCol(\"token\") \\\n",
    "                .setContextChars([\"(\", \")\", \"?\", \"!\", \".\", \",\"])\n",
    "        self.keywords = YakeKeywordExtraction() \\\n",
    "                .setInputCols(\"token\") \\\n",
    "                .setOutputCol(\"keywords\") \\\n",
    "                .setMinNGrams(1) \\\n",
    "                .setMaxNGrams(3)\\\n",
    "                .setNKeywords(20)\\\n",
    "                .setStopWords(self.stopwords)\n",
    "        self.setStages([self.document, self.sentenceDetector, self.token, self.keywords])\n"
   ]
  },
  {
   "cell_type": "code",
   "execution_count": 29,
   "id": "05bcbac2-7be8-4111-becc-73d53e4b5620",
   "metadata": {},
   "outputs": [],
   "source": [
    "# Extract keywords and append to df\n",
    "yake_pipeline = YakePipeline()\n",
    "\n",
    "result = yake_pipeline.fit(df).transform(df)\\\n",
    "    .drop(\"document\")\\\n",
    "    .drop(\"token\")\\\n",
    "    .drop(\"sentence\")"
   ]
  },
  {
   "cell_type": "code",
   "execution_count": 30,
   "id": "003b2f22-1c8c-4a26-938d-7003a3ac0f84",
   "metadata": {},
   "outputs": [
    {
     "name": "stdout",
     "output_type": "stream",
     "text": [
      "root\n",
      " |-- Abstract: string (nullable = true)\n",
      " |-- ActionCode: string (nullable = true)\n",
      " |-- AlphaPubDate: string (nullable = true)\n",
      " |-- Contributor: array (nullable = true)\n",
      " |    |-- element: struct (containsNull = true)\n",
      " |    |    |-- ContribRole: string (nullable = true)\n",
      " |    |    |-- FirstName: string (nullable = true)\n",
      " |    |    |-- LastName: string (nullable = true)\n",
      " |    |    |-- MiddleName: string (nullable = true)\n",
      " |    |    |-- NameSuffix: string (nullable = true)\n",
      " |    |    |-- OrganizationName: string (nullable = true)\n",
      " |    |    |-- OriginalForm: string (nullable = true)\n",
      " |    |    |-- PersonName: string (nullable = true)\n",
      " |    |    |-- PersonTitle: string (nullable = true)\n",
      " |-- DateTimeStamp: long (nullable = true)\n",
      " |-- FullText: string (nullable = true)\n",
      " |-- LanguageCode: string (nullable = true)\n",
      " |-- NumericPubDate: long (nullable = true)\n",
      " |-- ObjectType: array (nullable = true)\n",
      " |    |-- element: string (containsNull = true)\n",
      " |-- Pagination: string (nullable = true)\n",
      " |-- Products: struct (nullable = true)\n",
      " |    |-- Product: array (nullable = true)\n",
      " |    |    |-- element: struct (containsNull = true)\n",
      " |    |    |    |-- HasFullText: boolean (nullable = true)\n",
      " |    |    |    |-- ProductID: long (nullable = true)\n",
      " |-- Publication: struct (nullable = true)\n",
      " |    |-- PublicationID: long (nullable = true)\n",
      " |    |-- Qualifier: string (nullable = true)\n",
      " |    |-- Title: string (nullable = true)\n",
      " |-- Publisher: string (nullable = true)\n",
      " |-- RecordID: long (nullable = true)\n",
      " |-- RecordTitle: string (nullable = true)\n",
      " |-- SourceType: string (nullable = true)\n",
      " |-- StartPage: string (nullable = true)\n",
      " |-- URLDocView: string (nullable = true)\n",
      " |-- Version: string (nullable = true)\n",
      " |-- keywords: array (nullable = true)\n",
      " |    |-- element: struct (containsNull = true)\n",
      " |    |    |-- annotatorType: string (nullable = true)\n",
      " |    |    |-- begin: integer (nullable = false)\n",
      " |    |    |-- end: integer (nullable = false)\n",
      " |    |    |-- result: string (nullable = true)\n",
      " |    |    |-- metadata: map (nullable = true)\n",
      " |    |    |    |-- key: string\n",
      " |    |    |    |-- value: string (valueContainsNull = true)\n",
      " |    |    |-- embeddings: array (nullable = true)\n",
      " |    |    |    |-- element: float (containsNull = false)\n",
      "\n"
     ]
    }
   ],
   "source": [
    "# df now includes keywords, along with other outputs from pipeline\n",
    "result.printSchema()"
   ]
  },
  {
   "cell_type": "code",
   "execution_count": 32,
   "id": "a422c146-9f8e-4271-92d2-4c23c09e2acf",
   "metadata": {
    "scrolled": true
   },
   "outputs": [
    {
     "name": "stderr",
     "output_type": "stream",
     "text": [
      "[Stage 7:==================================================>(24999 + 1) / 25000]\r"
     ]
    },
    {
     "name": "stdout",
     "output_type": "stream",
     "text": [
      "235.01104307174683\n"
     ]
    },
    {
     "name": "stderr",
     "output_type": "stream",
     "text": [
      "\r",
      "                                                                                \r"
     ]
    }
   ],
   "source": [
    "# Write to mongo\n",
    "start = time.time()\n",
    "result.write.format(\"com.mongodb.spark.sql.DefaultSource\")\\\n",
    "    .mode(\"overwrite\")\\\n",
    "    .option('uri',f'mongodb://{uri}/test.newspapers')\\\n",
    "    .save()\n",
    "stop = time.time()\n",
    "print(stop - start)"
   ]
  },
  {
   "cell_type": "markdown",
   "id": "206bad5a",
   "metadata": {},
   "source": [
    "# Querying\n"
   ]
  },
  {
   "cell_type": "code",
   "execution_count": 78,
   "id": "bed55dc4",
   "metadata": {},
   "outputs": [],
   "source": [
    "def normalize_query(query):\n",
    "    \"\"\"Takes an user query and returns an array of keywords\"\"\"\n",
    "    # TO DO\n",
    "    # clean stop words\n",
    "    # make lowercase\n",
    "    # strip whitespace\n",
    "    \n",
    "def keyword_search(keyword, db, k):\n",
    "    \"\"\"Takes a keyword and returns top-k articles with that keyword.\"\"\"\n",
    "    \n",
    "    # aggregate pipeline to find top-k articles based on keyword input\n",
    "    data = db.aggregate([\n",
    "        {\"$project\":{\"keywords.result\": 1, \"keywords.metadata.score\": 1}},\n",
    "        {\"$unwind\": {\"path\": \"$keywords\", \"preserveNullAndEmptyArrays\": False}},\n",
    "        {\"$match\": {\"keywords.result\":  {\"$regex\": f\"{keyword}\"}}},\n",
    "        {\"$group\": { \"_id\": \"$_id\", \"keywords\": {\"$addToSet\": \"$keywords\"}}},\n",
    "        {\"$sort\": {\"keywords.metadata.score\": -1}},\n",
    "        {\"$limit\": k}\n",
    "    ])\n",
    "    \n",
    "    # Get article IDs and hit db again for full articles\n",
    "    #     ids = []\n",
    "    #     for doc in data:\n",
    "    #         _id = doc[\"_id\"]\n",
    "    #         ids.append(_id)\n",
    "    #     output = db.find({\"_id\": {\"$in\": ids}})\n",
    "        \n",
    "    return data\n",
    "\n",
    "# TO DO\n",
    "# Return additional fields (query db using _ids)\n",
    "# write `normalize_query`\n",
    "# incorporate multiple keywords\n",
    "\n",
    "    "
   ]
  },
  {
   "cell_type": "code",
   "execution_count": 79,
   "id": "4c80d691",
   "metadata": {},
   "outputs": [
    {
     "name": "stdout",
     "output_type": "stream",
     "text": [
      "{'_id': ObjectId('662e660a6396ff66f83ef7b2'),\n",
      " 'keywords': [{'metadata': {'score': '0.523434987506563'}, 'result': 'china'},\n",
      "              {'metadata': {'score': '1.5689100679790935'},\n",
      "               'result': 'fight in china'}]}\n",
      "{'_id': ObjectId('662e65c46396ff66f83ecfab'),\n",
      " 'keywords': [{'metadata': {'score': '0.7031205485333598'}, 'result': 'china'}]}\n",
      "{'_id': ObjectId('662e65b56396ff66f83ec6b8'),\n",
      " 'keywords': [{'metadata': {'score': '0.6592879295318568'}, 'result': 'china'}]}\n",
      "{'_id': ObjectId('662e66346396ff66f83f1071'),\n",
      " 'keywords': [{'metadata': {'score': '0.6409002858326851'}, 'result': 'china'}]}\n",
      "{'_id': ObjectId('662e65946396ff66f83eb531'),\n",
      " 'keywords': [{'metadata': {'score': '0.6276050598018206'}, 'result': 'china'}]}\n"
     ]
    }
   ],
   "source": [
    "output = keyword_search(\"china\", db.newspapers, 5)\n",
    "\n",
    "for doc in output:\n",
    "    pprint(doc)\n"
   ]
  },
  {
   "cell_type": "markdown",
   "id": "b9fcd3cc",
   "metadata": {},
   "source": [
    "# Visualizations"
   ]
  },
  {
   "cell_type": "code",
   "execution_count": 71,
   "id": "3e3c8b45",
   "metadata": {},
   "outputs": [
    {
     "data": {
      "text/html": [
       "<style>\n",
       ".box_style{\n",
       "    width:100%;\n",
       "    border : None;\n",
       "    height: auto;\n",
       "    background-color:#EEE;\n",
       "    color=white;\n",
       "}\n",
       ".side_bar{\n",
       "    width:100%;\n",
       "    border: None;\n",
       "    height: auto;\n",
       "    background-color:#66b2b2;\n",
       "    color=white;\n",
       "}\n",
       "\n",
       ".widget-label {\n",
       "    color: white !important;\n",
       "}\n",
       "\n",
       ".widget_text {\n",
       "    border-radius: 8px;\n",
       "}\n",
       ".button_style {\n",
       "    margin-top: 15px;\n",
       "}\n",
       "</style>\n"
      ],
      "text/plain": [
       "<IPython.core.display.HTML object>"
      ]
     },
     "metadata": {},
     "output_type": "display_data"
    }
   ],
   "source": [
    "%%html\n",
    "<style>\n",
    ".box_style{\n",
    "    width:100%;\n",
    "    border : None;\n",
    "    height: auto;\n",
    "    background-color:#EEE;\n",
    "    color=white;\n",
    "}\n",
    ".side_bar{\n",
    "    width:100%;\n",
    "    border: None;\n",
    "    height: auto;\n",
    "    background-color:#66b2b2;\n",
    "    color=white;\n",
    "}\n",
    "\n",
    ".widget-label {\n",
    "    color: white !important;\n",
    "}\n",
    "\n",
    ".widget_text {\n",
    "    border-radius: 8px;\n",
    "}\n",
    ".button_style {\n",
    "    margin-top: 15px;\n",
    "}\n",
    "</style>"
   ]
  },
  {
   "cell_type": "code",
   "execution_count": 75,
   "id": "4815b738",
   "metadata": {},
   "outputs": [
    {
     "data": {
      "application/vnd.jupyter.widget-view+json": {
       "model_id": "07a6442ff3544c12b40205e005113000",
       "version_major": 2,
       "version_minor": 0
      },
      "text/plain": [
       "Output()"
      ]
     },
     "metadata": {},
     "output_type": "display_data"
    }
   ],
   "source": [
    "import ipywidgets as ipw\n",
    "from IPython.display import HTML, display, clear_output, Javascript\n",
    "from bson.objectid import ObjectId\n",
    "import re\n",
    "\n",
    "def view_doc_clicked(b):\n",
    "    _id = b.tooltip\n",
    "    if len(_id):\n",
    "        doc = db.newspapers.find_one({\"_id\": ObjectId(_id)})\n",
    "        if doc:\n",
    "            show_document(doc['RecordTitle'], doc['FullText'])\n",
    "    \n",
    "\n",
    "def show_document(header, text):\n",
    "    text = re.sub(\"[^0-9a-zA-Z]\", \" \", text)\n",
    "    text = re.sub(\" +\", \" \", text).strip()\n",
    "    \n",
    "    display(Javascript(\"\"\"\n",
    "        require(\n",
    "            [\"base/js/dialog\"], \n",
    "            function(dialog) {\n",
    "                dialog.modal({\n",
    "                    title: '%s',\n",
    "                    body: '%s',\n",
    "                    buttons: {\n",
    "                        'Done': {}\n",
    "                    }\n",
    "                });\n",
    "            }\n",
    "        );\n",
    "        \"\"\" % (header, text)))\n",
    "\n",
    "\n",
    "notify_output = ipw.Output()\n",
    "display(notify_output)\n",
    "\n",
    "@notify_output.capture()\n",
    "def popup(text):\n",
    "    clear_output()\n",
    "    display(HTML(\"<script>alert('{}');</script>\".format(text)))\n",
    "\n",
    "def create_result_option(record_id, record_title, ctx_text, publisher, pub_date, object_id):\n",
    "    items_layout = ipw.Layout(width='90%')\n",
    "    \n",
    "    children = []\n",
    "    row_layout = ipw.Layout(display='flex', flex_flow='row', align_items='stretch', border_bottom='solid 2px lightgrey', padding='5px')\n",
    "    sn_box = ipw.HBox([ipw.HTML(f\"{record_id}.\")], layout=ipw.Layout(width='3%', margin='5px 5px 5px 5px'))\n",
    "    rn_box = ipw.HBox(children=[], layout=ipw.Layout(width='10%', margin='5px 5px 5px 5px'))\n",
    "    \n",
    "    if len(record_title):\n",
    "        btnView = ipw.Button(description=\"View\", tooltip=str(object_id))\n",
    "        btnView.on_click(view_doc_clicked)\n",
    "        rn_box.children = [btnView]\n",
    "        \n",
    "        \n",
    "        children.append(ipw.HTML(f\"<b><font color='#1b75d0'; size=3px>{record_title}\", layout=items_layout))\n",
    "    if len(ctx_text):\n",
    "        children.append(ipw.HTML(ctx_text, layout=items_layout))\n",
    "    if len(publisher):\n",
    "        children.append(ipw.HTML(f\"<font color='grey'><b>Publisher:</b> {publisher}\", layout=items_layout))\n",
    "    if len(pub_date):\n",
    "        children.append(ipw.HTML(f\"<font color='grey'><b>Date:</b> {pub_date}\", layout=items_layout))\n",
    "    \n",
    "    row_content = ipw.VBox(children = children, layout=ipw.Layout(width='90%'))\n",
    "    row = ipw.HBox(children=[sn_box, row_content, rn_box], layout=row_layout)\n",
    " \n",
    "    return row"
   ]
  },
  {
   "cell_type": "code",
   "execution_count": 76,
   "id": "2df89790",
   "metadata": {},
   "outputs": [],
   "source": [
    "def search_keyword(keyword):\n",
    "    data = db.newspapers.aggregate([             \n",
    "        {\n",
    "            '$facet': {\n",
    "                'docs': [\n",
    "                    { '$unwind': '$keywords' },\n",
    "                    { '$match': {'keywords.result': keyword} }\n",
    "                ],\n",
    "                'count': [{'$count': \"count\"} ]\n",
    "            }\n",
    "        },\n",
    "        {\n",
    "            '$addFields': { 'count': { '$arrayElemAt': [\"$count.count\", 0] } }\n",
    "        }\n",
    "    ])\n",
    "    \n",
    "    \n",
    "    # ToDo: Limit to say 5 results\n",
    "    data = data.next()\n",
    "    i = 1\n",
    "    children = []\n",
    "    if len(data['docs']) < 1:\n",
    "        children.append(create_result_option(\"#\", '', \"No Newspaper found with this keyword\", \"\", '', ''))\n",
    "        return children\n",
    "\n",
    "    for d in data['docs']:\n",
    "        # ctx_txt: take keyword with highest score and contexualize it\n",
    "        start = d[\"keywords\"]['begin'] or 0\n",
    "        end = d[\"keywords\"]['end'] or 0\n",
    "        ctx_text=word_highlighter(d[\"FullText\"], start, end, 90)\n",
    "\n",
    "        children.append(create_result_option(i, d[\"RecordTitle\"], ctx_text, d[\"Publisher\"], d[\"AlphaPubDate\"], d['_id']))\n",
    "        i += 1\n",
    "    return children   \n",
    "\n",
    "def word_highlighter(fulltext, start, end, ctx_length=100):\n",
    "    tot_length = len(fulltext)\n",
    "    chunk_start = 0 if start-ctx_length < 0 else start-ctx_length\n",
    "    chunk_end = tot_length if end+ctx_length > tot_length else end+ctx_length\n",
    "    return fulltext[chunk_start:start] + \\\n",
    "        f\"<span style='background-color: yellow;'>{fulltext[start:end + 1]}</span>\" + \\\n",
    "        fulltext[end + 1:chunk_end]\n",
    "\n",
    "# search_keyword(\"grass\")"
   ]
  },
  {
   "cell_type": "code",
   "execution_count": 77,
   "id": "e747845a",
   "metadata": {},
   "outputs": [
    {
     "data": {
      "application/vnd.jupyter.widget-view+json": {
       "model_id": "c0d96feb5d264655a7f796359c2a6e17",
       "version_major": 2,
       "version_minor": 0
      },
      "text/plain": [
       "AppLayout(children=(HBox(children=(HTML(value='<h1> YouTube for Newspapers </h1>', layout=Layout(align_content…"
      ]
     },
     "metadata": {},
     "output_type": "display_data"
    }
   ],
   "source": [
    "hor_layout = ipw.Layout(align_content='stretch', margin='0.1% 1% 0.1% 2% ', width='100%')\n",
    "\n",
    "app_title = ipw.HTML('<h1> YouTube for Newspapers </h1>', layout=hor_layout)\n",
    "app_footer = ipw.HTML('<p> Apache Spark, HDFS, MongoDB, NLP</p>', layout=hor_layout)\n",
    "\n",
    "headerBox = ipw.HBox([app_title]).add_class('box_style')\n",
    "footerBox = ipw.HBox([app_footer]).add_class('box_style')\n",
    "\n",
    "txt_keyword = ipw.Text(placeholder='Enter a Keyword', description='Keyword:', disabled=False, layout=ipw.Layout(width='auto', \n",
    "    margin='15px 10px 5px 2px')).add_class('widget_text')\n",
    "btnSearch = ipw.Button(description=\"Search!\", icon='search').add_class('button_style')\n",
    "box_layout = ipw.Layout(display='flex', flex_flow='column', align_items='center', width='100%')\n",
    "btnContainer = ipw.HBox(children=[btnSearch], layout=box_layout)\n",
    "\n",
    "\n",
    "def on_button_clicked(b):\n",
    "    if len(txt_keyword.value.strip()) < 1:\n",
    "        popup(\"Enter search Key.\")\n",
    "    else:\n",
    "        main_panel.children = search_keyword(txt_keyword.value.lower())\n",
    "\n",
    "btnSearch.on_click(on_button_clicked)\n",
    "\n",
    "side_bar = ipw.VBox([txt_keyword, btnContainer]).add_class('side_bar')\n",
    "main_panel = ipw.VBox([])\n",
    "\n",
    "ipw.AppLayout(header=headerBox, left_sidebar=side_bar, center=main_panel, right_sidebar=None, footer=footerBox,\n",
    "    pane_widths=[2, 7, 0],\n",
    "    pane_heights=[1, 9, '40px'])"
   ]
  }
 ],
 "metadata": {
  "kernelspec": {
   "display_name": "Python 3 (ipykernel)",
   "language": "python",
   "name": "python3"
  },
  "language_info": {
   "codemirror_mode": {
    "name": "ipython",
    "version": 3
   },
   "file_extension": ".py",
   "mimetype": "text/x-python",
   "name": "python",
   "nbconvert_exporter": "python",
   "pygments_lexer": "ipython3",
   "version": "3.8.12"
  }
 },
 "nbformat": 4,
 "nbformat_minor": 5
}
