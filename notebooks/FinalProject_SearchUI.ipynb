{
 "cells": [
  {
   "cell_type": "code",
   "execution_count": 1,
   "id": "4d3eb9ba",
   "metadata": {},
   "outputs": [],
   "source": [
    "import os\n",
    "from pprint import pprint\n",
    "import pymongo\n",
    "from pymongo import MongoClient    \n",
    "import pyspark\n",
    "from pyspark.ml import PipelineModel\n",
    "import sparknlp\n",
    "from sparknlp.annotator import *\n",
    "from sparknlp.base import *\n",
    "import time\n",
    "import re\n",
    "from zipfile import ZipFile"
   ]
  },
  {
   "cell_type": "code",
   "execution_count": null,
   "id": "2a618584",
   "metadata": {
    "scrolled": false
   },
   "outputs": [],
   "source": [
    "conf = pyspark.SparkConf()\n",
    "conf.set('spark.jars.packages', \n",
    "         \"org.mongodb.spark:mongo-spark-connector_2.12:3.0.1,com.databricks:spark-xml_2.12:0.18.0,com.johnsnowlabs.nlp:spark-nlp_2.12:5.3.3\")\n",
    "conf.set('spark.driver.memory','8g')\n",
    "sc = pyspark.SparkContext(conf=conf)\n",
    "spark = pyspark.SQLContext.getOrCreate(sc)\n",
    "spark"
   ]
  },
  {
   "cell_type": "markdown",
   "id": "2873d634",
   "metadata": {},
   "source": [
    "# Writing to DB"
   ]
  },
  {
   "cell_type": "markdown",
   "id": "206bad5a",
   "metadata": {},
   "source": [
    "# Querying\n"
   ]
  },
  {
   "cell_type": "code",
   "execution_count": null,
   "id": "a55f8ce0",
   "metadata": {
    "scrolled": true
   },
   "outputs": [],
   "source": [
    "# Set environment variables\n",
    "%env MONGODB_PASS=password\n",
    "%env MONGODB_USER=username"
   ]
  },
  {
   "cell_type": "code",
   "execution_count": 5,
   "id": "8da4dbb4",
   "metadata": {},
   "outputs": [],
   "source": [
    "sys.path.insert(0, \"/scratch/$USER/youtube-for-newspapers/src\")"
   ]
  },
  {
   "cell_type": "code",
   "execution_count": 6,
   "id": "1a52d13a",
   "metadata": {},
   "outputs": [],
   "source": [
    "# import database and pipeline from src\n",
    "from ingest.database import NoSQLDatabase\n",
    "from processing.nlp_pipeline import KeywordPipeline\n",
    "from pyspark.sql import dataframe\n",
    "import json"
   ]
  },
  {
   "cell_type": "code",
   "execution_count": 7,
   "id": "8ef76741",
   "metadata": {},
   "outputs": [],
   "source": [
    "def read_config(fin):\n",
    "    \"\"\"\n",
    "    Read .json config file\n",
    "    \"\"\"\n",
    "    with open(fin) as f:\n",
    "        config = json.load(f)\n",
    "    return config"
   ]
  },
  {
   "cell_type": "code",
   "execution_count": 8,
   "id": "c6dc2db2",
   "metadata": {},
   "outputs": [],
   "source": [
    "# create db object\n",
    "database_config = read_config(f\"{os.environ['SCRATCH']}/youtube-for-newspapers/config.json\")\n",
    "db =  NoSQLDatabase()\n",
    "db = db.from_config(database_config[\"nosql_database\"])\n",
    "\n",
    "# create pipeline\n",
    "kw_pipeline = KeywordPipeline.from_config(database_config[\"processing_pipeline\"][\"keywords\"])\n",
    "kw_pipeline.setup_pipeline()\n",
    "\n"
   ]
  },
  {
   "cell_type": "code",
   "execution_count": 12,
   "id": "acb86193",
   "metadata": {
    "scrolled": true
   },
   "outputs": [],
   "source": [
    "res = db.query_keyword(\"contest\", kw_pipeline, spark)"
   ]
  },
  {
   "cell_type": "code",
   "execution_count": 13,
   "id": "d9f0de08",
   "metadata": {},
   "outputs": [
    {
     "name": "stdout",
     "output_type": "stream",
     "text": [
      "{'_id': ObjectId('66383f1b5867ae2d611f044a'), 'score': 16.72786954782567, 'keywords': ['contest']}\n"
     ]
    }
   ],
   "source": [
    "for doc in res:\n",
    "    print(doc)"
   ]
  },
  {
   "cell_type": "markdown",
   "id": "b9fcd3cc",
   "metadata": {},
   "source": [
    "# Visualizations"
   ]
  },
  {
   "cell_type": "code",
   "execution_count": null,
   "id": "3e3c8b45",
   "metadata": {},
   "outputs": [],
   "source": [
    "%%html\n",
    "<style>\n",
    ".box_style{\n",
    "    width:100%;\n",
    "    border : None;\n",
    "    height: auto;\n",
    "    background-color:#EEE;\n",
    "    color=white;\n",
    "}\n",
    ".side_bar{\n",
    "    width:100%;\n",
    "    border: None;\n",
    "    height: auto;\n",
    "    background-color:#66b2b2;\n",
    "    color=white;\n",
    "}\n",
    "\n",
    ".widget-label {\n",
    "    color: white !important;\n",
    "}\n",
    "\n",
    ".widget_text {\n",
    "    border-radius: 8px;\n",
    "}\n",
    ".button_style {\n",
    "    margin-top: 15px;\n",
    "}\n",
    "</style>"
   ]
  },
  {
   "cell_type": "code",
   "execution_count": null,
   "id": "4815b738",
   "metadata": {},
   "outputs": [],
   "source": [
    "import ipywidgets as ipw\n",
    "from IPython.display import HTML, display, clear_output, Javascript\n",
    "from bson.objectid import ObjectId\n",
    "import re\n",
    "\n",
    "def view_doc_clicked(b):\n",
    "    _id = b.tooltip\n",
    "    if len(_id):\n",
    "        doc = db.newspapers.find_one({\"_id\": ObjectId(_id)})\n",
    "        if doc:\n",
    "            show_document(doc['RecordTitle'], doc['FullText'])\n",
    "    \n",
    "\n",
    "def show_document(header, text):\n",
    "    text = re.sub(\"[^0-9a-zA-Z]\", \" \", text)\n",
    "    text = re.sub(\" +\", \" \", text).strip()\n",
    "    \n",
    "    display(Javascript(\"\"\"\n",
    "        require(\n",
    "            [\"base/js/dialog\"], \n",
    "            function(dialog) {\n",
    "                dialog.modal({\n",
    "                    title: '%s',\n",
    "                    body: '%s',\n",
    "                    buttons: {\n",
    "                        'Done': {}\n",
    "                    }\n",
    "                });\n",
    "            }\n",
    "        );\n",
    "        \"\"\" % (header, text)))\n",
    "\n",
    "\n",
    "notify_output = ipw.Output()\n",
    "display(notify_output)\n",
    "\n",
    "@notify_output.capture()\n",
    "def popup(text):\n",
    "    clear_output()\n",
    "    display(HTML(\"<script>alert('{}');</script>\".format(text)))\n",
    "\n",
    "def create_result_option(record_id, record_title, ctx_text, publisher, pub_date, object_id):\n",
    "    items_layout = ipw.Layout(width='90%')\n",
    "    \n",
    "    children = []\n",
    "    row_layout = ipw.Layout(display='flex', flex_flow='row', align_items='stretch', border_bottom='solid 2px lightgrey', padding='5px')\n",
    "    sn_box = ipw.HBox([ipw.HTML(f\"{record_id}.\")], layout=ipw.Layout(width='3%', margin='5px 5px 5px 5px'))\n",
    "    rn_box = ipw.HBox(children=[], layout=ipw.Layout(width='10%', margin='5px 5px 5px 5px'))\n",
    "    \n",
    "    if len(record_title):\n",
    "        btnView = ipw.Button(description=\"View\", tooltip=str(object_id))\n",
    "        btnView.on_click(view_doc_clicked)\n",
    "        rn_box.children = [btnView]\n",
    "        \n",
    "        \n",
    "        children.append(ipw.HTML(f\"<b><font color='#1b75d0'; size=3px>{record_title}\", layout=items_layout))\n",
    "    if len(ctx_text):\n",
    "        children.append(ipw.HTML(ctx_text, layout=items_layout))\n",
    "    if len(publisher):\n",
    "        children.append(ipw.HTML(f\"<font color='grey'><b>Publisher:</b> {publisher}\", layout=items_layout))\n",
    "    if len(pub_date):\n",
    "        children.append(ipw.HTML(f\"<font color='grey'><b>Date:</b> {pub_date}\", layout=items_layout))\n",
    "    \n",
    "    row_content = ipw.VBox(children = children, layout=ipw.Layout(width='90%'))\n",
    "    row = ipw.HBox(children=[sn_box, row_content, rn_box], layout=row_layout)\n",
    " \n",
    "    return row"
   ]
  },
  {
   "cell_type": "code",
   "execution_count": null,
   "id": "2df89790",
   "metadata": {},
   "outputs": [],
   "source": [
    "def search_keyword(keyword):\n",
    "    data = db.newspapers.aggregate([             \n",
    "        {\n",
    "            '$facet': {\n",
    "                'docs': [\n",
    "                    { '$unwind': '$keywords' },\n",
    "                    { '$match': {'keywords.result': keyword} }\n",
    "                ],\n",
    "                'count': [{'$count': \"count\"} ]\n",
    "            }\n",
    "        },\n",
    "        {\n",
    "            '$addFields': { 'count': { '$arrayElemAt': [\"$count.count\", 0] } }\n",
    "        }\n",
    "    ])\n",
    "    \n",
    "    \n",
    "    # ToDo: Limit to say 5 results\n",
    "    data = data.next()\n",
    "    i = 1\n",
    "    children = []\n",
    "    if len(data['docs']) < 1:\n",
    "        children.append(create_result_option(\"#\", '', \"No Newspaper found with this keyword\", \"\", '', ''))\n",
    "        return children\n",
    "\n",
    "    for d in data['docs']:\n",
    "        # ctx_txt: take keyword with highest score and contexualize it\n",
    "        start = d[\"keywords\"]['begin'] or 0\n",
    "        end = d[\"keywords\"]['end'] or 0\n",
    "        ctx_text=word_highlighter(d[\"FullText\"], start, end, 90)\n",
    "\n",
    "        children.append(create_result_option(i, d[\"RecordTitle\"], ctx_text, d[\"Publisher\"], d[\"AlphaPubDate\"], d['_id']))\n",
    "        i += 1\n",
    "    return children   \n",
    "\n",
    "def word_highlighter(fulltext, start, end, ctx_length=100):\n",
    "    tot_length = len(fulltext)\n",
    "    chunk_start = 0 if start-ctx_length < 0 else start-ctx_length\n",
    "    chunk_end = tot_length if end+ctx_length > tot_length else end+ctx_length\n",
    "    return fulltext[chunk_start:start] + \\\n",
    "        f\"<span style='background-color: yellow;'>{fulltext[start:end + 1]}</span>\" + \\\n",
    "        fulltext[end + 1:chunk_end]\n",
    "\n",
    "# search_keyword(\"grass\")"
   ]
  },
  {
   "cell_type": "code",
   "execution_count": null,
   "id": "e747845a",
   "metadata": {
    "scrolled": false
   },
   "outputs": [],
   "source": [
    "hor_layout = ipw.Layout(align_content='stretch', margin='0.1% 1% 0.1% 2% ', width='100%')\n",
    "\n",
    "app_title = ipw.HTML('<h1> YouTube for Newspapers </h1>', layout=hor_layout)\n",
    "app_footer = ipw.HTML('<p> Apache Spark, HDFS, MongoDB, NLP</p>', layout=hor_layout)\n",
    "\n",
    "headerBox = ipw.HBox([app_title]).add_class('box_style')\n",
    "footerBox = ipw.HBox([app_footer]).add_class('box_style')\n",
    "\n",
    "txt_keyword = ipw.Text(placeholder='Enter a Keyword', description='Keyword:', disabled=False, layout=ipw.Layout(width='auto', \n",
    "    margin='15px 10px 5px 2px')).add_class('widget_text')\n",
    "btnSearch = ipw.Button(description=\"Search!\", icon='search').add_class('button_style')\n",
    "box_layout = ipw.Layout(display='flex', flex_flow='column', align_items='center', width='100%')\n",
    "btnContainer = ipw.HBox(children=[btnSearch], layout=box_layout)\n",
    "\n",
    "\n",
    "def on_button_clicked(b):\n",
    "    if len(txt_keyword.value.strip()) < 1:\n",
    "        popup(\"Enter search Key.\")\n",
    "    else:\n",
    "        main_panel.children = search(txt_keyword.value.lower())\n",
    "\n",
    "btnSearch.on_click(on_button_clicked)\n",
    "\n",
    "side_bar = ipw.VBox([txt_keyword, btnContainer]).add_class('side_bar')\n",
    "main_panel = ipw.VBox([])\n",
    "\n",
    "ipw.AppLayout(header=headerBox, left_sidebar=side_bar, center=main_panel, right_sidebar=None, footer=footerBox,\n",
    "    pane_widths=[2, 7, 0],\n",
    "    pane_heights=[1, 9, '40px'])"
   ]
  }
 ],
 "metadata": {
  "kernelspec": {
   "display_name": "Python 3 (ipykernel)",
   "language": "python",
   "name": "python3"
  },
  "language_info": {
   "codemirror_mode": {
    "name": "ipython",
    "version": 3
   },
   "file_extension": ".py",
   "mimetype": "text/x-python",
   "name": "python",
   "nbconvert_exporter": "python",
   "pygments_lexer": "ipython3",
   "version": "3.8.12"
  }
 },
 "nbformat": 4,
 "nbformat_minor": 5
}
