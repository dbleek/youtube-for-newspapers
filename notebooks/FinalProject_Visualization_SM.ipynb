{
 "cells": [
  {
   "cell_type": "code",
   "execution_count": 14,
   "id": "4d3eb9ba",
   "metadata": {},
   "outputs": [],
   "source": [
    "import os\n",
    "from pprint import pprint\n",
    "import pymongo\n",
    "from pymongo import MongoClient    \n",
    "import pyspark\n",
    "from pyspark.ml import PipelineModel\n",
    "import sparknlp\n",
    "from sparknlp.annotator import *\n",
    "from sparknlp.base import *\n",
    "from time import time\n",
    "import re\n",
    "from zipfile import ZipFile\n",
    "from pyspark.sql import dataframe\n",
    "import json"
   ]
  },
  {
   "cell_type": "markdown",
   "id": "2873d634",
   "metadata": {},
   "source": [
    "# Initialize for View"
   ]
  },
  {
   "cell_type": "code",
   "execution_count": 15,
   "id": "b8df6809",
   "metadata": {
    "scrolled": true
   },
   "outputs": [
    {
     "ename": "ValueError",
     "evalue": "Cannot run multiple SparkContexts at once; existing SparkContext(app=pyspark-shell, master=local[*]) created by __init__ at /state/partition1/job-46230070/ipykernel_2245097/2555205902.py:5 ",
     "output_type": "error",
     "traceback": [
      "\u001b[0;31m---------------------------------------------------------------------------\u001b[0m",
      "\u001b[0;31mValueError\u001b[0m                                Traceback (most recent call last)",
      "Cell \u001b[0;32mIn [15], line 5\u001b[0m\n\u001b[1;32m      2\u001b[0m conf\u001b[38;5;241m.\u001b[39mset(\u001b[38;5;124m'\u001b[39m\u001b[38;5;124mspark.jars.packages\u001b[39m\u001b[38;5;124m'\u001b[39m, \n\u001b[1;32m      3\u001b[0m          \u001b[38;5;124m\"\u001b[39m\u001b[38;5;124morg.mongodb.spark:mongo-spark-connector_2.12:3.0.1,com.databricks:spark-xml_2.12:0.18.0,com.johnsnowlabs.nlp:spark-nlp_2.12:5.3.3\u001b[39m\u001b[38;5;124m\"\u001b[39m)\n\u001b[1;32m      4\u001b[0m conf\u001b[38;5;241m.\u001b[39mset(\u001b[38;5;124m'\u001b[39m\u001b[38;5;124mspark.driver.memory\u001b[39m\u001b[38;5;124m'\u001b[39m,\u001b[38;5;124m'\u001b[39m\u001b[38;5;124m8g\u001b[39m\u001b[38;5;124m'\u001b[39m)\n\u001b[0;32m----> 5\u001b[0m sc \u001b[38;5;241m=\u001b[39m \u001b[43mpyspark\u001b[49m\u001b[38;5;241;43m.\u001b[39;49m\u001b[43mSparkContext\u001b[49m\u001b[43m(\u001b[49m\u001b[43mconf\u001b[49m\u001b[38;5;241;43m=\u001b[39;49m\u001b[43mconf\u001b[49m\u001b[43m)\u001b[49m\n\u001b[1;32m      6\u001b[0m spark \u001b[38;5;241m=\u001b[39m pyspark\u001b[38;5;241m.\u001b[39mSQLContext\u001b[38;5;241m.\u001b[39mgetOrCreate(sc)\n\u001b[1;32m      7\u001b[0m spark\n",
      "File \u001b[0;32m/ext3/pyspark/lib/python3.10/site-packages/pyspark/context.py:195\u001b[0m, in \u001b[0;36mSparkContext.__init__\u001b[0;34m(self, master, appName, sparkHome, pyFiles, environment, batchSize, serializer, conf, gateway, jsc, profiler_cls, udf_profiler_cls)\u001b[0m\n\u001b[1;32m    189\u001b[0m \u001b[38;5;28;01mif\u001b[39;00m gateway \u001b[38;5;129;01mis\u001b[39;00m \u001b[38;5;129;01mnot\u001b[39;00m \u001b[38;5;28;01mNone\u001b[39;00m \u001b[38;5;129;01mand\u001b[39;00m gateway\u001b[38;5;241m.\u001b[39mgateway_parameters\u001b[38;5;241m.\u001b[39mauth_token \u001b[38;5;129;01mis\u001b[39;00m \u001b[38;5;28;01mNone\u001b[39;00m:\n\u001b[1;32m    190\u001b[0m     \u001b[38;5;28;01mraise\u001b[39;00m \u001b[38;5;167;01mValueError\u001b[39;00m(\n\u001b[1;32m    191\u001b[0m         \u001b[38;5;124m\"\u001b[39m\u001b[38;5;124mYou are trying to pass an insecure Py4j gateway to Spark. This\u001b[39m\u001b[38;5;124m\"\u001b[39m\n\u001b[1;32m    192\u001b[0m         \u001b[38;5;124m\"\u001b[39m\u001b[38;5;124m is not allowed as it is a security risk.\u001b[39m\u001b[38;5;124m\"\u001b[39m\n\u001b[1;32m    193\u001b[0m     )\n\u001b[0;32m--> 195\u001b[0m \u001b[43mSparkContext\u001b[49m\u001b[38;5;241;43m.\u001b[39;49m\u001b[43m_ensure_initialized\u001b[49m\u001b[43m(\u001b[49m\u001b[38;5;28;43mself\u001b[39;49m\u001b[43m,\u001b[49m\u001b[43m \u001b[49m\u001b[43mgateway\u001b[49m\u001b[38;5;241;43m=\u001b[39;49m\u001b[43mgateway\u001b[49m\u001b[43m,\u001b[49m\u001b[43m \u001b[49m\u001b[43mconf\u001b[49m\u001b[38;5;241;43m=\u001b[39;49m\u001b[43mconf\u001b[49m\u001b[43m)\u001b[49m\n\u001b[1;32m    196\u001b[0m \u001b[38;5;28;01mtry\u001b[39;00m:\n\u001b[1;32m    197\u001b[0m     \u001b[38;5;28mself\u001b[39m\u001b[38;5;241m.\u001b[39m_do_init(\n\u001b[1;32m    198\u001b[0m         master,\n\u001b[1;32m    199\u001b[0m         appName,\n\u001b[0;32m   (...)\u001b[0m\n\u001b[1;32m    208\u001b[0m         udf_profiler_cls,\n\u001b[1;32m    209\u001b[0m     )\n",
      "File \u001b[0;32m/ext3/pyspark/lib/python3.10/site-packages/pyspark/context.py:430\u001b[0m, in \u001b[0;36mSparkContext._ensure_initialized\u001b[0;34m(cls, instance, gateway, conf)\u001b[0m\n\u001b[1;32m    427\u001b[0m     callsite \u001b[38;5;241m=\u001b[39m SparkContext\u001b[38;5;241m.\u001b[39m_active_spark_context\u001b[38;5;241m.\u001b[39m_callsite\n\u001b[1;32m    429\u001b[0m     \u001b[38;5;66;03m# Raise error if there is already a running Spark context\u001b[39;00m\n\u001b[0;32m--> 430\u001b[0m     \u001b[38;5;28;01mraise\u001b[39;00m \u001b[38;5;167;01mValueError\u001b[39;00m(\n\u001b[1;32m    431\u001b[0m         \u001b[38;5;124m\"\u001b[39m\u001b[38;5;124mCannot run multiple SparkContexts at once; \u001b[39m\u001b[38;5;124m\"\u001b[39m\n\u001b[1;32m    432\u001b[0m         \u001b[38;5;124m\"\u001b[39m\u001b[38;5;124mexisting SparkContext(app=\u001b[39m\u001b[38;5;132;01m%s\u001b[39;00m\u001b[38;5;124m, master=\u001b[39m\u001b[38;5;132;01m%s\u001b[39;00m\u001b[38;5;124m)\u001b[39m\u001b[38;5;124m\"\u001b[39m\n\u001b[1;32m    433\u001b[0m         \u001b[38;5;124m\"\u001b[39m\u001b[38;5;124m created by \u001b[39m\u001b[38;5;132;01m%s\u001b[39;00m\u001b[38;5;124m at \u001b[39m\u001b[38;5;132;01m%s\u001b[39;00m\u001b[38;5;124m:\u001b[39m\u001b[38;5;132;01m%s\u001b[39;00m\u001b[38;5;124m \u001b[39m\u001b[38;5;124m\"\u001b[39m\n\u001b[1;32m    434\u001b[0m         \u001b[38;5;241m%\u001b[39m (\n\u001b[1;32m    435\u001b[0m             currentAppName,\n\u001b[1;32m    436\u001b[0m             currentMaster,\n\u001b[1;32m    437\u001b[0m             callsite\u001b[38;5;241m.\u001b[39mfunction,\n\u001b[1;32m    438\u001b[0m             callsite\u001b[38;5;241m.\u001b[39mfile,\n\u001b[1;32m    439\u001b[0m             callsite\u001b[38;5;241m.\u001b[39mlinenum,\n\u001b[1;32m    440\u001b[0m         )\n\u001b[1;32m    441\u001b[0m     )\n\u001b[1;32m    442\u001b[0m \u001b[38;5;28;01melse\u001b[39;00m:\n\u001b[1;32m    443\u001b[0m     SparkContext\u001b[38;5;241m.\u001b[39m_active_spark_context \u001b[38;5;241m=\u001b[39m instance\n",
      "\u001b[0;31mValueError\u001b[0m: Cannot run multiple SparkContexts at once; existing SparkContext(app=pyspark-shell, master=local[*]) created by __init__ at /state/partition1/job-46230070/ipykernel_2245097/2555205902.py:5 "
     ]
    }
   ],
   "source": [
    "conf = pyspark.SparkConf()\n",
    "conf.set('spark.jars.packages', \n",
    "         \"org.mongodb.spark:mongo-spark-connector_2.12:3.0.1,com.databricks:spark-xml_2.12:0.18.0,com.johnsnowlabs.nlp:spark-nlp_2.12:5.3.3\")\n",
    "conf.set('spark.driver.memory','8g')\n",
    "sc = pyspark.SparkContext(conf=conf)\n",
    "spark = pyspark.SQLContext.getOrCreate(sc)\n",
    "spark"
   ]
  },
  {
   "cell_type": "code",
   "execution_count": 3,
   "id": "282ed4a2",
   "metadata": {},
   "outputs": [
    {
     "name": "stdout",
     "output_type": "stream",
     "text": [
      "env: MONGODB_USER=dmb443\n",
      "env: MONGODB_PASS=wXwfzBEQTangXV44\n"
     ]
    }
   ],
   "source": [
    "# Set environment variables\n",
    "%env MONGODB_USER=dmb443\n",
    "%env MONGODB_PASS=wXwfzBEQTangXV44"
   ]
  },
  {
   "cell_type": "code",
   "execution_count": 4,
   "id": "ce849d39",
   "metadata": {},
   "outputs": [],
   "source": [
    "sys.path.insert(0, f\"{os.environ['SCRATCH']}/big_data/youtube-for-newspapers/src\")"
   ]
  },
  {
   "cell_type": "code",
   "execution_count": 5,
   "id": "16c4deff",
   "metadata": {
    "scrolled": true
   },
   "outputs": [],
   "source": [
    "# import database and pipeline from src\n",
    "from ingest.database import NoSQLDatabase\n",
    "from processing.nlp_pipeline import KeywordPipeline\n",
    "from processing.nlp_pipeline import EmbeddingsPipeline"
   ]
  },
  {
   "cell_type": "code",
   "execution_count": 6,
   "id": "b1ac6234",
   "metadata": {},
   "outputs": [
    {
     "name": "stdout",
     "output_type": "stream",
     "text": [
      "doc2vec_gigaword_300 download started this may take some time.\n",
      "Approximate size to download 312.3 MB\n",
      "[ | ]doc2vec_gigaword_300 download started this may take some time.\n",
      "Approximate size to download 312.3 MB\n",
      "Download done! Loading the resource.\n",
      "[ / ]"
     ]
    },
    {
     "name": "stderr",
     "output_type": "stream",
     "text": [
      "                                                                                \r"
     ]
    },
    {
     "name": "stdout",
     "output_type": "stream",
     "text": [
      "[OK!]\n"
     ]
    }
   ],
   "source": [
    "# config reader\n",
    "def read_config(fin):\n",
    "    \"\"\"Read .json config file\"\"\"\n",
    "    with open(fin) as f:\n",
    "        return json.load(f)\n",
    "\n",
    "# create db object\n",
    "database_config = read_config(f\"{os.environ['SCRATCH']}/big_data/youtube-for-newspapers/config.json\")\n",
    "db =  NoSQLDatabase()\n",
    "db = db.from_config(database_config[\"nosql_database\"])\n",
    "\n",
    "# create keywords pipeline\n",
    "kw_pipeline = KeywordPipeline.from_config(database_config[\"processing_pipeline\"][\"keywords\"])\n",
    "kw_pipeline.setup_pipeline()\n",
    "\n",
    "# create keywords pipeline\n",
    "em_pipeline = EmbeddingsPipeline.from_config(database_config[\"processing_pipeline\"][\"doc2vec\"])\n",
    "em_pipeline.setup_pipeline()"
   ]
  },
  {
   "cell_type": "markdown",
   "id": "b9fcd3cc",
   "metadata": {},
   "source": [
    "# Visualizations"
   ]
  },
  {
   "cell_type": "code",
   "execution_count": 8,
   "id": "f3c67476",
   "metadata": {},
   "outputs": [
    {
     "data": {
      "text/html": [
       "<style>@charset \"UTF-8\";/*!*\n",
       " * chart.css\n",
       " * @author: Theus Falcão\n",
       " * @description: A Simple CSS Chart System\n",
       " * @version: 1.0.0\n",
       " */.charts{font-size:10px}.charts span{text-transform:uppercase}.charts--vertical{height:25rem;display:inline-block}.charts--vertical .charts__percent{display:table;position:relative;top:50%;-webkit-transform:rotate(-90deg);-ms-transform:rotate(-90deg);transform:rotate(-90deg);left:-.5rem;color:#ebeded}.charts--vertical .charts__percent:empty::after{content:\"100%\";margin-left:.345rem;font-size:1.1rem}.charts--vertical .charts__chart{width:2rem;height:100%;display:inline-block;margin:0 .2rem}.charts--vertical .charts__chart>.charts__chart{width:100%}.charts--vertical.charts--grouped::after{content:\"Oops! Seems that you used 'charts--grouped' in 'charts--vertical'. This isn't supported.\";font-size:2rem;color:#D0716F}.charts--vertical.charts--grouped .charts__chart{display:none}.charts__chart[data-percent]::after{content:attr(data-percent);display:block;margin-left:45%;position:relative;color:#ebeded;font-size:1.2em;top:.21em}.charts.charts--vertical .chart--p0 .charts__percent:empty::after,.charts:not(.charts--vertical) .chart--p0[data-percent]::after{content:\"0%\"}.charts__chart{background-color:#7f8c8d;width:100%;height:2em;margin:.5em 0}.charts__chart.chart--hover:hover{background-color:#727f80}.charts__chart>.charts__chart{height:100%}.chart--xs{height:.5em}.chart--xs[data-percent]::after{top:-.4em;margin-left:calc(100% + .3em);color:#667273}.chart--sm{height:1em}.chart--sm[data-percent]::after{top:-.25em;margin-left:calc(100% + .3em);color:#667273}.charts--vertical .chart--sm .charts__percent,.charts--vertical .chart--xs .charts__percent{left:-2.2rem;color:#333}.chart--lg{height:3em}.chart--lg[data-percent]::after{font-size:1.4em;top:.33em}.chart--xl{height:4.5em}.chart--xl[data-percent]::after{font-size:2em;top:.4em}.charts--vertical .chart--xs{width:.5em;margin-left:1.5rem}.charts--vertical .chart--sm{width:1em;margin-left:1.4rem}.charts--vertical .chart--lg{width:3em}.charts--vertical .chart--lg .charts__percent{left:0}.charts--vertical .chart--xl{width:4.5em}.charts--vertical .chart--xl .charts__percent{left:.75em}.charts:not(.charts--vertical) .chart--p0{width:0}.charts.charts--vertical .chart--p0{height:0%}.charts.charts--vertical .chart--p1 .charts__percent:empty::after,.charts:not(.charts--vertical) .chart--p1[data-percent]::after{content:\"1%\"}.charts:not(.charts--vertical) .chart--p1{width:1%}.charts.charts--vertical .chart--p1{height:1%}.charts.charts--vertical .chart--p2 .charts__percent:empty::after,.charts:not(.charts--vertical) .chart--p2[data-percent]::after{content:\"2%\"}.charts:not(.charts--vertical) .chart--p2{width:2%}.charts.charts--vertical .chart--p2{height:2%}.charts.charts--vertical .chart--p3 .charts__percent:empty::after,.charts:not(.charts--vertical) .chart--p3[data-percent]::after{content:\"3%\"}.charts:not(.charts--vertical) .chart--p3{width:3%}.charts.charts--vertical .chart--p3{height:3%}.charts.charts--vertical .chart--p4 .charts__percent:empty::after,.charts:not(.charts--vertical) .chart--p4[data-percent]::after{content:\"4%\"}.charts:not(.charts--vertical) .chart--p4{width:4%}.charts.charts--vertical .chart--p4{height:4%}.charts.charts--vertical .chart--p5 .charts__percent:empty::after,.charts:not(.charts--vertical) .chart--p5[data-percent]::after{content:\"5%\"}.charts:not(.charts--vertical) .chart--p5{width:5%}.charts.charts--vertical .chart--p5{height:5%}.charts.charts--vertical .chart--p6 .charts__percent:empty::after,.charts:not(.charts--vertical) .chart--p6[data-percent]::after{content:\"6%\"}.charts:not(.charts--vertical) .chart--p6{width:6%}.charts.charts--vertical .chart--p6{height:6%}.charts.charts--vertical .chart--p7 .charts__percent:empty::after,.charts:not(.charts--vertical) .chart--p7[data-percent]::after{content:\"7%\"}.charts:not(.charts--vertical) .chart--p7{width:7%}.charts.charts--vertical .chart--p7{height:7%}.charts.charts--vertical .chart--p8 .charts__percent:empty::after,.charts:not(.charts--vertical) .chart--p8[data-percent]::after{content:\"8%\"}.charts:not(.charts--vertical) .chart--p8{width:8%}.charts.charts--vertical .chart--p8{height:8%}.charts.charts--vertical .chart--p9 .charts__percent:empty::after,.charts:not(.charts--vertical) .chart--p9[data-percent]::after{content:\"9%\"}.charts:not(.charts--vertical) .chart--p9{width:9%}.charts.charts--vertical .chart--p9{height:9%}.charts.charts--vertical .chart--p10 .charts__percent:empty::after,.charts:not(.charts--vertical) .chart--p10[data-percent]::after{content:\"10%\"}.charts:not(.charts--vertical) .chart--p10{width:10%}.charts.charts--vertical .chart--p10{height:10%}.charts.charts--vertical .chart--p11 .charts__percent:empty::after,.charts:not(.charts--vertical) .chart--p11[data-percent]::after{content:\"11%\"}.charts:not(.charts--vertical) .chart--p11{width:11%}.charts.charts--vertical .chart--p11{height:11%}.charts.charts--vertical .chart--p12 .charts__percent:empty::after,.charts:not(.charts--vertical) .chart--p12[data-percent]::after{content:\"12%\"}.charts:not(.charts--vertical) .chart--p12{width:12%}.charts.charts--vertical .chart--p12{height:12%}.charts.charts--vertical .chart--p13 .charts__percent:empty::after,.charts:not(.charts--vertical) .chart--p13[data-percent]::after{content:\"13%\"}.charts:not(.charts--vertical) .chart--p13{width:13%}.charts.charts--vertical .chart--p13{height:13%}.charts.charts--vertical .chart--p14 .charts__percent:empty::after,.charts:not(.charts--vertical) .chart--p14[data-percent]::after{content:\"14%\"}.charts:not(.charts--vertical) .chart--p14{width:14%}.charts.charts--vertical .chart--p14{height:14%}.charts.charts--vertical .chart--p15 .charts__percent:empty::after,.charts:not(.charts--vertical) .chart--p15[data-percent]::after{content:\"15%\"}.charts:not(.charts--vertical) .chart--p15{width:15%}.charts.charts--vertical .chart--p15{height:15%}.charts.charts--vertical .chart--p16 .charts__percent:empty::after,.charts:not(.charts--vertical) .chart--p16[data-percent]::after{content:\"16%\"}.charts:not(.charts--vertical) .chart--p16{width:16%}.charts.charts--vertical .chart--p16{height:16%}.charts.charts--vertical .chart--p17 .charts__percent:empty::after,.charts:not(.charts--vertical) .chart--p17[data-percent]::after{content:\"17%\"}.charts:not(.charts--vertical) .chart--p17{width:17%}.charts.charts--vertical .chart--p17{height:17%}.charts.charts--vertical .chart--p18 .charts__percent:empty::after,.charts:not(.charts--vertical) .chart--p18[data-percent]::after{content:\"18%\"}.charts:not(.charts--vertical) .chart--p18{width:18%}.charts.charts--vertical .chart--p18{height:18%}.charts.charts--vertical .chart--p19 .charts__percent:empty::after,.charts:not(.charts--vertical) .chart--p19[data-percent]::after{content:\"19%\"}.charts:not(.charts--vertical) .chart--p19{width:19%}.charts.charts--vertical .chart--p19{height:19%}.charts.charts--vertical .chart--p20 .charts__percent:empty::after,.charts:not(.charts--vertical) .chart--p20[data-percent]::after{content:\"20%\"}.charts:not(.charts--vertical) .chart--p20{width:20%}.charts.charts--vertical .chart--p20{height:20%}.charts.charts--vertical .chart--p21 .charts__percent:empty::after,.charts:not(.charts--vertical) .chart--p21[data-percent]::after{content:\"21%\"}.charts:not(.charts--vertical) .chart--p21{width:21%}.charts.charts--vertical .chart--p21{height:21%}.charts.charts--vertical .chart--p22 .charts__percent:empty::after,.charts:not(.charts--vertical) .chart--p22[data-percent]::after{content:\"22%\"}.charts:not(.charts--vertical) .chart--p22{width:22%}.charts.charts--vertical .chart--p22{height:22%}.charts.charts--vertical .chart--p23 .charts__percent:empty::after,.charts:not(.charts--vertical) .chart--p23[data-percent]::after{content:\"23%\"}.charts:not(.charts--vertical) .chart--p23{width:23%}.charts.charts--vertical .chart--p23{height:23%}.charts.charts--vertical .chart--p24 .charts__percent:empty::after,.charts:not(.charts--vertical) .chart--p24[data-percent]::after{content:\"24%\"}.charts:not(.charts--vertical) .chart--p24{width:24%}.charts.charts--vertical .chart--p24{height:24%}.charts.charts--vertical .chart--p25 .charts__percent:empty::after,.charts:not(.charts--vertical) .chart--p25[data-percent]::after{content:\"25%\"}.charts:not(.charts--vertical) .chart--p25{width:25%}.charts.charts--vertical .chart--p25{height:25%}.charts.charts--vertical .chart--p26 .charts__percent:empty::after,.charts:not(.charts--vertical) .chart--p26[data-percent]::after{content:\"26%\"}.charts:not(.charts--vertical) .chart--p26{width:26%}.charts.charts--vertical .chart--p26{height:26%}.charts.charts--vertical .chart--p27 .charts__percent:empty::after,.charts:not(.charts--vertical) .chart--p27[data-percent]::after{content:\"27%\"}.charts:not(.charts--vertical) .chart--p27{width:27%}.charts.charts--vertical .chart--p27{height:27%}.charts.charts--vertical .chart--p28 .charts__percent:empty::after,.charts:not(.charts--vertical) .chart--p28[data-percent]::after{content:\"28%\"}.charts:not(.charts--vertical) .chart--p28{width:28%}.charts.charts--vertical .chart--p28{height:28%}.charts.charts--vertical .chart--p29 .charts__percent:empty::after,.charts:not(.charts--vertical) .chart--p29[data-percent]::after{content:\"29%\"}.charts:not(.charts--vertical) .chart--p29{width:29%}.charts.charts--vertical .chart--p29{height:29%}.charts.charts--vertical .chart--p30 .charts__percent:empty::after,.charts:not(.charts--vertical) .chart--p30[data-percent]::after{content:\"30%\"}.charts:not(.charts--vertical) .chart--p30{width:30%}.charts.charts--vertical .chart--p30{height:30%}.charts.charts--vertical .chart--p31 .charts__percent:empty::after,.charts:not(.charts--vertical) .chart--p31[data-percent]::after{content:\"31%\"}.charts:not(.charts--vertical) .chart--p31{width:31%}.charts.charts--vertical .chart--p31{height:31%}.charts.charts--vertical .chart--p32 .charts__percent:empty::after,.charts:not(.charts--vertical) .chart--p32[data-percent]::after{content:\"32%\"}.charts:not(.charts--vertical) .chart--p32{width:32%}.charts.charts--vertical .chart--p32{height:32%}.charts.charts--vertical .chart--p33 .charts__percent:empty::after,.charts:not(.charts--vertical) .chart--p33[data-percent]::after{content:\"33%\"}.charts:not(.charts--vertical) .chart--p33{width:33%}.charts.charts--vertical .chart--p33{height:33%}.charts.charts--vertical .chart--p34 .charts__percent:empty::after,.charts:not(.charts--vertical) .chart--p34[data-percent]::after{content:\"34%\"}.charts:not(.charts--vertical) .chart--p34{width:34%}.charts.charts--vertical .chart--p34{height:34%}.charts.charts--vertical .chart--p35 .charts__percent:empty::after,.charts:not(.charts--vertical) .chart--p35[data-percent]::after{content:\"35%\"}.charts:not(.charts--vertical) .chart--p35{width:35%}.charts.charts--vertical .chart--p35{height:35%}.charts.charts--vertical .chart--p36 .charts__percent:empty::after,.charts:not(.charts--vertical) .chart--p36[data-percent]::after{content:\"36%\"}.charts:not(.charts--vertical) .chart--p36{width:36%}.charts.charts--vertical .chart--p36{height:36%}.charts.charts--vertical .chart--p37 .charts__percent:empty::after,.charts:not(.charts--vertical) .chart--p37[data-percent]::after{content:\"37%\"}.charts:not(.charts--vertical) .chart--p37{width:37%}.charts.charts--vertical .chart--p37{height:37%}.charts.charts--vertical .chart--p38 .charts__percent:empty::after,.charts:not(.charts--vertical) .chart--p38[data-percent]::after{content:\"38%\"}.charts:not(.charts--vertical) .chart--p38{width:38%}.charts.charts--vertical .chart--p38{height:38%}.charts.charts--vertical .chart--p39 .charts__percent:empty::after,.charts:not(.charts--vertical) .chart--p39[data-percent]::after{content:\"39%\"}.charts:not(.charts--vertical) .chart--p39{width:39%}.charts.charts--vertical .chart--p39{height:39%}.charts.charts--vertical .chart--p40 .charts__percent:empty::after,.charts:not(.charts--vertical) .chart--p40[data-percent]::after{content:\"40%\"}.charts:not(.charts--vertical) .chart--p40{width:40%}.charts.charts--vertical .chart--p40{height:40%}.charts.charts--vertical .chart--p41 .charts__percent:empty::after,.charts:not(.charts--vertical) .chart--p41[data-percent]::after{content:\"41%\"}.charts:not(.charts--vertical) .chart--p41{width:41%}.charts.charts--vertical .chart--p41{height:41%}.charts.charts--vertical .chart--p42 .charts__percent:empty::after,.charts:not(.charts--vertical) .chart--p42[data-percent]::after{content:\"42%\"}.charts:not(.charts--vertical) .chart--p42{width:42%}.charts.charts--vertical .chart--p42{height:42%}.charts.charts--vertical .chart--p43 .charts__percent:empty::after,.charts:not(.charts--vertical) .chart--p43[data-percent]::after{content:\"43%\"}.charts:not(.charts--vertical) .chart--p43{width:43%}.charts.charts--vertical .chart--p43{height:43%}.charts.charts--vertical .chart--p44 .charts__percent:empty::after,.charts:not(.charts--vertical) .chart--p44[data-percent]::after{content:\"44%\"}.charts:not(.charts--vertical) .chart--p44{width:44%}.charts.charts--vertical .chart--p44{height:44%}.charts.charts--vertical .chart--p45 .charts__percent:empty::after,.charts:not(.charts--vertical) .chart--p45[data-percent]::after{content:\"45%\"}.charts:not(.charts--vertical) .chart--p45{width:45%}.charts.charts--vertical .chart--p45{height:45%}.charts.charts--vertical .chart--p46 .charts__percent:empty::after,.charts:not(.charts--vertical) .chart--p46[data-percent]::after{content:\"46%\"}.charts:not(.charts--vertical) .chart--p46{width:46%}.charts.charts--vertical .chart--p46{height:46%}.charts.charts--vertical .chart--p47 .charts__percent:empty::after,.charts:not(.charts--vertical) .chart--p47[data-percent]::after{content:\"47%\"}.charts:not(.charts--vertical) .chart--p47{width:47%}.charts.charts--vertical .chart--p47{height:47%}.charts.charts--vertical .chart--p48 .charts__percent:empty::after,.charts:not(.charts--vertical) .chart--p48[data-percent]::after{content:\"48%\"}.charts:not(.charts--vertical) .chart--p48{width:48%}.charts.charts--vertical .chart--p48{height:48%}.charts.charts--vertical .chart--p49 .charts__percent:empty::after,.charts:not(.charts--vertical) .chart--p49[data-percent]::after{content:\"49%\"}.charts:not(.charts--vertical) .chart--p49{width:49%}.charts.charts--vertical .chart--p49{height:49%}.charts.charts--vertical .chart--p50 .charts__percent:empty::after,.charts:not(.charts--vertical) .chart--p50[data-percent]::after{content:\"50%\"}.charts:not(.charts--vertical) .chart--p50{width:50%}.charts.charts--vertical .chart--p50{height:50%}.charts.charts--vertical .chart--p51 .charts__percent:empty::after,.charts:not(.charts--vertical) .chart--p51[data-percent]::after{content:\"51%\"}.charts:not(.charts--vertical) .chart--p51{width:51%}.charts.charts--vertical .chart--p51{height:51%}.charts.charts--vertical .chart--p52 .charts__percent:empty::after,.charts:not(.charts--vertical) .chart--p52[data-percent]::after{content:\"52%\"}.charts:not(.charts--vertical) .chart--p52{width:52%}.charts.charts--vertical .chart--p52{height:52%}.charts.charts--vertical .chart--p53 .charts__percent:empty::after,.charts:not(.charts--vertical) .chart--p53[data-percent]::after{content:\"53%\"}.charts:not(.charts--vertical) .chart--p53{width:53%}.charts.charts--vertical .chart--p53{height:53%}.charts.charts--vertical .chart--p54 .charts__percent:empty::after,.charts:not(.charts--vertical) .chart--p54[data-percent]::after{content:\"54%\"}.charts:not(.charts--vertical) .chart--p54{width:54%}.charts.charts--vertical .chart--p54{height:54%}.charts.charts--vertical .chart--p55 .charts__percent:empty::after,.charts:not(.charts--vertical) .chart--p55[data-percent]::after{content:\"55%\"}.charts:not(.charts--vertical) .chart--p55{width:55%}.charts.charts--vertical .chart--p55{height:55%}.charts.charts--vertical .chart--p56 .charts__percent:empty::after,.charts:not(.charts--vertical) .chart--p56[data-percent]::after{content:\"56%\"}.charts:not(.charts--vertical) .chart--p56{width:56%}.charts.charts--vertical .chart--p56{height:56%}.charts.charts--vertical .chart--p57 .charts__percent:empty::after,.charts:not(.charts--vertical) .chart--p57[data-percent]::after{content:\"57%\"}.charts:not(.charts--vertical) .chart--p57{width:57%}.charts.charts--vertical .chart--p57{height:57%}.charts.charts--vertical .chart--p58 .charts__percent:empty::after,.charts:not(.charts--vertical) .chart--p58[data-percent]::after{content:\"58%\"}.charts:not(.charts--vertical) .chart--p58{width:58%}.charts.charts--vertical .chart--p58{height:58%}.charts.charts--vertical .chart--p59 .charts__percent:empty::after,.charts:not(.charts--vertical) .chart--p59[data-percent]::after{content:\"59%\"}.charts:not(.charts--vertical) .chart--p59{width:59%}.charts.charts--vertical .chart--p59{height:59%}.charts.charts--vertical .chart--p60 .charts__percent:empty::after,.charts:not(.charts--vertical) .chart--p60[data-percent]::after{content:\"60%\"}.charts:not(.charts--vertical) .chart--p60{width:60%}.charts.charts--vertical .chart--p60{height:60%}.charts.charts--vertical .chart--p61 .charts__percent:empty::after,.charts:not(.charts--vertical) .chart--p61[data-percent]::after{content:\"61%\"}.charts:not(.charts--vertical) .chart--p61{width:61%}.charts.charts--vertical .chart--p61{height:61%}.charts.charts--vertical .chart--p62 .charts__percent:empty::after,.charts:not(.charts--vertical) .chart--p62[data-percent]::after{content:\"62%\"}.charts:not(.charts--vertical) .chart--p62{width:62%}.charts.charts--vertical .chart--p62{height:62%}.charts.charts--vertical .chart--p63 .charts__percent:empty::after,.charts:not(.charts--vertical) .chart--p63[data-percent]::after{content:\"63%\"}.charts:not(.charts--vertical) .chart--p63{width:63%}.charts.charts--vertical .chart--p63{height:63%}.charts.charts--vertical .chart--p64 .charts__percent:empty::after,.charts:not(.charts--vertical) .chart--p64[data-percent]::after{content:\"64%\"}.charts:not(.charts--vertical) .chart--p64{width:64%}.charts.charts--vertical .chart--p64{height:64%}.charts.charts--vertical .chart--p65 .charts__percent:empty::after,.charts:not(.charts--vertical) .chart--p65[data-percent]::after{content:\"65%\"}.charts:not(.charts--vertical) .chart--p65{width:65%}.charts.charts--vertical .chart--p65{height:65%}.charts.charts--vertical .chart--p66 .charts__percent:empty::after,.charts:not(.charts--vertical) .chart--p66[data-percent]::after{content:\"66%\"}.charts:not(.charts--vertical) .chart--p66{width:66%}.charts.charts--vertical .chart--p66{height:66%}.charts.charts--vertical .chart--p67 .charts__percent:empty::after,.charts:not(.charts--vertical) .chart--p67[data-percent]::after{content:\"67%\"}.charts:not(.charts--vertical) .chart--p67{width:67%}.charts.charts--vertical .chart--p67{height:67%}.charts.charts--vertical .chart--p68 .charts__percent:empty::after,.charts:not(.charts--vertical) .chart--p68[data-percent]::after{content:\"68%\"}.charts:not(.charts--vertical) .chart--p68{width:68%}.charts.charts--vertical .chart--p68{height:68%}.charts.charts--vertical .chart--p69 .charts__percent:empty::after,.charts:not(.charts--vertical) .chart--p69[data-percent]::after{content:\"69%\"}.charts:not(.charts--vertical) .chart--p69{width:69%}.charts.charts--vertical .chart--p69{height:69%}.charts.charts--vertical .chart--p70 .charts__percent:empty::after,.charts:not(.charts--vertical) .chart--p70[data-percent]::after{content:\"70%\"}.charts:not(.charts--vertical) .chart--p70{width:70%}.charts.charts--vertical .chart--p70{height:70%}.charts.charts--vertical .chart--p71 .charts__percent:empty::after,.charts:not(.charts--vertical) .chart--p71[data-percent]::after{content:\"71%\"}.charts:not(.charts--vertical) .chart--p71{width:71%}.charts.charts--vertical .chart--p71{height:71%}.charts.charts--vertical .chart--p72 .charts__percent:empty::after,.charts:not(.charts--vertical) .chart--p72[data-percent]::after{content:\"72%\"}.charts:not(.charts--vertical) .chart--p72{width:72%}.charts.charts--vertical .chart--p72{height:72%}.charts.charts--vertical .chart--p73 .charts__percent:empty::after,.charts:not(.charts--vertical) .chart--p73[data-percent]::after{content:\"73%\"}.charts:not(.charts--vertical) .chart--p73{width:73%}.charts.charts--vertical .chart--p73{height:73%}.charts.charts--vertical .chart--p74 .charts__percent:empty::after,.charts:not(.charts--vertical) .chart--p74[data-percent]::after{content:\"74%\"}.charts:not(.charts--vertical) .chart--p74{width:74%}.charts.charts--vertical .chart--p74{height:74%}.charts.charts--vertical .chart--p75 .charts__percent:empty::after,.charts:not(.charts--vertical) .chart--p75[data-percent]::after{content:\"75%\"}.charts:not(.charts--vertical) .chart--p75{width:75%}.charts.charts--vertical .chart--p75{height:75%}.charts.charts--vertical .chart--p76 .charts__percent:empty::after,.charts:not(.charts--vertical) .chart--p76[data-percent]::after{content:\"76%\"}.charts:not(.charts--vertical) .chart--p76{width:76%}.charts.charts--vertical .chart--p76{height:76%}.charts.charts--vertical .chart--p77 .charts__percent:empty::after,.charts:not(.charts--vertical) .chart--p77[data-percent]::after{content:\"77%\"}.charts:not(.charts--vertical) .chart--p77{width:77%}.charts.charts--vertical .chart--p77{height:77%}.charts.charts--vertical .chart--p78 .charts__percent:empty::after,.charts:not(.charts--vertical) .chart--p78[data-percent]::after{content:\"78%\"}.charts:not(.charts--vertical) .chart--p78{width:78%}.charts.charts--vertical .chart--p78{height:78%}.charts.charts--vertical .chart--p79 .charts__percent:empty::after,.charts:not(.charts--vertical) .chart--p79[data-percent]::after{content:\"79%\"}.charts:not(.charts--vertical) .chart--p79{width:79%}.charts.charts--vertical .chart--p79{height:79%}.charts.charts--vertical .chart--p80 .charts__percent:empty::after,.charts:not(.charts--vertical) .chart--p80[data-percent]::after{content:\"80%\"}.charts:not(.charts--vertical) .chart--p80{width:80%}.charts.charts--vertical .chart--p80{height:80%}.charts.charts--vertical .chart--p81 .charts__percent:empty::after,.charts:not(.charts--vertical) .chart--p81[data-percent]::after{content:\"81%\"}.charts:not(.charts--vertical) .chart--p81{width:81%}.charts.charts--vertical .chart--p81{height:81%}.charts.charts--vertical .chart--p82 .charts__percent:empty::after,.charts:not(.charts--vertical) .chart--p82[data-percent]::after{content:\"82%\"}.charts:not(.charts--vertical) .chart--p82{width:82%}.charts.charts--vertical .chart--p82{height:82%}.charts.charts--vertical .chart--p83 .charts__percent:empty::after,.charts:not(.charts--vertical) .chart--p83[data-percent]::after{content:\"83%\"}.charts:not(.charts--vertical) .chart--p83{width:83%}.charts.charts--vertical .chart--p83{height:83%}.charts.charts--vertical .chart--p84 .charts__percent:empty::after,.charts:not(.charts--vertical) .chart--p84[data-percent]::after{content:\"84%\"}.charts:not(.charts--vertical) .chart--p84{width:84%}.charts.charts--vertical .chart--p84{height:84%}.charts.charts--vertical .chart--p85 .charts__percent:empty::after,.charts:not(.charts--vertical) .chart--p85[data-percent]::after{content:\"85%\"}.charts:not(.charts--vertical) .chart--p85{width:85%}.charts.charts--vertical .chart--p85{height:85%}.charts.charts--vertical .chart--p86 .charts__percent:empty::after,.charts:not(.charts--vertical) .chart--p86[data-percent]::after{content:\"86%\"}.charts:not(.charts--vertical) .chart--p86{width:86%}.charts.charts--vertical .chart--p86{height:86%}.charts.charts--vertical .chart--p87 .charts__percent:empty::after,.charts:not(.charts--vertical) .chart--p87[data-percent]::after{content:\"87%\"}.charts:not(.charts--vertical) .chart--p87{width:87%}.charts.charts--vertical .chart--p87{height:87%}.charts.charts--vertical .chart--p88 .charts__percent:empty::after,.charts:not(.charts--vertical) .chart--p88[data-percent]::after{content:\"88%\"}.charts:not(.charts--vertical) .chart--p88{width:88%}.charts.charts--vertical .chart--p88{height:88%}.charts.charts--vertical .chart--p89 .charts__percent:empty::after,.charts:not(.charts--vertical) .chart--p89[data-percent]::after{content:\"89%\"}.charts:not(.charts--vertical) .chart--p89{width:89%}.charts.charts--vertical .chart--p89{height:89%}.charts.charts--vertical .chart--p90 .charts__percent:empty::after,.charts:not(.charts--vertical) .chart--p90[data-percent]::after{content:\"90%\"}.charts:not(.charts--vertical) .chart--p90{width:90%}.charts.charts--vertical .chart--p90{height:90%}.charts.charts--vertical .chart--p91 .charts__percent:empty::after,.charts:not(.charts--vertical) .chart--p91[data-percent]::after{content:\"91%\"}.charts:not(.charts--vertical) .chart--p91{width:91%}.charts.charts--vertical .chart--p91{height:91%}.charts.charts--vertical .chart--p92 .charts__percent:empty::after,.charts:not(.charts--vertical) .chart--p92[data-percent]::after{content:\"92%\"}.charts:not(.charts--vertical) .chart--p92{width:92%}.charts.charts--vertical .chart--p92{height:92%}.charts.charts--vertical .chart--p93 .charts__percent:empty::after,.charts:not(.charts--vertical) .chart--p93[data-percent]::after{content:\"93%\"}.charts:not(.charts--vertical) .chart--p93{width:93%}.charts.charts--vertical .chart--p93{height:93%}.charts.charts--vertical .chart--p94 .charts__percent:empty::after,.charts:not(.charts--vertical) .chart--p94[data-percent]::after{content:\"94%\"}.charts:not(.charts--vertical) .chart--p94{width:94%}.charts.charts--vertical .chart--p94{height:94%}.charts.charts--vertical .chart--p95 .charts__percent:empty::after,.charts:not(.charts--vertical) .chart--p95[data-percent]::after{content:\"95%\"}.charts:not(.charts--vertical) .chart--p95{width:95%}.charts.charts--vertical .chart--p95{height:95%}.charts.charts--vertical .chart--p96 .charts__percent:empty::after,.charts:not(.charts--vertical) .chart--p96[data-percent]::after{content:\"96%\"}.charts:not(.charts--vertical) .chart--p96{width:96%}.charts.charts--vertical .chart--p96{height:96%}.charts.charts--vertical .chart--p97 .charts__percent:empty::after,.charts:not(.charts--vertical) .chart--p97[data-percent]::after{content:\"97%\"}.charts:not(.charts--vertical) .chart--p97{width:97%}.charts.charts--vertical .chart--p97{height:97%}.charts.charts--vertical .chart--p98 .charts__percent:empty::after,.charts:not(.charts--vertical) .chart--p98[data-percent]::after{content:\"98%\"}.charts:not(.charts--vertical) .chart--p98{width:98%}.charts.charts--vertical .chart--p98{height:98%}.charts.charts--vertical .chart--p99 .charts__percent:empty::after,.charts:not(.charts--vertical) .chart--p99[data-percent]::after{content:\"99%\"}.charts:not(.charts--vertical) .chart--p99{width:99%}.charts.charts--vertical .chart--p99{height:99%}.charts.charts--vertical .chart--p100 .charts__percent:empty::after,.charts:not(.charts--vertical) .chart--p100[data-percent]::after{content:\"100%\"}.charts:not(.charts--vertical) .chart--p100{width:100%}.charts.charts--vertical .chart--p100{height:100%}.chart--default{background-color:#7f8c8d}.chart--default.chart--hover:hover{background-color:#727f80}.chart--blue{background-color:#2980b9}.chart--blue.chart--hover:hover{background-color:#2472a4}.chart--green{background-color:#27ae60}.chart--green.chart--hover:hover{background-color:#295}.chart--red{background-color:#c0392b}.chart--red.chart--hover:hover{background-color:#ab3326}.chart--yellow{background-color:#f1c40f}.chart--yellow.chart--hover:hover{background-color:#dab10d}.chart--grey{background-color:#2c3e50}.chart--grey.chart--hover:hover{background-color:#233140}.chart--inverse{background-color:#ecf0f1}.chart--inverse.chart--hover:hover{background-color:#dde4e6}.charts--grouped [data-percent]::after{display:none}</style>"
      ],
      "text/plain": [
       "<IPython.core.display.HTML object>"
      ]
     },
     "execution_count": 8,
     "metadata": {},
     "output_type": "execute_result"
    }
   ],
   "source": [
    "# load custom css\n",
    "from IPython.core.display import HTML\n",
    "\n",
    "def _set_css_style():\n",
    "    res = !pwd\n",
    "    css_file_path = res[0] + \"/../chart.css\"\n",
    "    styles = open(css_file_path, \"r\").read()\n",
    "    s = '<style>%s</style>' % styles     \n",
    "    return HTML(s)\n",
    "\n",
    "_set_css_style()"
   ]
  },
  {
   "cell_type": "code",
   "execution_count": 9,
   "id": "3e3c8b45",
   "metadata": {},
   "outputs": [
    {
     "data": {
      "text/html": [
       "<style>\n",
       ".box_style{\n",
       "    width:100%;\n",
       "    border : None;\n",
       "    height: auto;\n",
       "    background-color:#EEE;\n",
       "    color=white;\n",
       "}\n",
       ".side_bar{\n",
       "    width:100%;\n",
       "    border: None;\n",
       "    height: auto;\n",
       "    background-color:#66b2b2;\n",
       "    color=white;\n",
       "}\n",
       "\n",
       ".widget-label {\n",
       "    color: white !important;\n",
       "}\n",
       "\n",
       ".widget_text {\n",
       "    border-radius: 8px;\n",
       "}\n",
       ".button_style {\n",
       "    margin-top: 15px;\n",
       "}\n",
       ".widget-html > .widget-html-content {\n",
       "   line-height: 20px !important;\n",
       "}\n",
       ".widget-html {\n",
       "    line-height: 20px !important;\n",
       "}\n",
       ".view_button_style {\n",
       "    background: white;\n",
       "    border: 1px solid #c4c3dd;\n",
       "    border-radius: 5px;\n",
       "}\n",
       ".chart--sm {\n",
       "    height: 0.5em;\n",
       "}\n",
       "</style>\n"
      ],
      "text/plain": [
       "<IPython.core.display.HTML object>"
      ]
     },
     "metadata": {},
     "output_type": "display_data"
    }
   ],
   "source": [
    "%%html\n",
    "<style>\n",
    ".box_style{\n",
    "    width:100%;\n",
    "    border : None;\n",
    "    height: auto;\n",
    "    background-color:#EEE;\n",
    "    color=white;\n",
    "}\n",
    ".side_bar{\n",
    "    width:100%;\n",
    "    border: None;\n",
    "    height: auto;\n",
    "    background-color:#66b2b2;\n",
    "    color=white;\n",
    "}\n",
    "\n",
    ".widget-label {\n",
    "    color: white !important;\n",
    "}\n",
    "\n",
    ".widget_text {\n",
    "    border-radius: 8px;\n",
    "}\n",
    ".button_style {\n",
    "    margin-top: 15px;\n",
    "}\n",
    ".widget-html > .widget-html-content {\n",
    "   line-height: 20px !important;\n",
    "}\n",
    ".widget-html {\n",
    "    line-height: 20px !important;\n",
    "}\n",
    ".view_button_style {\n",
    "    background: white;\n",
    "    border: 1px solid #c4c3dd;\n",
    "    border-radius: 5px;\n",
    "}\n",
    ".chart--sm {\n",
    "    height: 0.5em;\n",
    "}\n",
    "</style>"
   ]
  },
  {
   "cell_type": "code",
   "execution_count": 10,
   "id": "4815b738",
   "metadata": {},
   "outputs": [
    {
     "data": {
      "application/vnd.jupyter.widget-view+json": {
       "model_id": "ff261f859e56442d9b7de70694818a78",
       "version_major": 2,
       "version_minor": 0
      },
      "text/plain": [
       "Output()"
      ]
     },
     "metadata": {},
     "output_type": "display_data"
    }
   ],
   "source": [
    "import ipywidgets as ipw\n",
    "from IPython.display import HTML, display, clear_output, Javascript\n",
    "from bson.objectid import ObjectId\n",
    "import re\n",
    "from functools import partial\n",
    "import cgi\n",
    "\n",
    "def show_document(header, text):\n",
    "    \n",
    "    display(Javascript(\"\"\"\n",
    "        require(\n",
    "            [\"base/js/dialog\"], \n",
    "            function(dialog) {\n",
    "                console.log('d', dialog.modal);\n",
    "                dialog.modal({\n",
    "                    title: '%s',\n",
    "                    body: 'replace_me',\n",
    "                    buttons: {\n",
    "                        'Done': {}\n",
    "                    }\n",
    "                });\n",
    "                // Using setTimeout to wait for modal to render first\n",
    "                setTimeout(function(){\n",
    "                const found_modals = document.getElementsByClassName(\"modal-body\");\n",
    "                for( const fm of found_modals){\n",
    "                    if(fm.innerText === 'replace_me'){\n",
    "                        fm.innerHTML = \"<div>%s</div>\";\n",
    "                    }\n",
    "                }\n",
    "                }, 300)\n",
    "            }\n",
    "        );\n",
    "        \"\"\" % (header, text)))\n",
    "\n",
    "def view_doc_clicked(title, rendered_text, _b):\n",
    "    show_document(clean_text(title), rendered_text)\n",
    "\n",
    "notify_output = ipw.Output()\n",
    "display(notify_output)\n",
    "\n",
    "@notify_output.capture()\n",
    "def popup(text):\n",
    "    clear_output()\n",
    "    display(HTML(\"<script>alert('{}');</script>\".format(text)))\n",
    "\n",
    "def create_result_option(record_id, record_title, ctx_text, publisher, pub_date, object_id, vs_score, kw_score, rendered_text):\n",
    "    items_layout = ipw.Layout(width='90%')\n",
    "    \n",
    "    children = []\n",
    "    row_layout = ipw.Layout(display='flex', flex_flow='row', align_items='stretch', border_bottom='solid 2px lightgrey', padding='5px')\n",
    "    sn_box = ipw.HBox([], layout=ipw.Layout(width='2%', margin='5px 5px 5px 5px'))\n",
    "    rn_box = ipw.HBox(children=[], layout=ipw.Layout(width='10%', margin='5px 5px 5px 5px'))    \n",
    "    \n",
    "    html_out = \"\"      \n",
    "        \n",
    "    if len(ctx_text):\n",
    "        html_out += f\"<br>{ctx_text}\"\n",
    "    if len(publisher):\n",
    "        html_out += f\"<br><font color='#cc3333'/><b>{publisher}</b>\"\n",
    "    if len(pub_date):\n",
    "        html_out += f\": <font color='grey'/>{pub_date}\"\n",
    "    \n",
    "    if len(record_title):\n",
    "        html_out = f\"\"\"<span class='text-primary' style='margin-right: 5px; font-size: 1.5rem'>\n",
    "                            <i class='fa fa-fw fa-globe'></i>\n",
    "                        </span>\n",
    "                        <b><font color='#1b75d0' size=3px/>{record_title}</b><font color='black' size=2px/> {html_out}\"\"\"\n",
    "        \n",
    "        btnView = ipw.Button(description=\"\", tooltip=str(object_id), icon='file-text-o', layout=ipw.Layout(width='100px')).add_class('view_button_style')\n",
    "        btnView.on_click(partial(view_doc_clicked, record_title, rendered_text))\n",
    "        rn_box.children = [btnView]\n",
    "    \n",
    "    \n",
    "    rrf_out = \"\"\"\n",
    "    <div class=\"charts charts--grouped\">\n",
    "\t\t<div class=\"charts__chart chart--p100 chart--sm\" data-percent>\n",
    "\t\t\t<div class=\"charts__chart chart--p100  chart--green\" data-percent>\n",
    "\t\t\t\t<div class=\"charts__chart chart--p%s  chart--blue\" data-percent></div>\n",
    "\t\t\t</div>\n",
    "\t\t</div>\n",
    "\t</div>\n",
    "    \"\"\" % kw_score\n",
    "    \n",
    "    rrf_row = ipw.HBox([\n",
    "        ipw.HTML(\"<span class='text-primary'>Lex</span>\", layout=ipw.Layout(width='5%')),\n",
    "        ipw.HTML(rrf_out, layout=ipw.Layout(width='60%')),\n",
    "        ipw.HTML(\"<span class='text-success' style='margin-left: 5px;'>Vec</span>\", layout=ipw.Layout(width='5%'))\n",
    "    ])\n",
    "      \n",
    "    row_content = ipw.VBox([ipw.HTML(html_out), rrf_row], layout=ipw.Layout(width='90%'))\n",
    "    row = ipw.HBox(children=[sn_box, row_content, rn_box], layout=row_layout)\n",
    " \n",
    "    return row"
   ]
  },
  {
   "cell_type": "code",
   "execution_count": 11,
   "id": "3a9a5eed",
   "metadata": {},
   "outputs": [],
   "source": [
    "def get_fusion_strengths(json_object, _id):\n",
    "    vec_perc = 0\n",
    "    kw_perc = 0\n",
    "    for doc in json_object:\n",
    "        if int(doc['recordID']) == int(_id):\n",
    "            if doc['vs_score'] == 0:\n",
    "                kw_perc = 100\n",
    "            elif doc['kw_score'] == 0:\n",
    "                vec_perc = 100\n",
    "            else:\n",
    "                vec_perc = int(\"%.0f\" % (doc['vs_score']/doc['score'] * 100))\n",
    "                kw_perc = 100 - vec_perc\n",
    "                \n",
    "    return vec_perc, kw_perc"
   ]
  },
  {
   "cell_type": "code",
   "execution_count": 12,
   "id": "2df89790",
   "metadata": {},
   "outputs": [],
   "source": [
    "def clean_query(query, stopwords):\n",
    "    \"\"\"Takes an user query and stopwords array and returns a keywords array\"\"\"\n",
    "    query = re.sub(\"[^a-z]\", \" \", query.strip().lower())\n",
    "    query = re.sub(\"  +\", \" \", query)\n",
    "    keywords = query.split()\n",
    "    keywords = \" \".join([word for word in keywords if word not in stopwords])\n",
    "    return keywords\n",
    "\n",
    "def clean_text(text):\n",
    "        text = re.sub(\"[^0-9a-zA-Z]\", \" \", text)\n",
    "        text = re.sub(\" +\", \" \", text).strip()\n",
    "        return text\n",
    "\n",
    "def article_keyword_highlighter(fulltext, keyword, chunk_start=None, chunk_end=None):\n",
    "    output = []\n",
    "    chunk_end = chunk_end if chunk_end else len(fulltext)\n",
    "    chunk_start = chunk_start if chunk_start else 0\n",
    "    block = fulltext[chunk_start:chunk_end]\n",
    "    m = re.finditer(keyword, block, re.IGNORECASE)\n",
    "    ind = 0\n",
    "    for f in m:\n",
    "        sp = f.span()\n",
    "        start = sp[0]\n",
    "        end = sp[1]\n",
    "        output.append(block[ind:start] + \\\n",
    "            f\"<span style='background-color: yellow;'>{block[start:end]}</span>\")\n",
    "        ind = end\n",
    "    output.append(block[ind:])\n",
    "    return \"\".join(output)\n",
    "\n",
    "def word_highlighter(fulltext, keyword, ctx_length=200):\n",
    "    tot_length = len(fulltext)\n",
    "    f = re.search(keyword, fulltext, re.IGNORECASE)\n",
    "    if not f:\n",
    "        return fulltext[0:ctx_length]\n",
    "    sp = f.span()\n",
    "    start = sp[0]\n",
    "    end = sp[1]\n",
    "    chunk_start = 0 if start-ctx_length < 0 else start-ctx_length\n",
    "    chunk_end = tot_length if end+ctx_length > tot_length else end+ctx_length\n",
    "    return article_keyword_highlighter(fulltext, keyword, chunk_start, chunk_end)\n",
    "\n",
    "def search(query):\n",
    "    keywords_regex = \"|\".join(query.split(\" \"))\n",
    "    documents_cursor = db.query_hybrid(query, kw_pipeline, em_pipeline, spark)\n",
    "    rrf_list = [doc for doc in documents_cursor]\n",
    "    \n",
    "    document_ids = list(doc[\"_id\"] for doc in rrf_list)\n",
    "    \n",
    "    data = db.collection.find({\"_id\": {\"$in\": document_ids}})\n",
    "    \n",
    "    data = list(data)\n",
    "    i = 1\n",
    "    children = []\n",
    "    if len(data) < 1:\n",
    "        children.append(create_result_option(\"#\", '', \"No articles found with this query\", \"\", '', '',''))\n",
    "        return children\n",
    "\n",
    "    for d in data:\n",
    "        text = clean_text(d[\"FullText\"])\n",
    "        ctx_text= word_highlighter(text, keywords_regex)\n",
    "\n",
    "        rendered_text = article_keyword_highlighter(text, keywords_regex)\n",
    "        vs_score, kw_score = get_fusion_strengths(rrf_list, d['RecordID'])\n",
    "        children.append(create_result_option(i,\n",
    "                                             d[\"RecordTitle\"],\n",
    "                                             ctx_text,\n",
    "                                             d[\"Publisher\"],\n",
    "                                             d[\"AlphaPubDate\"],\n",
    "                                             d['_id'],\n",
    "                                             vs_score,\n",
    "                                             kw_score,\n",
    "                                            rendered_text)\n",
    "                       )\n",
    "        i += 1\n",
    "    return children"
   ]
  },
  {
   "cell_type": "code",
   "execution_count": 13,
   "id": "e747845a",
   "metadata": {
    "scrolled": false
   },
   "outputs": [
    {
     "data": {
      "application/vnd.jupyter.widget-view+json": {
       "model_id": "49b9e51da3cc4b31bc2f390ad81485b7",
       "version_major": 2,
       "version_minor": 0
      },
      "text/plain": [
       "AppLayout(children=(HBox(children=(HTML(value='<h1> YouTube for Newspapers </h1>', layout=Layout(align_content…"
      ]
     },
     "execution_count": 13,
     "metadata": {},
     "output_type": "execute_result"
    },
    {
     "name": "stderr",
     "output_type": "stream",
     "text": [
      "WARNING: An illegal reflective access operation has occurred\n",
      "WARNING: Illegal reflective access by org.apache.spark.util.SizeEstimator$ (file:/ext3/spark-3.3.0-bin-hadoop3/jars/spark-core_2.12-3.3.0.jar) to field java.util.regex.Pattern.pattern\n",
      "WARNING: Please consider reporting this to the maintainers of org.apache.spark.util.SizeEstimator$\n",
      "WARNING: Use --illegal-access=warn to enable warnings of further illegal reflective access operations\n",
      "WARNING: All illegal access operations will be denied in a future release\n",
      "                                                                                \r"
     ]
    },
    {
     "ename": "ServerSelectionTimeoutError",
     "evalue": "bigdatafinalproject-shard-00-01.sl03s.mongodb.net:27017: timed out (configured timeouts: socketTimeoutMS: 20000.0ms, connectTimeoutMS: 20000.0ms),bigdatafinalproject-shard-00-02.sl03s.mongodb.net:27017: timed out (configured timeouts: socketTimeoutMS: 20000.0ms, connectTimeoutMS: 20000.0ms),bigdatafinalproject-shard-00-00.sl03s.mongodb.net:27017: timed out (configured timeouts: socketTimeoutMS: 20000.0ms, connectTimeoutMS: 20000.0ms), Timeout: 30s, Topology Description: <TopologyDescription id: 663abd6f4d9e3123d7e4cbab, topology_type: ReplicaSetNoPrimary, servers: [<ServerDescription ('bigdatafinalproject-shard-00-00.sl03s.mongodb.net', 27017) server_type: Unknown, rtt: None, error=NetworkTimeout('bigdatafinalproject-shard-00-00.sl03s.mongodb.net:27017: timed out (configured timeouts: socketTimeoutMS: 20000.0ms, connectTimeoutMS: 20000.0ms)')>, <ServerDescription ('bigdatafinalproject-shard-00-01.sl03s.mongodb.net', 27017) server_type: Unknown, rtt: None, error=NetworkTimeout('bigdatafinalproject-shard-00-01.sl03s.mongodb.net:27017: timed out (configured timeouts: socketTimeoutMS: 20000.0ms, connectTimeoutMS: 20000.0ms)')>, <ServerDescription ('bigdatafinalproject-shard-00-02.sl03s.mongodb.net', 27017) server_type: Unknown, rtt: None, error=NetworkTimeout('bigdatafinalproject-shard-00-02.sl03s.mongodb.net:27017: timed out (configured timeouts: socketTimeoutMS: 20000.0ms, connectTimeoutMS: 20000.0ms)')>]>",
     "output_type": "error",
     "traceback": [
      "\u001b[0;31m---------------------------------------------------------------------------\u001b[0m",
      "\u001b[0;31mServerSelectionTimeoutError\u001b[0m               Traceback (most recent call last)",
      "Cell \u001b[0;32mIn [13], line 21\u001b[0m, in \u001b[0;36mon_button_clicked\u001b[0;34m(b)\u001b[0m\n\u001b[1;32m     19\u001b[0m     popup(\u001b[38;5;124m\"\u001b[39m\u001b[38;5;124mEnter search Key.\u001b[39m\u001b[38;5;124m\"\u001b[39m)\n\u001b[1;32m     20\u001b[0m \u001b[38;5;28;01melse\u001b[39;00m:\n\u001b[0;32m---> 21\u001b[0m     main_panel\u001b[38;5;241m.\u001b[39mchildren \u001b[38;5;241m=\u001b[39m \u001b[43msearch\u001b[49m\u001b[43m(\u001b[49m\u001b[43mtxt_keyword\u001b[49m\u001b[38;5;241;43m.\u001b[39;49m\u001b[43mvalue\u001b[49m\u001b[38;5;241;43m.\u001b[39;49m\u001b[43mlower\u001b[49m\u001b[43m(\u001b[49m\u001b[43m)\u001b[49m\u001b[43m)\u001b[49m\n\u001b[1;32m     22\u001b[0m stop \u001b[38;5;241m=\u001b[39m time()\n\u001b[1;32m     23\u001b[0m \u001b[38;5;28mprint\u001b[39m(stop\u001b[38;5;241m-\u001b[39mstart)\n",
      "Cell \u001b[0;32mIn [12], line 45\u001b[0m, in \u001b[0;36msearch\u001b[0;34m(query)\u001b[0m\n\u001b[1;32m     43\u001b[0m \u001b[38;5;28;01mdef\u001b[39;00m \u001b[38;5;21msearch\u001b[39m(query):\n\u001b[1;32m     44\u001b[0m     keywords_regex \u001b[38;5;241m=\u001b[39m \u001b[38;5;124m\"\u001b[39m\u001b[38;5;124m|\u001b[39m\u001b[38;5;124m\"\u001b[39m\u001b[38;5;241m.\u001b[39mjoin(query\u001b[38;5;241m.\u001b[39msplit(\u001b[38;5;124m\"\u001b[39m\u001b[38;5;124m \u001b[39m\u001b[38;5;124m\"\u001b[39m))\n\u001b[0;32m---> 45\u001b[0m     documents_cursor \u001b[38;5;241m=\u001b[39m \u001b[43mdb\u001b[49m\u001b[38;5;241;43m.\u001b[39;49m\u001b[43mquery_hybrid\u001b[49m\u001b[43m(\u001b[49m\u001b[43mquery\u001b[49m\u001b[43m,\u001b[49m\u001b[43m \u001b[49m\u001b[43mkw_pipeline\u001b[49m\u001b[43m,\u001b[49m\u001b[43m \u001b[49m\u001b[43mem_pipeline\u001b[49m\u001b[43m,\u001b[49m\u001b[43m \u001b[49m\u001b[43mspark\u001b[49m\u001b[43m)\u001b[49m\n\u001b[1;32m     46\u001b[0m     rrf_list \u001b[38;5;241m=\u001b[39m [doc \u001b[38;5;28;01mfor\u001b[39;00m doc \u001b[38;5;129;01min\u001b[39;00m documents_cursor]\n\u001b[1;32m     48\u001b[0m     document_ids \u001b[38;5;241m=\u001b[39m \u001b[38;5;28mlist\u001b[39m(doc[\u001b[38;5;124m\"\u001b[39m\u001b[38;5;124m_id\u001b[39m\u001b[38;5;124m\"\u001b[39m] \u001b[38;5;28;01mfor\u001b[39;00m doc \u001b[38;5;129;01min\u001b[39;00m rrf_list)\n",
      "File \u001b[0;32m/scratch/ob2205/big_data/youtube-for-newspapers/src/ingest/database.py:112\u001b[0m, in \u001b[0;36mNoSQLDatabase.query_hybrid\u001b[0;34m(self, query, kw_pipeline, em_pipeline, spark)\u001b[0m\n\u001b[1;32m    109\u001b[0m ngrams \u001b[38;5;241m=\u001b[39m [v\u001b[38;5;241m.\u001b[39masDict()[\u001b[38;5;124m\"\u001b[39m\u001b[38;5;124mresult\u001b[39m\u001b[38;5;124m\"\u001b[39m] \u001b[38;5;28;01mfor\u001b[39;00m v \u001b[38;5;129;01min\u001b[39;00m values[\u001b[38;5;124m\"\u001b[39m\u001b[38;5;124mkeywords\u001b[39m\u001b[38;5;124m\"\u001b[39m][\u001b[38;5;241m0\u001b[39m]]\n\u001b[1;32m    110\u001b[0m vector \u001b[38;5;241m=\u001b[39m em_pipeline\u001b[38;5;241m.\u001b[39mfit(df)\u001b[38;5;241m.\u001b[39mtransform(df)\u001b[38;5;241m.\u001b[39mtoPandas()\u001b[38;5;241m.\u001b[39mto_dict()[\u001b[38;5;124m\"\u001b[39m\u001b[38;5;124mfinished_embeddings\u001b[39m\u001b[38;5;124m\"\u001b[39m][\u001b[38;5;241m0\u001b[39m][\u001b[38;5;241m0\u001b[39m]\n\u001b[0;32m--> 112\u001b[0m hybrid_results \u001b[38;5;241m=\u001b[39m \u001b[38;5;28;43mself\u001b[39;49m\u001b[38;5;241;43m.\u001b[39;49m\u001b[43mcollection\u001b[49m\u001b[38;5;241;43m.\u001b[39;49m\u001b[43maggregate\u001b[49m\u001b[43m(\u001b[49m\u001b[43m[\u001b[49m\n\u001b[1;32m    113\u001b[0m \u001b[43m    \u001b[49m\u001b[43m{\u001b[49m\n\u001b[1;32m    114\u001b[0m \u001b[43m        \u001b[49m\u001b[38;5;124;43m\"\u001b[39;49m\u001b[38;5;124;43m$vectorSearch\u001b[39;49m\u001b[38;5;124;43m\"\u001b[39;49m\u001b[43m:\u001b[49m\u001b[43m \u001b[49m\u001b[43m{\u001b[49m\n\u001b[1;32m    115\u001b[0m \u001b[43m            \u001b[49m\u001b[38;5;124;43m\"\u001b[39;49m\u001b[38;5;124;43mindex\u001b[39;49m\u001b[38;5;124;43m\"\u001b[39;49m\u001b[43m:\u001b[49m\u001b[43m \u001b[49m\u001b[38;5;124;43m\"\u001b[39;49m\u001b[38;5;124;43mdoc2vec_index\u001b[39;49m\u001b[38;5;124;43m\"\u001b[39;49m\u001b[43m,\u001b[49m\n\u001b[1;32m    116\u001b[0m \u001b[43m            \u001b[49m\u001b[38;5;124;43m\"\u001b[39;49m\u001b[38;5;124;43mpath\u001b[39;49m\u001b[38;5;124;43m\"\u001b[39;49m\u001b[43m:\u001b[49m\u001b[43m \u001b[49m\u001b[38;5;124;43m\"\u001b[39;49m\u001b[38;5;124;43mfinished_embeddings\u001b[39;49m\u001b[38;5;124;43m\"\u001b[39;49m\u001b[43m,\u001b[49m\n\u001b[1;32m    117\u001b[0m \u001b[43m            \u001b[49m\u001b[38;5;124;43m\"\u001b[39;49m\u001b[38;5;124;43mqueryVector\u001b[39;49m\u001b[38;5;124;43m\"\u001b[39;49m\u001b[43m:\u001b[49m\u001b[43m \u001b[49m\u001b[43mvector\u001b[49m\u001b[43m,\u001b[49m\n\u001b[1;32m    118\u001b[0m \u001b[43m            \u001b[49m\u001b[38;5;124;43m\"\u001b[39;49m\u001b[38;5;124;43mnumCandidates\u001b[39;49m\u001b[38;5;124;43m\"\u001b[39;49m\u001b[43m:\u001b[49m\u001b[43m \u001b[49m\u001b[38;5;241;43m100\u001b[39;49m\u001b[43m,\u001b[49m\n\u001b[1;32m    119\u001b[0m \u001b[43m            \u001b[49m\u001b[38;5;124;43m\"\u001b[39;49m\u001b[38;5;124;43mlimit\u001b[39;49m\u001b[38;5;124;43m\"\u001b[39;49m\u001b[43m:\u001b[49m\u001b[43m \u001b[49m\u001b[38;5;28;43mself\u001b[39;49m\u001b[38;5;241;43m.\u001b[39;49m\u001b[43mk\u001b[49m\n\u001b[1;32m    120\u001b[0m \u001b[43m        \u001b[49m\u001b[43m}\u001b[49m\n\u001b[1;32m    121\u001b[0m \u001b[43m    \u001b[49m\u001b[43m}\u001b[49m\u001b[43m,\u001b[49m\n\u001b[1;32m    122\u001b[0m \u001b[43m    \u001b[49m\u001b[43m{\u001b[49m\u001b[38;5;124;43m\"\u001b[39;49m\u001b[38;5;124;43m$group\u001b[39;49m\u001b[38;5;124;43m\"\u001b[39;49m\u001b[43m:\u001b[49m\u001b[43m \u001b[49m\u001b[43m{\u001b[49m\u001b[38;5;124;43m\"\u001b[39;49m\u001b[38;5;124;43m_id\u001b[39;49m\u001b[38;5;124;43m\"\u001b[39;49m\u001b[43m:\u001b[49m\u001b[43m \u001b[49m\u001b[38;5;241;43m0\u001b[39;49m\u001b[43m,\u001b[49m\u001b[43m \u001b[49m\u001b[38;5;124;43m\"\u001b[39;49m\u001b[38;5;124;43mdocs\u001b[39;49m\u001b[38;5;124;43m\"\u001b[39;49m\u001b[43m:\u001b[49m\u001b[43m \u001b[49m\u001b[43m{\u001b[49m\u001b[38;5;124;43m\"\u001b[39;49m\u001b[38;5;124;43m$push\u001b[39;49m\u001b[38;5;124;43m\"\u001b[39;49m\u001b[43m:\u001b[49m\u001b[43m \u001b[49m\u001b[38;5;124;43m\"\u001b[39;49m\u001b[38;5;124;43m$$ROOT\u001b[39;49m\u001b[38;5;124;43m\"\u001b[39;49m\u001b[43m}\u001b[49m\u001b[43m}\u001b[49m\u001b[43m}\u001b[49m\u001b[43m,\u001b[49m\u001b[43m \u001b[49m\n\u001b[1;32m    123\u001b[0m \u001b[43m    \u001b[49m\u001b[43m{\u001b[49m\u001b[38;5;124;43m\"\u001b[39;49m\u001b[38;5;124;43m$unwind\u001b[39;49m\u001b[38;5;124;43m\"\u001b[39;49m\u001b[43m:\u001b[49m\u001b[43m \u001b[49m\u001b[43m{\u001b[49m\u001b[38;5;124;43m\"\u001b[39;49m\u001b[38;5;124;43mpath\u001b[39;49m\u001b[38;5;124;43m\"\u001b[39;49m\u001b[43m:\u001b[49m\u001b[43m \u001b[49m\u001b[38;5;124;43m\"\u001b[39;49m\u001b[38;5;124;43m$docs\u001b[39;49m\u001b[38;5;124;43m\"\u001b[39;49m\u001b[43m,\u001b[49m\u001b[43m \u001b[49m\u001b[38;5;124;43m\"\u001b[39;49m\u001b[38;5;124;43mincludeArrayIndex\u001b[39;49m\u001b[38;5;124;43m\"\u001b[39;49m\u001b[43m:\u001b[49m\u001b[43m \u001b[49m\u001b[38;5;124;43m\"\u001b[39;49m\u001b[38;5;124;43mrank\u001b[39;49m\u001b[38;5;124;43m\"\u001b[39;49m\u001b[43m}\u001b[49m\u001b[43m}\u001b[49m\u001b[43m,\u001b[49m\u001b[43m \u001b[49m\n\u001b[1;32m    124\u001b[0m \u001b[43m    \u001b[49m\u001b[43m{\u001b[49m\u001b[38;5;124;43m\"\u001b[39;49m\u001b[38;5;124;43m$addFields\u001b[39;49m\u001b[38;5;124;43m\"\u001b[39;49m\u001b[43m:\u001b[49m\u001b[43m \u001b[49m\u001b[43m{\u001b[49m\u001b[38;5;124;43m\"\u001b[39;49m\u001b[38;5;124;43mvs_score\u001b[39;49m\u001b[38;5;124;43m\"\u001b[39;49m\u001b[43m:\u001b[49m\u001b[43m \u001b[49m\u001b[43m{\u001b[49m\u001b[38;5;124;43m\"\u001b[39;49m\u001b[38;5;124;43m$divide\u001b[39;49m\u001b[38;5;124;43m\"\u001b[39;49m\u001b[43m:\u001b[49m\u001b[43m \u001b[49m\u001b[43m[\u001b[49m\u001b[38;5;241;43m1.0\u001b[39;49m\u001b[43m,\u001b[49m\u001b[43m \u001b[49m\u001b[43m{\u001b[49m\u001b[38;5;124;43m\"\u001b[39;49m\u001b[38;5;124;43m$add\u001b[39;49m\u001b[38;5;124;43m\"\u001b[39;49m\u001b[43m:\u001b[49m\u001b[43m \u001b[49m\u001b[43m[\u001b[49m\u001b[38;5;124;43m\"\u001b[39;49m\u001b[38;5;124;43m$rank\u001b[39;49m\u001b[38;5;124;43m\"\u001b[39;49m\u001b[43m,\u001b[49m\u001b[43m \u001b[49m\u001b[38;5;28;43mself\u001b[39;49m\u001b[38;5;241;43m.\u001b[39;49m\u001b[43mvector_penalty\u001b[49m\u001b[43m,\u001b[49m\u001b[43m \u001b[49m\u001b[38;5;241;43m1\u001b[39;49m\u001b[43m]\u001b[49m\u001b[43m}\u001b[49m\u001b[43m]\u001b[49m\u001b[43m}\u001b[49m\u001b[43m}\u001b[49m\u001b[43m}\u001b[49m\u001b[43m,\u001b[49m\u001b[43m \u001b[49m\n\u001b[1;32m    125\u001b[0m \u001b[43m    \u001b[49m\u001b[43m{\u001b[49m\u001b[38;5;124;43m\"\u001b[39;49m\u001b[38;5;124;43m$project\u001b[39;49m\u001b[38;5;124;43m\"\u001b[39;49m\u001b[43m:\u001b[49m\u001b[43m \u001b[49m\u001b[43m{\u001b[49m\u001b[38;5;124;43m\"\u001b[39;49m\u001b[38;5;124;43mvs_score\u001b[39;49m\u001b[38;5;124;43m\"\u001b[39;49m\u001b[43m:\u001b[49m\u001b[43m \u001b[49m\u001b[38;5;241;43m1\u001b[39;49m\u001b[43m,\u001b[49m\u001b[43m \u001b[49m\u001b[38;5;124;43m\"\u001b[39;49m\u001b[38;5;124;43m_id\u001b[39;49m\u001b[38;5;124;43m\"\u001b[39;49m\u001b[43m:\u001b[49m\u001b[43m \u001b[49m\u001b[38;5;124;43m\"\u001b[39;49m\u001b[38;5;124;43m$docs._id\u001b[39;49m\u001b[38;5;124;43m\"\u001b[39;49m\u001b[43m,\u001b[49m\u001b[38;5;124;43m\"\u001b[39;49m\u001b[38;5;124;43mrecordID\u001b[39;49m\u001b[38;5;124;43m\"\u001b[39;49m\u001b[43m:\u001b[49m\u001b[43m \u001b[49m\u001b[38;5;124;43m\"\u001b[39;49m\u001b[38;5;124;43m$docs.RecordID\u001b[39;49m\u001b[38;5;124;43m\"\u001b[39;49m\u001b[43m}\u001b[49m\u001b[43m}\u001b[49m\u001b[43m,\u001b[49m\u001b[43m    \u001b[49m\n\u001b[1;32m    126\u001b[0m \u001b[43m    \u001b[49m\u001b[43m{\u001b[49m\n\u001b[1;32m    127\u001b[0m \u001b[43m        \u001b[49m\u001b[38;5;124;43m\"\u001b[39;49m\u001b[38;5;124;43m$unionWith\u001b[39;49m\u001b[38;5;124;43m\"\u001b[39;49m\u001b[43m:\u001b[49m\u001b[43m \u001b[49m\u001b[43m{\u001b[49m\n\u001b[1;32m    128\u001b[0m \u001b[43m            \u001b[49m\u001b[38;5;124;43m\"\u001b[39;49m\u001b[38;5;124;43mcoll\u001b[39;49m\u001b[38;5;124;43m\"\u001b[39;49m\u001b[43m:\u001b[49m\u001b[43m \u001b[49m\u001b[38;5;124;43m\"\u001b[39;49m\u001b[38;5;124;43mnewspapers\u001b[39;49m\u001b[38;5;124;43m\"\u001b[39;49m\u001b[43m,\u001b[49m\n\u001b[1;32m    129\u001b[0m \u001b[43m            \u001b[49m\u001b[38;5;124;43m\"\u001b[39;49m\u001b[38;5;124;43mpipeline\u001b[39;49m\u001b[38;5;124;43m\"\u001b[39;49m\u001b[43m:\u001b[49m\u001b[43m \u001b[49m\u001b[43m[\u001b[49m\n\u001b[1;32m    130\u001b[0m \u001b[43m                \u001b[49m\u001b[43m{\u001b[49m\u001b[38;5;124;43m\"\u001b[39;49m\u001b[38;5;124;43m$match\u001b[39;49m\u001b[38;5;124;43m\"\u001b[39;49m\u001b[43m:\u001b[49m\u001b[43m \u001b[49m\u001b[43m{\u001b[49m\u001b[38;5;124;43m\"\u001b[39;49m\u001b[38;5;124;43mObjectType\u001b[39;49m\u001b[38;5;124;43m\"\u001b[39;49m\u001b[43m:\u001b[49m\u001b[43m \u001b[49m\u001b[38;5;124;43m\"\u001b[39;49m\u001b[38;5;124;43mArticle\u001b[39;49m\u001b[38;5;124;43m\"\u001b[39;49m\u001b[43m}\u001b[49m\u001b[43m}\u001b[49m\u001b[43m,\u001b[49m\u001b[43m \u001b[49m\u001b[38;5;66;43;03m# Filter only articles\u001b[39;49;00m\n\u001b[1;32m    131\u001b[0m \u001b[43m                \u001b[49m\u001b[43m{\u001b[49m\u001b[38;5;124;43m\"\u001b[39;49m\u001b[38;5;124;43m$project\u001b[39;49m\u001b[38;5;124;43m\"\u001b[39;49m\u001b[43m:\u001b[49m\u001b[43m{\u001b[49m\u001b[38;5;124;43m\"\u001b[39;49m\u001b[38;5;124;43mkeywords.result\u001b[39;49m\u001b[38;5;124;43m\"\u001b[39;49m\u001b[43m:\u001b[49m\u001b[43m \u001b[49m\u001b[38;5;241;43m1\u001b[39;49m\u001b[43m,\u001b[49m\u001b[43m \u001b[49m\u001b[38;5;124;43m\"\u001b[39;49m\u001b[38;5;124;43mkeywords.metadata.score\u001b[39;49m\u001b[38;5;124;43m\"\u001b[39;49m\u001b[43m:\u001b[49m\u001b[43m \u001b[49m\u001b[38;5;241;43m1\u001b[39;49m\u001b[43m,\u001b[49m\u001b[43m \u001b[49m\u001b[38;5;124;43m\"\u001b[39;49m\u001b[38;5;124;43mRecordID\u001b[39;49m\u001b[38;5;124;43m\"\u001b[39;49m\u001b[43m:\u001b[49m\u001b[43m \u001b[49m\u001b[38;5;241;43m1\u001b[39;49m\u001b[43m}\u001b[49m\u001b[43m}\u001b[49m\u001b[43m,\u001b[49m\n\u001b[1;32m    132\u001b[0m \u001b[43m                \u001b[49m\u001b[43m{\u001b[49m\u001b[38;5;124;43m\"\u001b[39;49m\u001b[38;5;124;43m$unwind\u001b[39;49m\u001b[38;5;124;43m\"\u001b[39;49m\u001b[43m:\u001b[49m\u001b[43m \u001b[49m\u001b[43m{\u001b[49m\u001b[38;5;124;43m\"\u001b[39;49m\u001b[38;5;124;43mpath\u001b[39;49m\u001b[38;5;124;43m\"\u001b[39;49m\u001b[43m:\u001b[49m\u001b[43m \u001b[49m\u001b[38;5;124;43m\"\u001b[39;49m\u001b[38;5;124;43m$keywords\u001b[39;49m\u001b[38;5;124;43m\"\u001b[39;49m\u001b[43m,\u001b[49m\u001b[43m \u001b[49m\u001b[38;5;124;43m\"\u001b[39;49m\u001b[38;5;124;43mpreserveNullAndEmptyArrays\u001b[39;49m\u001b[38;5;124;43m\"\u001b[39;49m\u001b[43m:\u001b[49m\u001b[43m \u001b[49m\u001b[38;5;28;43;01mFalse\u001b[39;49;00m\u001b[43m}\u001b[49m\u001b[43m}\u001b[49m\u001b[43m,\u001b[49m\n\u001b[1;32m    133\u001b[0m \u001b[43m                \u001b[49m\u001b[43m{\u001b[49m\u001b[38;5;124;43m\"\u001b[39;49m\u001b[38;5;124;43m$match\u001b[39;49m\u001b[38;5;124;43m\"\u001b[39;49m\u001b[43m:\u001b[49m\u001b[43m \u001b[49m\u001b[43m{\u001b[49m\u001b[38;5;124;43m\"\u001b[39;49m\u001b[38;5;124;43mkeywords.result\u001b[39;49m\u001b[38;5;124;43m\"\u001b[39;49m\u001b[43m:\u001b[49m\u001b[43m  \u001b[49m\u001b[43m{\u001b[49m\u001b[38;5;124;43m\"\u001b[39;49m\u001b[38;5;124;43m$in\u001b[39;49m\u001b[38;5;124;43m\"\u001b[39;49m\u001b[43m:\u001b[49m\u001b[43m \u001b[49m\u001b[43mngrams\u001b[49m\u001b[43m}\u001b[49m\u001b[43m}\u001b[49m\u001b[43m}\u001b[49m\u001b[43m,\u001b[49m\n\u001b[1;32m    134\u001b[0m \u001b[43m                \u001b[49m\u001b[43m{\u001b[49m\u001b[38;5;124;43m\"\u001b[39;49m\u001b[38;5;124;43m$group\u001b[39;49m\u001b[38;5;124;43m\"\u001b[39;49m\u001b[43m:\u001b[49m\u001b[43m \u001b[49m\u001b[43m{\u001b[49m\u001b[43m \u001b[49m\u001b[38;5;124;43m\"\u001b[39;49m\u001b[38;5;124;43m_id\u001b[39;49m\u001b[38;5;124;43m\"\u001b[39;49m\u001b[43m:\u001b[49m\u001b[43m \u001b[49m\u001b[38;5;124;43m\"\u001b[39;49m\u001b[38;5;124;43m$_id\u001b[39;49m\u001b[38;5;124;43m\"\u001b[39;49m\u001b[43m,\u001b[49m\u001b[43m \u001b[49m\u001b[38;5;124;43m\"\u001b[39;49m\u001b[38;5;124;43mkeywords\u001b[39;49m\u001b[38;5;124;43m\"\u001b[39;49m\u001b[43m:\u001b[49m\u001b[43m \u001b[49m\u001b[43m{\u001b[49m\u001b[38;5;124;43m\"\u001b[39;49m\u001b[38;5;124;43m$addToSet\u001b[39;49m\u001b[38;5;124;43m\"\u001b[39;49m\u001b[43m:\u001b[49m\u001b[43m \u001b[49m\u001b[38;5;124;43m\"\u001b[39;49m\u001b[38;5;124;43m$keywords\u001b[39;49m\u001b[38;5;124;43m\"\u001b[39;49m\u001b[43m}\u001b[49m\u001b[43m,\u001b[49m\u001b[43m \u001b[49m\u001b[38;5;124;43m\"\u001b[39;49m\u001b[38;5;124;43mrecordID\u001b[39;49m\u001b[38;5;124;43m\"\u001b[39;49m\u001b[43m:\u001b[49m\u001b[43m \u001b[49m\u001b[43m{\u001b[49m\u001b[38;5;124;43m\"\u001b[39;49m\u001b[38;5;124;43m$first\u001b[39;49m\u001b[38;5;124;43m\"\u001b[39;49m\u001b[43m:\u001b[49m\u001b[43m \u001b[49m\u001b[38;5;124;43m\"\u001b[39;49m\u001b[38;5;124;43m$RecordID\u001b[39;49m\u001b[38;5;124;43m\"\u001b[39;49m\u001b[43m}\u001b[49m\u001b[43m}\u001b[49m\u001b[43m}\u001b[49m\u001b[43m,\u001b[49m\n\u001b[1;32m    135\u001b[0m \u001b[43m                \u001b[49m\u001b[43m{\u001b[49m\u001b[38;5;124;43m\"\u001b[39;49m\u001b[38;5;124;43m$unwind\u001b[39;49m\u001b[38;5;124;43m\"\u001b[39;49m\u001b[43m:\u001b[49m\u001b[43m \u001b[49m\u001b[43m{\u001b[49m\u001b[38;5;124;43m\"\u001b[39;49m\u001b[38;5;124;43mpath\u001b[39;49m\u001b[38;5;124;43m\"\u001b[39;49m\u001b[43m:\u001b[49m\u001b[43m \u001b[49m\u001b[38;5;124;43m\"\u001b[39;49m\u001b[38;5;124;43m$keywords\u001b[39;49m\u001b[38;5;124;43m\"\u001b[39;49m\u001b[43m,\u001b[49m\u001b[43m \u001b[49m\u001b[38;5;124;43m\"\u001b[39;49m\u001b[38;5;124;43mpreserveNullAndEmptyArrays\u001b[39;49m\u001b[38;5;124;43m\"\u001b[39;49m\u001b[43m:\u001b[49m\u001b[43m \u001b[49m\u001b[38;5;28;43;01mFalse\u001b[39;49;00m\u001b[43m}\u001b[49m\u001b[43m}\u001b[49m\u001b[43m,\u001b[49m\n\u001b[1;32m    136\u001b[0m \u001b[43m                \u001b[49m\u001b[38;5;66;43;03m# TODO: Zero to large number\u001b[39;49;00m\n\u001b[1;32m    137\u001b[0m \u001b[43m                \u001b[49m\u001b[43m{\u001b[49m\u001b[38;5;124;43m\"\u001b[39;49m\u001b[38;5;124;43m$addFields\u001b[39;49m\u001b[38;5;124;43m\"\u001b[39;49m\u001b[43m:\u001b[49m\u001b[43m \u001b[49m\u001b[43m{\u001b[49m\u001b[38;5;124;43m\"\u001b[39;49m\u001b[38;5;124;43mkeywords.reciprocal\u001b[39;49m\u001b[38;5;124;43m\"\u001b[39;49m\u001b[43m:\u001b[49m\u001b[43m \u001b[49m\u001b[43m{\u001b[49m\u001b[38;5;124;43m\"\u001b[39;49m\u001b[38;5;124;43m$divide\u001b[39;49m\u001b[38;5;124;43m\"\u001b[39;49m\u001b[43m:\u001b[49m\u001b[43m \u001b[49m\u001b[43m[\u001b[49m\u001b[38;5;241;43m1\u001b[39;49m\u001b[43m,\u001b[49m\u001b[43m \u001b[49m\u001b[43m{\u001b[49m\u001b[38;5;124;43m\"\u001b[39;49m\u001b[38;5;124;43m$convert\u001b[39;49m\u001b[38;5;124;43m\"\u001b[39;49m\u001b[43m:\u001b[49m\u001b[43m \u001b[49m\u001b[43m{\u001b[49m\u001b[38;5;124;43m\"\u001b[39;49m\u001b[38;5;124;43minput\u001b[39;49m\u001b[38;5;124;43m\"\u001b[39;49m\u001b[43m:\u001b[49m\u001b[38;5;124;43m\"\u001b[39;49m\u001b[38;5;124;43m$keywords.metadata.score\u001b[39;49m\u001b[38;5;124;43m\"\u001b[39;49m\u001b[43m,\u001b[49m\u001b[43m \u001b[49m\u001b[38;5;124;43m\"\u001b[39;49m\u001b[38;5;124;43mto\u001b[39;49m\u001b[38;5;124;43m\"\u001b[39;49m\u001b[43m:\u001b[49m\u001b[38;5;124;43m\"\u001b[39;49m\u001b[38;5;124;43mdouble\u001b[39;49m\u001b[38;5;124;43m\"\u001b[39;49m\u001b[43m,\u001b[49m\u001b[43m \u001b[49m\u001b[38;5;124;43m\"\u001b[39;49m\u001b[38;5;124;43monError\u001b[39;49m\u001b[38;5;124;43m\"\u001b[39;49m\u001b[43m:\u001b[49m\u001b[43m \u001b[49m\u001b[38;5;241;43m10\u001b[39;49m\u001b[38;5;241;43m*\u001b[39;49m\u001b[38;5;241;43m*\u001b[39;49m\u001b[38;5;241;43m7\u001b[39;49m\u001b[43m,\u001b[49m\u001b[43m \u001b[49m\u001b[38;5;124;43m\"\u001b[39;49m\u001b[38;5;124;43monNull\u001b[39;49m\u001b[38;5;124;43m\"\u001b[39;49m\u001b[43m:\u001b[49m\u001b[43m \u001b[49m\u001b[38;5;241;43m10\u001b[39;49m\u001b[38;5;241;43m*\u001b[39;49m\u001b[38;5;241;43m*\u001b[39;49m\u001b[38;5;241;43m7\u001b[39;49m\u001b[43m}\u001b[49m\u001b[43m}\u001b[49m\u001b[43m]\u001b[49m\u001b[43m}\u001b[49m\u001b[43m}\u001b[49m\u001b[43m}\u001b[49m\u001b[43m,\u001b[49m\n\u001b[1;32m    138\u001b[0m \u001b[43m                \u001b[49m\u001b[43m{\u001b[49m\u001b[38;5;124;43m\"\u001b[39;49m\u001b[38;5;124;43m$group\u001b[39;49m\u001b[38;5;124;43m\"\u001b[39;49m\u001b[43m:\u001b[49m\u001b[43m \u001b[49m\u001b[43m{\u001b[49m\u001b[43m \u001b[49m\u001b[38;5;124;43m\"\u001b[39;49m\u001b[38;5;124;43m_id\u001b[39;49m\u001b[38;5;124;43m\"\u001b[39;49m\u001b[43m:\u001b[49m\u001b[43m \u001b[49m\u001b[38;5;124;43m\"\u001b[39;49m\u001b[38;5;124;43m$_id\u001b[39;49m\u001b[38;5;124;43m\"\u001b[39;49m\u001b[43m,\u001b[49m\u001b[43m \u001b[49m\u001b[38;5;124;43m\"\u001b[39;49m\u001b[38;5;124;43mscore\u001b[39;49m\u001b[38;5;124;43m\"\u001b[39;49m\u001b[43m:\u001b[49m\u001b[43m \u001b[49m\u001b[43m{\u001b[49m\u001b[38;5;124;43m\"\u001b[39;49m\u001b[38;5;124;43m$sum\u001b[39;49m\u001b[38;5;124;43m\"\u001b[39;49m\u001b[43m:\u001b[49m\u001b[43m \u001b[49m\u001b[38;5;124;43m\"\u001b[39;49m\u001b[38;5;124;43m$keywords.reciprocal\u001b[39;49m\u001b[38;5;124;43m\"\u001b[39;49m\u001b[43m}\u001b[49m\u001b[43m,\u001b[49m\u001b[43m \u001b[49m\u001b[38;5;124;43m\"\u001b[39;49m\u001b[38;5;124;43mrecordID\u001b[39;49m\u001b[38;5;124;43m\"\u001b[39;49m\u001b[43m:\u001b[49m\u001b[43m \u001b[49m\u001b[43m{\u001b[49m\u001b[38;5;124;43m\"\u001b[39;49m\u001b[38;5;124;43m$first\u001b[39;49m\u001b[38;5;124;43m\"\u001b[39;49m\u001b[43m:\u001b[49m\u001b[43m \u001b[49m\u001b[38;5;124;43m\"\u001b[39;49m\u001b[38;5;124;43m$recordID\u001b[39;49m\u001b[38;5;124;43m\"\u001b[39;49m\u001b[43m}\u001b[49m\u001b[43m}\u001b[49m\u001b[43m}\u001b[49m\u001b[43m,\u001b[49m\n\u001b[1;32m    139\u001b[0m \u001b[43m                \u001b[49m\u001b[43m{\u001b[49m\u001b[38;5;124;43m\"\u001b[39;49m\u001b[38;5;124;43m$sort\u001b[39;49m\u001b[38;5;124;43m\"\u001b[39;49m\u001b[43m:\u001b[49m\u001b[43m \u001b[49m\u001b[43m{\u001b[49m\u001b[38;5;124;43m\"\u001b[39;49m\u001b[38;5;124;43mscore\u001b[39;49m\u001b[38;5;124;43m\"\u001b[39;49m\u001b[43m:\u001b[49m\u001b[43m \u001b[49m\u001b[38;5;241;43m-\u001b[39;49m\u001b[38;5;241;43m1\u001b[39;49m\u001b[43m}\u001b[49m\u001b[43m}\u001b[49m\u001b[43m,\u001b[49m\n\u001b[1;32m    140\u001b[0m \u001b[43m                \u001b[49m\u001b[43m{\u001b[49m\u001b[38;5;124;43m\"\u001b[39;49m\u001b[38;5;124;43m$limit\u001b[39;49m\u001b[38;5;124;43m\"\u001b[39;49m\u001b[43m:\u001b[49m\u001b[43m \u001b[49m\u001b[38;5;28;43mself\u001b[39;49m\u001b[38;5;241;43m.\u001b[39;49m\u001b[43mk\u001b[49m\u001b[43m}\u001b[49m\u001b[43m,\u001b[49m\n\u001b[1;32m    141\u001b[0m \u001b[43m                \u001b[49m\u001b[43m{\u001b[49m\u001b[38;5;124;43m\"\u001b[39;49m\u001b[38;5;124;43m$addFields\u001b[39;49m\u001b[38;5;124;43m\"\u001b[39;49m\u001b[43m:\u001b[49m\u001b[43m \u001b[49m\u001b[43m{\u001b[49m\u001b[38;5;124;43m\"\u001b[39;49m\u001b[38;5;124;43mkw_score\u001b[39;49m\u001b[38;5;124;43m\"\u001b[39;49m\u001b[43m:\u001b[49m\u001b[43m \u001b[49m\u001b[43m{\u001b[49m\u001b[38;5;124;43m\"\u001b[39;49m\u001b[38;5;124;43m$divide\u001b[39;49m\u001b[38;5;124;43m\"\u001b[39;49m\u001b[43m:\u001b[49m\u001b[43m \u001b[49m\u001b[43m[\u001b[49m\u001b[38;5;241;43m1.0\u001b[39;49m\u001b[43m,\u001b[49m\u001b[43m \u001b[49m\u001b[43m{\u001b[49m\u001b[38;5;124;43m\"\u001b[39;49m\u001b[38;5;124;43m$add\u001b[39;49m\u001b[38;5;124;43m\"\u001b[39;49m\u001b[43m:\u001b[49m\u001b[43m \u001b[49m\u001b[43m[\u001b[49m\u001b[38;5;124;43m\"\u001b[39;49m\u001b[38;5;124;43m$score\u001b[39;49m\u001b[38;5;124;43m\"\u001b[39;49m\u001b[43m,\u001b[49m\u001b[43m \u001b[49m\u001b[38;5;28;43mself\u001b[39;49m\u001b[38;5;241;43m.\u001b[39;49m\u001b[43mkeyword_penalty\u001b[49m\u001b[43m,\u001b[49m\u001b[43m \u001b[49m\u001b[38;5;241;43m1\u001b[39;49m\u001b[43m]\u001b[49m\u001b[43m}\u001b[49m\u001b[43m]\u001b[49m\u001b[43m}\u001b[49m\u001b[43m}\u001b[49m\u001b[43m}\u001b[49m\u001b[43m,\u001b[49m\n\u001b[1;32m    142\u001b[0m \u001b[43m                \u001b[49m\u001b[43m{\u001b[49m\u001b[38;5;124;43m\"\u001b[39;49m\u001b[38;5;124;43m$project\u001b[39;49m\u001b[38;5;124;43m\"\u001b[39;49m\u001b[43m:\u001b[49m\u001b[43m \u001b[49m\u001b[43m{\u001b[49m\u001b[38;5;124;43m\"\u001b[39;49m\u001b[38;5;124;43mkw_score\u001b[39;49m\u001b[38;5;124;43m\"\u001b[39;49m\u001b[43m:\u001b[49m\u001b[43m \u001b[49m\u001b[38;5;241;43m1\u001b[39;49m\u001b[43m,\u001b[49m\u001b[38;5;124;43m\"\u001b[39;49m\u001b[38;5;124;43m_id\u001b[39;49m\u001b[38;5;124;43m\"\u001b[39;49m\u001b[43m:\u001b[49m\u001b[43m \u001b[49m\u001b[38;5;241;43m1\u001b[39;49m\u001b[43m,\u001b[49m\u001b[43m \u001b[49m\u001b[38;5;124;43m\"\u001b[39;49m\u001b[38;5;124;43mrecordID\u001b[39;49m\u001b[38;5;124;43m\"\u001b[39;49m\u001b[43m:\u001b[49m\u001b[43m \u001b[49m\u001b[38;5;241;43m1\u001b[39;49m\u001b[43m}\u001b[49m\u001b[43m}\u001b[49m\n\u001b[1;32m    143\u001b[0m \u001b[43m              \u001b[49m\u001b[43m]\u001b[49m\n\u001b[1;32m    144\u001b[0m \u001b[43m        \u001b[49m\u001b[43m}\u001b[49m\n\u001b[1;32m    145\u001b[0m \u001b[43m    \u001b[49m\u001b[43m}\u001b[49m\u001b[43m,\u001b[49m\n\u001b[1;32m    146\u001b[0m \u001b[43m    \u001b[49m\u001b[43m{\u001b[49m\n\u001b[1;32m    147\u001b[0m \u001b[43m        \u001b[49m\u001b[38;5;124;43m\"\u001b[39;49m\u001b[38;5;124;43m$group\u001b[39;49m\u001b[38;5;124;43m\"\u001b[39;49m\u001b[43m:\u001b[49m\u001b[43m \u001b[49m\u001b[43m{\u001b[49m\n\u001b[1;32m    148\u001b[0m \u001b[43m            \u001b[49m\u001b[38;5;124;43m\"\u001b[39;49m\u001b[38;5;124;43m_id\u001b[39;49m\u001b[38;5;124;43m\"\u001b[39;49m\u001b[43m:\u001b[49m\u001b[43m \u001b[49m\u001b[38;5;124;43m\"\u001b[39;49m\u001b[38;5;124;43m$_id\u001b[39;49m\u001b[38;5;124;43m\"\u001b[39;49m\u001b[43m,\u001b[49m\n\u001b[1;32m    149\u001b[0m \u001b[43m            \u001b[49m\u001b[38;5;124;43m\"\u001b[39;49m\u001b[38;5;124;43mrecordID\u001b[39;49m\u001b[38;5;124;43m\"\u001b[39;49m\u001b[43m:\u001b[49m\u001b[43m \u001b[49m\u001b[43m{\u001b[49m\u001b[38;5;124;43m\"\u001b[39;49m\u001b[38;5;124;43m$first\u001b[39;49m\u001b[38;5;124;43m\"\u001b[39;49m\u001b[43m:\u001b[49m\u001b[43m \u001b[49m\u001b[38;5;124;43m\"\u001b[39;49m\u001b[38;5;124;43m$recordID\u001b[39;49m\u001b[38;5;124;43m\"\u001b[39;49m\u001b[43m}\u001b[49m\u001b[43m,\u001b[49m\n\u001b[1;32m    150\u001b[0m \u001b[43m            \u001b[49m\u001b[38;5;124;43m\"\u001b[39;49m\u001b[38;5;124;43mvs_score\u001b[39;49m\u001b[38;5;124;43m\"\u001b[39;49m\u001b[43m:\u001b[49m\u001b[43m \u001b[49m\u001b[43m{\u001b[49m\u001b[38;5;124;43m\"\u001b[39;49m\u001b[38;5;124;43m$max\u001b[39;49m\u001b[38;5;124;43m\"\u001b[39;49m\u001b[43m:\u001b[49m\u001b[43m \u001b[49m\u001b[38;5;124;43m\"\u001b[39;49m\u001b[38;5;124;43m$vs_score\u001b[39;49m\u001b[38;5;124;43m\"\u001b[39;49m\u001b[43m}\u001b[49m\u001b[43m,\u001b[49m\n\u001b[1;32m    151\u001b[0m \u001b[43m            \u001b[49m\u001b[38;5;124;43m\"\u001b[39;49m\u001b[38;5;124;43mkw_score\u001b[39;49m\u001b[38;5;124;43m\"\u001b[39;49m\u001b[43m:\u001b[49m\u001b[43m \u001b[49m\u001b[43m{\u001b[49m\u001b[38;5;124;43m\"\u001b[39;49m\u001b[38;5;124;43m$max\u001b[39;49m\u001b[38;5;124;43m\"\u001b[39;49m\u001b[43m:\u001b[49m\u001b[43m \u001b[49m\u001b[38;5;124;43m\"\u001b[39;49m\u001b[38;5;124;43m$kw_score\u001b[39;49m\u001b[38;5;124;43m\"\u001b[39;49m\u001b[43m}\u001b[49m\n\u001b[1;32m    152\u001b[0m \u001b[43m        \u001b[49m\u001b[43m}\u001b[49m\n\u001b[1;32m    153\u001b[0m \u001b[43m    \u001b[49m\u001b[43m}\u001b[49m\u001b[43m,\u001b[49m\n\u001b[1;32m    154\u001b[0m \u001b[43m    \u001b[49m\u001b[43m{\u001b[49m\n\u001b[1;32m    155\u001b[0m \u001b[43m        \u001b[49m\u001b[38;5;124;43m\"\u001b[39;49m\u001b[38;5;124;43m$project\u001b[39;49m\u001b[38;5;124;43m\"\u001b[39;49m\u001b[43m:\u001b[49m\u001b[43m \u001b[49m\u001b[43m{\u001b[49m\n\u001b[1;32m    156\u001b[0m \u001b[43m          \u001b[49m\u001b[38;5;124;43m\"\u001b[39;49m\u001b[38;5;124;43m_id\u001b[39;49m\u001b[38;5;124;43m\"\u001b[39;49m\u001b[43m:\u001b[49m\u001b[43m \u001b[49m\u001b[38;5;241;43m1\u001b[39;49m\u001b[43m,\u001b[49m\n\u001b[1;32m    157\u001b[0m \u001b[43m          \u001b[49m\u001b[38;5;124;43m\"\u001b[39;49m\u001b[38;5;124;43mrecordID\u001b[39;49m\u001b[38;5;124;43m\"\u001b[39;49m\u001b[43m:\u001b[49m\u001b[43m \u001b[49m\u001b[38;5;241;43m1\u001b[39;49m\u001b[43m,\u001b[49m\n\u001b[1;32m    158\u001b[0m \u001b[43m          \u001b[49m\u001b[38;5;124;43m\"\u001b[39;49m\u001b[38;5;124;43mvs_score\u001b[39;49m\u001b[38;5;124;43m\"\u001b[39;49m\u001b[43m:\u001b[49m\u001b[43m \u001b[49m\u001b[43m{\u001b[49m\u001b[38;5;124;43m\"\u001b[39;49m\u001b[38;5;124;43m$ifNull\u001b[39;49m\u001b[38;5;124;43m\"\u001b[39;49m\u001b[43m:\u001b[49m\u001b[43m \u001b[49m\u001b[43m[\u001b[49m\u001b[38;5;124;43m\"\u001b[39;49m\u001b[38;5;124;43m$vs_score\u001b[39;49m\u001b[38;5;124;43m\"\u001b[39;49m\u001b[43m,\u001b[49m\u001b[43m \u001b[49m\u001b[38;5;241;43m0\u001b[39;49m\u001b[43m]\u001b[49m\u001b[43m}\u001b[49m\u001b[43m,\u001b[49m\n\u001b[1;32m    159\u001b[0m \u001b[43m          \u001b[49m\u001b[38;5;124;43m\"\u001b[39;49m\u001b[38;5;124;43mkw_score\u001b[39;49m\u001b[38;5;124;43m\"\u001b[39;49m\u001b[43m:\u001b[49m\u001b[43m \u001b[49m\u001b[43m{\u001b[49m\u001b[38;5;124;43m\"\u001b[39;49m\u001b[38;5;124;43m$ifNull\u001b[39;49m\u001b[38;5;124;43m\"\u001b[39;49m\u001b[43m:\u001b[49m\u001b[43m \u001b[49m\u001b[43m[\u001b[49m\u001b[38;5;124;43m\"\u001b[39;49m\u001b[38;5;124;43m$kw_score\u001b[39;49m\u001b[38;5;124;43m\"\u001b[39;49m\u001b[43m,\u001b[49m\u001b[43m \u001b[49m\u001b[38;5;241;43m0\u001b[39;49m\u001b[43m]\u001b[49m\u001b[43m}\u001b[49m\n\u001b[1;32m    160\u001b[0m \u001b[43m        \u001b[49m\u001b[43m}\u001b[49m\n\u001b[1;32m    161\u001b[0m \u001b[43m    \u001b[49m\u001b[43m}\u001b[49m\u001b[43m,\u001b[49m\n\u001b[1;32m    162\u001b[0m \u001b[43m    \u001b[49m\u001b[43m{\u001b[49m\n\u001b[1;32m    163\u001b[0m \u001b[43m        \u001b[49m\u001b[38;5;124;43m\"\u001b[39;49m\u001b[38;5;124;43m$project\u001b[39;49m\u001b[38;5;124;43m\"\u001b[39;49m\u001b[43m:\u001b[49m\u001b[43m \u001b[49m\u001b[43m{\u001b[49m\n\u001b[1;32m    164\u001b[0m \u001b[43m            \u001b[49m\u001b[38;5;124;43m\"\u001b[39;49m\u001b[38;5;124;43mscore\u001b[39;49m\u001b[38;5;124;43m\"\u001b[39;49m\u001b[43m:\u001b[49m\u001b[43m \u001b[49m\u001b[43m{\u001b[49m\u001b[38;5;124;43m\"\u001b[39;49m\u001b[38;5;124;43m$add\u001b[39;49m\u001b[38;5;124;43m\"\u001b[39;49m\u001b[43m:\u001b[49m\u001b[43m \u001b[49m\u001b[43m[\u001b[49m\u001b[38;5;124;43m\"\u001b[39;49m\u001b[38;5;124;43m$kw_score\u001b[39;49m\u001b[38;5;124;43m\"\u001b[39;49m\u001b[43m,\u001b[49m\u001b[43m \u001b[49m\u001b[38;5;124;43m\"\u001b[39;49m\u001b[38;5;124;43m$vs_score\u001b[39;49m\u001b[38;5;124;43m\"\u001b[39;49m\u001b[43m]\u001b[49m\u001b[43m}\u001b[49m\u001b[43m,\u001b[49m\n\u001b[1;32m    165\u001b[0m \u001b[43m            \u001b[49m\u001b[38;5;124;43m\"\u001b[39;49m\u001b[38;5;124;43m_id\u001b[39;49m\u001b[38;5;124;43m\"\u001b[39;49m\u001b[43m:\u001b[49m\u001b[43m \u001b[49m\u001b[38;5;241;43m1\u001b[39;49m\u001b[43m,\u001b[49m\n\u001b[1;32m    166\u001b[0m \u001b[43m            \u001b[49m\u001b[38;5;124;43m\"\u001b[39;49m\u001b[38;5;124;43mrecordID\u001b[39;49m\u001b[38;5;124;43m\"\u001b[39;49m\u001b[43m:\u001b[49m\u001b[43m \u001b[49m\u001b[38;5;241;43m1\u001b[39;49m\u001b[43m,\u001b[49m\n\u001b[1;32m    167\u001b[0m \u001b[43m            \u001b[49m\u001b[38;5;124;43m\"\u001b[39;49m\u001b[38;5;124;43mvs_score\u001b[39;49m\u001b[38;5;124;43m\"\u001b[39;49m\u001b[43m:\u001b[49m\u001b[43m \u001b[49m\u001b[38;5;241;43m1\u001b[39;49m\u001b[43m,\u001b[49m\n\u001b[1;32m    168\u001b[0m \u001b[43m            \u001b[49m\u001b[38;5;124;43m\"\u001b[39;49m\u001b[38;5;124;43mkw_score\u001b[39;49m\u001b[38;5;124;43m\"\u001b[39;49m\u001b[43m:\u001b[49m\u001b[43m \u001b[49m\u001b[38;5;241;43m1\u001b[39;49m\n\u001b[1;32m    169\u001b[0m \u001b[43m        \u001b[49m\u001b[43m}\u001b[49m\n\u001b[1;32m    170\u001b[0m \u001b[43m    \u001b[49m\u001b[43m}\u001b[49m\u001b[43m,\u001b[49m\n\u001b[1;32m    171\u001b[0m \u001b[43m  \u001b[49m\u001b[43m{\u001b[49m\u001b[38;5;124;43m\"\u001b[39;49m\u001b[38;5;124;43m$sort\u001b[39;49m\u001b[38;5;124;43m\"\u001b[39;49m\u001b[43m:\u001b[49m\u001b[43m \u001b[49m\u001b[43m{\u001b[49m\u001b[38;5;124;43m\"\u001b[39;49m\u001b[38;5;124;43mscore\u001b[39;49m\u001b[38;5;124;43m\"\u001b[39;49m\u001b[43m:\u001b[49m\u001b[43m \u001b[49m\u001b[38;5;241;43m-\u001b[39;49m\u001b[38;5;241;43m1\u001b[39;49m\u001b[43m}\u001b[49m\u001b[43m}\u001b[49m\u001b[43m,\u001b[49m\n\u001b[1;32m    172\u001b[0m \u001b[43m  \u001b[49m\u001b[43m{\u001b[49m\u001b[38;5;124;43m\"\u001b[39;49m\u001b[38;5;124;43m$limit\u001b[39;49m\u001b[38;5;124;43m\"\u001b[39;49m\u001b[43m:\u001b[49m\u001b[43m \u001b[49m\u001b[38;5;28;43mself\u001b[39;49m\u001b[38;5;241;43m.\u001b[39;49m\u001b[43mk\u001b[49m\u001b[43m}\u001b[49m\u001b[43m   \u001b[49m\n\u001b[1;32m    173\u001b[0m \u001b[43m\u001b[49m\u001b[43m]\u001b[49m\u001b[43m)\u001b[49m\n\u001b[1;32m    175\u001b[0m \u001b[38;5;28;01mreturn\u001b[39;00m hybrid_results\n",
      "File \u001b[0;32m~/.local/lib/python3.10/site-packages/pymongo/collection.py:2719\u001b[0m, in \u001b[0;36mCollection.aggregate\u001b[0;34m(self, pipeline, session, let, comment, **kwargs)\u001b[0m\n\u001b[1;32m   2634\u001b[0m \u001b[38;5;28;01mdef\u001b[39;00m \u001b[38;5;21maggregate\u001b[39m(\n\u001b[1;32m   2635\u001b[0m     \u001b[38;5;28mself\u001b[39m,\n\u001b[1;32m   2636\u001b[0m     pipeline: _Pipeline,\n\u001b[0;32m   (...)\u001b[0m\n\u001b[1;32m   2640\u001b[0m     \u001b[38;5;241m*\u001b[39m\u001b[38;5;241m*\u001b[39mkwargs: Any,\n\u001b[1;32m   2641\u001b[0m ) \u001b[38;5;241m-\u001b[39m\u001b[38;5;241m>\u001b[39m CommandCursor[_DocumentType]:\n\u001b[1;32m   2642\u001b[0m     \u001b[38;5;124;03m\"\"\"Perform an aggregation using the aggregation framework on this\u001b[39;00m\n\u001b[1;32m   2643\u001b[0m \u001b[38;5;124;03m    collection.\u001b[39;00m\n\u001b[1;32m   2644\u001b[0m \n\u001b[0;32m   (...)\u001b[0m\n\u001b[1;32m   2717\u001b[0m \u001b[38;5;124;03m        https://mongodb.com/docs/manual/reference/command/aggregate\u001b[39;00m\n\u001b[1;32m   2718\u001b[0m \u001b[38;5;124;03m    \"\"\"\u001b[39;00m\n\u001b[0;32m-> 2719\u001b[0m     \u001b[38;5;28;01mwith\u001b[39;00m \u001b[38;5;28mself\u001b[39m\u001b[38;5;241m.\u001b[39m__database\u001b[38;5;241m.\u001b[39mclient\u001b[38;5;241m.\u001b[39m_tmp_session(session, close\u001b[38;5;241m=\u001b[39m\u001b[38;5;28;01mFalse\u001b[39;00m) \u001b[38;5;28;01mas\u001b[39;00m s:\n\u001b[1;32m   2720\u001b[0m         \u001b[38;5;28;01mreturn\u001b[39;00m \u001b[38;5;28mself\u001b[39m\u001b[38;5;241m.\u001b[39m_aggregate(\n\u001b[1;32m   2721\u001b[0m             _CollectionAggregationCommand,\n\u001b[1;32m   2722\u001b[0m             pipeline,\n\u001b[0;32m   (...)\u001b[0m\n\u001b[1;32m   2728\u001b[0m             \u001b[38;5;241m*\u001b[39m\u001b[38;5;241m*\u001b[39mkwargs,\n\u001b[1;32m   2729\u001b[0m         )\n",
      "File \u001b[0;32m/ext3/pyspark/lib/python3.10/contextlib.py:135\u001b[0m, in \u001b[0;36m_GeneratorContextManager.__enter__\u001b[0;34m(self)\u001b[0m\n\u001b[1;32m    133\u001b[0m \u001b[38;5;28;01mdel\u001b[39;00m \u001b[38;5;28mself\u001b[39m\u001b[38;5;241m.\u001b[39margs, \u001b[38;5;28mself\u001b[39m\u001b[38;5;241m.\u001b[39mkwds, \u001b[38;5;28mself\u001b[39m\u001b[38;5;241m.\u001b[39mfunc\n\u001b[1;32m    134\u001b[0m \u001b[38;5;28;01mtry\u001b[39;00m:\n\u001b[0;32m--> 135\u001b[0m     \u001b[38;5;28;01mreturn\u001b[39;00m \u001b[38;5;28;43mnext\u001b[39;49m\u001b[43m(\u001b[49m\u001b[38;5;28;43mself\u001b[39;49m\u001b[38;5;241;43m.\u001b[39;49m\u001b[43mgen\u001b[49m\u001b[43m)\u001b[49m\n\u001b[1;32m    136\u001b[0m \u001b[38;5;28;01mexcept\u001b[39;00m \u001b[38;5;167;01mStopIteration\u001b[39;00m:\n\u001b[1;32m    137\u001b[0m     \u001b[38;5;28;01mraise\u001b[39;00m \u001b[38;5;167;01mRuntimeError\u001b[39;00m(\u001b[38;5;124m\"\u001b[39m\u001b[38;5;124mgenerator didn\u001b[39m\u001b[38;5;124m'\u001b[39m\u001b[38;5;124mt yield\u001b[39m\u001b[38;5;124m\"\u001b[39m) \u001b[38;5;28;01mfrom\u001b[39;00m \u001b[38;5;28mNone\u001b[39m\n",
      "File \u001b[0;32m~/.local/lib/python3.10/site-packages/pymongo/mongo_client.py:1840\u001b[0m, in \u001b[0;36mMongoClient._tmp_session\u001b[0;34m(self, session, close)\u001b[0m\n\u001b[1;32m   1837\u001b[0m     \u001b[38;5;28;01myield\u001b[39;00m session\n\u001b[1;32m   1838\u001b[0m     \u001b[38;5;28;01mreturn\u001b[39;00m\n\u001b[0;32m-> 1840\u001b[0m s \u001b[38;5;241m=\u001b[39m \u001b[38;5;28;43mself\u001b[39;49m\u001b[38;5;241;43m.\u001b[39;49m\u001b[43m_ensure_session\u001b[49m\u001b[43m(\u001b[49m\u001b[43msession\u001b[49m\u001b[43m)\u001b[49m\n\u001b[1;32m   1841\u001b[0m \u001b[38;5;28;01mif\u001b[39;00m s:\n\u001b[1;32m   1842\u001b[0m     \u001b[38;5;28;01mtry\u001b[39;00m:\n",
      "File \u001b[0;32m~/.local/lib/python3.10/site-packages/pymongo/mongo_client.py:1823\u001b[0m, in \u001b[0;36mMongoClient._ensure_session\u001b[0;34m(self, session)\u001b[0m\n\u001b[1;32m   1818\u001b[0m     \u001b[38;5;28;01mreturn\u001b[39;00m session\n\u001b[1;32m   1820\u001b[0m \u001b[38;5;28;01mtry\u001b[39;00m:\n\u001b[1;32m   1821\u001b[0m     \u001b[38;5;66;03m# Don't make implicit sessions causally consistent. Applications\u001b[39;00m\n\u001b[1;32m   1822\u001b[0m     \u001b[38;5;66;03m# should always opt-in.\u001b[39;00m\n\u001b[0;32m-> 1823\u001b[0m     \u001b[38;5;28;01mreturn\u001b[39;00m \u001b[38;5;28;43mself\u001b[39;49m\u001b[38;5;241;43m.\u001b[39;49m\u001b[43m__start_session\u001b[49m\u001b[43m(\u001b[49m\u001b[38;5;28;43;01mTrue\u001b[39;49;00m\u001b[43m,\u001b[49m\u001b[43m \u001b[49m\u001b[43mcausal_consistency\u001b[49m\u001b[38;5;241;43m=\u001b[39;49m\u001b[38;5;28;43;01mFalse\u001b[39;49;00m\u001b[43m)\u001b[49m\n\u001b[1;32m   1824\u001b[0m \u001b[38;5;28;01mexcept\u001b[39;00m (ConfigurationError, InvalidOperation):\n\u001b[1;32m   1825\u001b[0m     \u001b[38;5;66;03m# Sessions not supported.\u001b[39;00m\n\u001b[1;32m   1826\u001b[0m     \u001b[38;5;28;01mreturn\u001b[39;00m \u001b[38;5;28;01mNone\u001b[39;00m\n",
      "File \u001b[0;32m~/.local/lib/python3.10/site-packages/pymongo/mongo_client.py:1766\u001b[0m, in \u001b[0;36mMongoClient.__start_session\u001b[0;34m(self, implicit, **kwargs)\u001b[0m\n\u001b[1;32m   1763\u001b[0m \u001b[38;5;28;01mdef\u001b[39;00m \u001b[38;5;21m__start_session\u001b[39m(\u001b[38;5;28mself\u001b[39m, implicit: \u001b[38;5;28mbool\u001b[39m, \u001b[38;5;241m*\u001b[39m\u001b[38;5;241m*\u001b[39mkwargs: Any) \u001b[38;5;241m-\u001b[39m\u001b[38;5;241m>\u001b[39m ClientSession:\n\u001b[1;32m   1764\u001b[0m     \u001b[38;5;66;03m# Raises ConfigurationError if sessions are not supported.\u001b[39;00m\n\u001b[1;32m   1765\u001b[0m     \u001b[38;5;28;01mif\u001b[39;00m implicit:\n\u001b[0;32m-> 1766\u001b[0m         \u001b[38;5;28;43mself\u001b[39;49m\u001b[38;5;241;43m.\u001b[39;49m\u001b[43m_topology\u001b[49m\u001b[38;5;241;43m.\u001b[39;49m\u001b[43m_check_implicit_session_support\u001b[49m\u001b[43m(\u001b[49m\u001b[43m)\u001b[49m\n\u001b[1;32m   1767\u001b[0m         server_session: Union[_EmptyServerSession, _ServerSession] \u001b[38;5;241m=\u001b[39m _EmptyServerSession()\n\u001b[1;32m   1768\u001b[0m     \u001b[38;5;28;01melse\u001b[39;00m:\n",
      "File \u001b[0;32m~/.local/lib/python3.10/site-packages/pymongo/topology.py:573\u001b[0m, in \u001b[0;36mTopology._check_implicit_session_support\u001b[0;34m(self)\u001b[0m\n\u001b[1;32m    571\u001b[0m \u001b[38;5;28;01mdef\u001b[39;00m \u001b[38;5;21m_check_implicit_session_support\u001b[39m(\u001b[38;5;28mself\u001b[39m) \u001b[38;5;241m-\u001b[39m\u001b[38;5;241m>\u001b[39m \u001b[38;5;28;01mNone\u001b[39;00m:\n\u001b[1;32m    572\u001b[0m     \u001b[38;5;28;01mwith\u001b[39;00m \u001b[38;5;28mself\u001b[39m\u001b[38;5;241m.\u001b[39m_lock:\n\u001b[0;32m--> 573\u001b[0m         \u001b[38;5;28;43mself\u001b[39;49m\u001b[38;5;241;43m.\u001b[39;49m\u001b[43m_check_session_support\u001b[49m\u001b[43m(\u001b[49m\u001b[43m)\u001b[49m\n",
      "File \u001b[0;32m~/.local/lib/python3.10/site-packages/pymongo/topology.py:589\u001b[0m, in \u001b[0;36mTopology._check_session_support\u001b[0;34m(self)\u001b[0m\n\u001b[1;32m    585\u001b[0m         \u001b[38;5;28mself\u001b[39m\u001b[38;5;241m.\u001b[39m_select_servers_loop(\n\u001b[1;32m    586\u001b[0m             any_server_selector, \u001b[38;5;28mself\u001b[39m\u001b[38;5;241m.\u001b[39mget_server_selection_timeout(), \u001b[38;5;28;01mNone\u001b[39;00m\n\u001b[1;32m    587\u001b[0m         )\n\u001b[1;32m    588\u001b[0m \u001b[38;5;28;01melif\u001b[39;00m \u001b[38;5;129;01mnot\u001b[39;00m \u001b[38;5;28mself\u001b[39m\u001b[38;5;241m.\u001b[39m_description\u001b[38;5;241m.\u001b[39mreadable_servers:\n\u001b[0;32m--> 589\u001b[0m     \u001b[38;5;28;43mself\u001b[39;49m\u001b[38;5;241;43m.\u001b[39;49m\u001b[43m_select_servers_loop\u001b[49m\u001b[43m(\u001b[49m\n\u001b[1;32m    590\u001b[0m \u001b[43m        \u001b[49m\u001b[43mreadable_server_selector\u001b[49m\u001b[43m,\u001b[49m\u001b[43m \u001b[49m\u001b[38;5;28;43mself\u001b[39;49m\u001b[38;5;241;43m.\u001b[39;49m\u001b[43mget_server_selection_timeout\u001b[49m\u001b[43m(\u001b[49m\u001b[43m)\u001b[49m\u001b[43m,\u001b[49m\u001b[43m \u001b[49m\u001b[38;5;28;43;01mNone\u001b[39;49;00m\n\u001b[1;32m    591\u001b[0m \u001b[43m    \u001b[49m\u001b[43m)\u001b[49m\n\u001b[1;32m    593\u001b[0m session_timeout \u001b[38;5;241m=\u001b[39m \u001b[38;5;28mself\u001b[39m\u001b[38;5;241m.\u001b[39m_description\u001b[38;5;241m.\u001b[39mlogical_session_timeout_minutes\n\u001b[1;32m    594\u001b[0m \u001b[38;5;28;01mif\u001b[39;00m session_timeout \u001b[38;5;129;01mis\u001b[39;00m \u001b[38;5;28;01mNone\u001b[39;00m:\n",
      "File \u001b[0;32m~/.local/lib/python3.10/site-packages/pymongo/topology.py:259\u001b[0m, in \u001b[0;36mTopology._select_servers_loop\u001b[0;34m(self, selector, timeout, address)\u001b[0m\n\u001b[1;32m    256\u001b[0m \u001b[38;5;28;01mwhile\u001b[39;00m \u001b[38;5;129;01mnot\u001b[39;00m server_descriptions:\n\u001b[1;32m    257\u001b[0m     \u001b[38;5;66;03m# No suitable servers.\u001b[39;00m\n\u001b[1;32m    258\u001b[0m     \u001b[38;5;28;01mif\u001b[39;00m timeout \u001b[38;5;241m==\u001b[39m \u001b[38;5;241m0\u001b[39m \u001b[38;5;129;01mor\u001b[39;00m now \u001b[38;5;241m>\u001b[39m end_time:\n\u001b[0;32m--> 259\u001b[0m         \u001b[38;5;28;01mraise\u001b[39;00m ServerSelectionTimeoutError(\n\u001b[1;32m    260\u001b[0m             \u001b[38;5;124mf\u001b[39m\u001b[38;5;124m\"\u001b[39m\u001b[38;5;132;01m{\u001b[39;00m\u001b[38;5;28mself\u001b[39m\u001b[38;5;241m.\u001b[39m_error_message(selector)\u001b[38;5;132;01m}\u001b[39;00m\u001b[38;5;124m, Timeout: \u001b[39m\u001b[38;5;132;01m{\u001b[39;00mtimeout\u001b[38;5;132;01m}\u001b[39;00m\u001b[38;5;124ms, Topology Description: \u001b[39m\u001b[38;5;132;01m{\u001b[39;00m\u001b[38;5;28mself\u001b[39m\u001b[38;5;241m.\u001b[39mdescription\u001b[38;5;132;01m!r}\u001b[39;00m\u001b[38;5;124m\"\u001b[39m\n\u001b[1;32m    261\u001b[0m         )\n\u001b[1;32m    263\u001b[0m     \u001b[38;5;28mself\u001b[39m\u001b[38;5;241m.\u001b[39m_ensure_opened()\n\u001b[1;32m    264\u001b[0m     \u001b[38;5;28mself\u001b[39m\u001b[38;5;241m.\u001b[39m_request_check_all()\n",
      "\u001b[0;31mServerSelectionTimeoutError\u001b[0m: bigdatafinalproject-shard-00-01.sl03s.mongodb.net:27017: timed out (configured timeouts: socketTimeoutMS: 20000.0ms, connectTimeoutMS: 20000.0ms),bigdatafinalproject-shard-00-02.sl03s.mongodb.net:27017: timed out (configured timeouts: socketTimeoutMS: 20000.0ms, connectTimeoutMS: 20000.0ms),bigdatafinalproject-shard-00-00.sl03s.mongodb.net:27017: timed out (configured timeouts: socketTimeoutMS: 20000.0ms, connectTimeoutMS: 20000.0ms), Timeout: 30s, Topology Description: <TopologyDescription id: 663abd6f4d9e3123d7e4cbab, topology_type: ReplicaSetNoPrimary, servers: [<ServerDescription ('bigdatafinalproject-shard-00-00.sl03s.mongodb.net', 27017) server_type: Unknown, rtt: None, error=NetworkTimeout('bigdatafinalproject-shard-00-00.sl03s.mongodb.net:27017: timed out (configured timeouts: socketTimeoutMS: 20000.0ms, connectTimeoutMS: 20000.0ms)')>, <ServerDescription ('bigdatafinalproject-shard-00-01.sl03s.mongodb.net', 27017) server_type: Unknown, rtt: None, error=NetworkTimeout('bigdatafinalproject-shard-00-01.sl03s.mongodb.net:27017: timed out (configured timeouts: socketTimeoutMS: 20000.0ms, connectTimeoutMS: 20000.0ms)')>, <ServerDescription ('bigdatafinalproject-shard-00-02.sl03s.mongodb.net', 27017) server_type: Unknown, rtt: None, error=NetworkTimeout('bigdatafinalproject-shard-00-02.sl03s.mongodb.net:27017: timed out (configured timeouts: socketTimeoutMS: 20000.0ms, connectTimeoutMS: 20000.0ms)')>]>"
     ]
    }
   ],
   "source": [
    "hor_layout = ipw.Layout(align_content='stretch', margin='0.1% 1% 0.1% 2% ', width='100%')\n",
    "\n",
    "app_title = ipw.HTML('<h1> YouTube for Newspapers </h1>', layout=hor_layout)\n",
    "app_footer = ipw.HTML('<p> Apache Spark, HDFS, MongoDB, NLP</p>', layout=hor_layout)\n",
    "\n",
    "headerBox = ipw.HBox([app_title]).add_class('box_style')\n",
    "footerBox = ipw.HBox([app_footer]).add_class('box_style')\n",
    "\n",
    "txt_keyword = ipw.Text(placeholder='Enter a Keyword', description='Keyword:', disabled=False, layout=ipw.Layout(width='auto', \n",
    "    margin='15px 10px 5px 2px')).add_class('widget_text')\n",
    "btnSearch = ipw.Button(description=\"Search!\", icon='search').add_class('button_style')\n",
    "box_layout = ipw.Layout(display='flex', flex_flow='column', align_items='center', width='100%')\n",
    "btnContainer = ipw.HBox(children=[btnSearch], layout=box_layout)\n",
    "\n",
    "\n",
    "def on_button_clicked(b):\n",
    "    start = time()\n",
    "    if len(txt_keyword.value.strip()) < 1:\n",
    "        popup(\"Enter search Key.\")\n",
    "    else:\n",
    "        main_panel.children = search(txt_keyword.value.lower())\n",
    "    stop = time()\n",
    "    print(stop-start)\n",
    "\n",
    "btnSearch.on_click(on_button_clicked)\n",
    "\n",
    "side_bar = ipw.VBox([txt_keyword, btnContainer]).add_class('side_bar')\n",
    "main_panel = ipw.VBox([])\n",
    "\n",
    "ipw.AppLayout(header=headerBox, left_sidebar=side_bar, center=main_panel, right_sidebar=None, footer=footerBox,\n",
    "    pane_widths=[2, 7, 0],\n",
    "    pane_heights=[1, 9, '40px'])"
   ]
  },
  {
   "cell_type": "code",
   "execution_count": null,
   "id": "d0b8e07b",
   "metadata": {},
   "outputs": [],
   "source": []
  }
 ],
 "metadata": {
  "kernelspec": {
   "display_name": "Python 3 (ipykernel)",
   "language": "python",
   "name": "python3"
  },
  "language_info": {
   "codemirror_mode": {
    "name": "ipython",
    "version": 3
   },
   "file_extension": ".py",
   "mimetype": "text/x-python",
   "name": "python",
   "nbconvert_exporter": "python",
   "pygments_lexer": "ipython3",
   "version": "3.10.6"
  }
 },
 "nbformat": 4,
 "nbformat_minor": 5
}
